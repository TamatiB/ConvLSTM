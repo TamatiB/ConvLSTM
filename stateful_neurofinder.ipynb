{
 "cells": [
  {
   "cell_type": "markdown",
   "metadata": {},
   "source": [
    "## Stateful ConvLSTM for Binrary Calcium Fluorescence Video Segmentation"
   ]
  },
  {
   "cell_type": "code",
   "execution_count": 1,
   "metadata": {},
   "outputs": [
    {
     "name": "stderr",
     "output_type": "stream",
     "text": [
      "/home/pelonomi/anaconda3/envs/tensorflowenv/lib/python3.5/importlib/_bootstrap.py:222: RuntimeWarning: numpy.dtype size changed, may indicate binary incompatibility. Expected 96, got 88\n",
      "  return f(*args, **kwds)\n",
      "/home/pelonomi/anaconda3/envs/tensorflowenv/lib/python3.5/site-packages/h5py/__init__.py:34: FutureWarning: Conversion of the second argument of issubdtype from `float` to `np.floating` is deprecated. In future, it will be treated as `np.float64 == np.dtype(float).type`.\n",
      "  from ._conv import register_converters as _register_converters\n",
      "Using TensorFlow backend.\n",
      "/home/pelonomi/anaconda3/envs/tensorflowenv/lib/python3.5/importlib/_bootstrap.py:222: RuntimeWarning: numpy.dtype size changed, may indicate binary incompatibility. Expected 96, got 88\n",
      "  return f(*args, **kwds)\n"
     ]
    }
   ],
   "source": [
    "import matplotlib.pyplot as plt\n",
    "%matplotlib inline \n",
    "import numpy as np\n",
    "import keras\n",
    "import cv2\n",
    "import h5py"
   ]
  },
  {
   "cell_type": "code",
   "execution_count": null,
   "metadata": {},
   "outputs": [],
   "source": [
    "frame_no = 0\n",
    "cap = cv2.VideoCapture('neurofinder_data/01.00.label.tif') #video_name is the video being called\n",
    "cap.set(1,frame_no); # Where frame_no is the frame you want\n",
    "ret, frame = cap.read() # Read the frame\n",
    "plt.imshow(frame)\n",
    "plt.show()\n",
    "print(frame.max(), frame.min())\n",
    "cap = cv2.VideoCapture('neurofinder_data/01.00.avi') #video_name is the video being called\n",
    "cap.set(1,frame_no); # Where frame_no is the frame you want\n",
    "ret, frame = cap.read() # Read the frame\n",
    "print(type(frame))\n",
    "plt.imshow(frame)\n",
    "plt.show()\n",
    "print(frame.max(), frame.min())\n",
    "print(type(frame))"
   ]
  },
  {
   "cell_type": "markdown",
   "metadata": {},
   "source": [
    "The input images thus need to be normalised because values are not within the range of 0 and 1. This will hopefully help the network to optimise better"
   ]
  },
  {
   "cell_type": "markdown",
   "metadata": {},
   "source": [
    "DEFINE MODEL AND TRAINING PROCEDURE"
   ]
  },
  {
   "cell_type": "code",
   "execution_count": 2,
   "metadata": {},
   "outputs": [],
   "source": [
    "from keras.utils import plot_model\n",
    "from keras.layers import (ConvLSTM2D, BatchNormalization, Convolution3D, Convolution2D,Conv2D,\n",
    "                          TimeDistributed, MaxPooling2D, UpSampling2D, Input, merge, Cropping2D, concatenate)\n"
   ]
  },
  {
   "cell_type": "code",
   "execution_count": null,
   "metadata": {},
   "outputs": [],
   "source": [
    "#unet model\n",
    "def tsu_net(batch_size, true_frag_len):\n",
    "    #This is not a sequential model because sequential models are specifically for\n",
    "    # linear sequences\n",
    "    #recurrent_activation='hard_sigmoid'\n",
    "    c = 12\n",
    "    input_shape = (None, 256, 256, 1)\n",
    "\n",
    "    input = Input(batch_shape= [batch_size, true_frag_len, 256,256, 1])\n",
    "    # 256,256\n",
    "    x = TimeDistributed(Conv2D(filters=3, \n",
    "                               kernel_size=(3,3), \n",
    "                               padding='same',\n",
    "                               activation='relu'))(input)\n",
    "    x = TimeDistributed(Conv2D(filters=3, \n",
    "                               kernel_size=(3,3), \n",
    "                               padding='same',\n",
    "                               activation='relu'))(x)\n",
    "    c1 = ConvLSTM2D(filters=8, kernel_size=(3, 3),\n",
    "                       input_shape=input_shape,\n",
    "                       padding='same', \n",
    "                       return_sequences=True,\n",
    "                       stateful = True)(x)\n",
    "    x = TimeDistributed(MaxPooling2D(pool_size=(2,2)))(c1)\n",
    "    \n",
    "    #128,128\n",
    "    x = TimeDistributed(Conv2D(filters=3, \n",
    "                               kernel_size=(3,3), \n",
    "                               padding='same',\n",
    "                               activation='relu'))(x)\n",
    "    x = TimeDistributed(Conv2D(filters=3, \n",
    "                               kernel_size=(3,3), \n",
    "                               padding='same',\n",
    "                               activation='relu'))(x)\n",
    "    c2 = ConvLSTM2D(filters=8, kernel_size=(3,3), \n",
    "                    padding='same', \n",
    "                    return_sequences=True,\n",
    "                    activation='tanh')(x)\n",
    "    \n",
    "    x = TimeDistributed(MaxPooling2D((2, 2), (2, 2)))(c2)\n",
    "    x = TimeDistributed(Conv2D(filters=3, \n",
    "                               kernel_size=(3,3), \n",
    "                               padding='same',\n",
    "                               activation='relu'))(x)\n",
    "    x = TimeDistributed(Conv2D(filters=3, \n",
    "                               kernel_size=(3,3), \n",
    "                               padding='same',\n",
    "                               activation='relu'))(x) \n",
    "    c3 = ConvLSTM2D(filters=8, kernel_size=(3, 3),\n",
    "                       input_shape=input_shape,\n",
    "                       padding='same', \n",
    "                       return_sequences=True,\n",
    "                       stateful = True)(x)\n",
    "\n",
    "    # pool: 24 27 24\n",
    "    x = TimeDistributed(MaxPooling2D((2, 2), (2, 2)))(c3)\n",
    "    x = TimeDistributed(Conv2D(filters=3, \n",
    "                               kernel_size=(3,3), \n",
    "                               padding='same',\n",
    "                               activation='relu'))(x)\n",
    "    x = TimeDistributed(Conv2D(filters=3, \n",
    "                               kernel_size=(3,3), \n",
    "                               padding='same',\n",
    "                               activation='relu'))(x)\n",
    "    c4 = ConvLSTM2D(filters=8, kernel_size=(3, 3),\n",
    "                       input_shape=input_shape,\n",
    "                       padding='same', \n",
    "                       return_sequences=True,\n",
    "                       stateful = True)(x)\n",
    "    # upsl: 48 54 24\n",
    "    upsl_1 = TimeDistributed(UpSampling2D((2, 2)))(c4)\n",
    "    #x = TimeDistributed(Conv2D(filters=c, kernel_size=(2,2), padding='same',activation='relu'))(x)\n",
    "    x = merge([c3, upsl_1], mode='concat')\n",
    "    x = TimeDistributed(Conv2D(filters=c, kernel_size=(3,3), padding='same',activation='relu'))(x)\n",
    "    x = TimeDistributed(Conv2D(filters=c, kernel_size=(3,3), padding='same',activation='relu'))(x)\n",
    "\n",
    "    # upsl: 96 108 24\n",
    "    upsl_2 = TimeDistributed(UpSampling2D((2, 2)))(x)\n",
    "    #x = TimeDistributed(Conv2D(filters=c, kernel_size=(2,2), padding='same',activation='relu'))(x)\n",
    "    x = merge([c2, upsl_2], mode='concat')\n",
    "    x = TimeDistributed(Conv2D(filters=3, kernel_size=(3,3), padding='same',activation='relu'))(x)\n",
    "    x = TimeDistributed(Conv2D(filters=3, kernel_size=(3,3), padding='same',activation='relu'))(x)\n",
    "\n",
    "    # upsl: 192 216 24\n",
    "    upsl_3 = TimeDistributed(UpSampling2D((2, 2)))(x)\n",
    "    #x = TimeDistributed(Conv2D(filters=c, kernel_size=(2,2), padding='same',activation='relu'))(x)\n",
    "    x = merge([c1, upsl_3], mode='concat')\n",
    "    x = TimeDistributed(Conv2D(filters=3, kernel_size=(3,3), padding='same',activation='relu'))(x)\n",
    "    #x = TimeDistributed(Conv2D(filters=3, kernel_size=(3,3), padding='same',activation='relu'))(x)\n",
    "\n",
    "\n",
    "    # upsl: 384 432\n",
    "    #upsl_4 = TimeDistributed(UpSampling2D((2, 2)))(x)\n",
    "    #x = TimeDistributed(Conv2D(filters=2, kernel_size=(3,3), padding='same',activation='relu'))(upsl_4)\n",
    "    output = TimeDistributed(Conv2D(filters=1, kernel_size=(1,1), padding='same', activation='sigmoid'), name='output')(x)\n",
    "    model = Model(input, output=[output])\n",
    "    #model.compile(loss='binary_crossentropy', optimizer = 'adadelta', metrics = ['binary_accuracy'])\n",
    "    model.compile(loss='binary_crossentropy', optimizer = 'adadelta')\n",
    "\n",
    "    model.summary()\n",
    "    return model"
   ]
  },
  {
   "cell_type": "code",
   "execution_count": null,
   "metadata": {},
   "outputs": [],
   "source": [
    "#simple mini batch model\n",
    "from keras.models import Model\n",
    "from keras.layers.convolutional import Conv3D, Conv2D\n",
    "from keras.layers.convolutional_recurrent import ConvLSTM2D\n",
    "from keras.layers.normalization import BatchNormalization\n",
    "from keras.layers import Input, TimeDistributed\n",
    "import keras.backend as K\n",
    "import tensorflow as tf\n",
    "from keras.optimizers import *\n",
    "\n",
    "from keras.layers import (ConvLSTM2D, BatchNormalization, Convolution3D, Convolution2D,Conv2D,\n",
    "                          TimeDistributed, MaxPooling2D, UpSampling2D, Input, merge, Cropping2D, concatenate)\n",
    "\n",
    "\n",
    "K.tensorflow_backend.set_session(tf.Session(config=tf.ConfigProto(device_count = {'GPU': 0})))\n",
    "\n",
    "smooth = 1.\n",
    "\n",
    "def dice_coef(y_true, y_pred):\n",
    "    y_true_f = K.flatten(y_true)\n",
    "    y_pred_f = K.flatten(y_pred)\n",
    "    intersection = K.sum(y_true_f * y_pred_f)\n",
    "    return (2. * intersection + smooth) / (K.sum(y_true_f) + K.sum(y_pred_f) + smooth)\n",
    "\n",
    "\n",
    "def dice_coef_loss(y_true, y_pred):\n",
    "    return -dice_coef(y_true, y_pred)\n",
    "\n",
    "\n",
    "\n",
    "def load_model(batch_size,true_frag_len):\n",
    "    input_shape = (None, 256, 256, 1)\n",
    "    input = Input(batch_shape= [batch_size, true_frag_len, 256,256, 1])\n",
    "    \n",
    "    x = TimeDistributed(Conv2D(filters=2, kernel_size=(3,3), padding='same',activation='relu'))(input)\n",
    "    x = TimeDistributed(MaxPooling2D((2, 2), (2, 2)))(x)\n",
    "    x = BatchNormalization()(x)\n",
    "    x = ConvLSTM2D(filters=14, kernel_size=(3, 3),\n",
    "                       input_shape=input_shape,\n",
    "                       padding='same', \n",
    "                       return_sequences=True,\n",
    "                       stateful = True)(x)\n",
    "    x = BatchNormalization()(x)\n",
    "    x = TimeDistributed(Conv2D(filters=2, kernel_size=(3,3), padding='same',activation='relu'))(x)\n",
    "    \n",
    "    upsl_1 = TimeDistributed(UpSampling2D((2, 2)))(x)\n",
    "    output = TimeDistributed(Conv2D(filters=1, kernel_size=(1,1), padding='same', activation='sigmoid'), name='output')(upsl_1)\n",
    "    # output = Conv3D(filters=1, kernel_size=(3, 3, 3),\n",
    "    #                    activation='sigmoid',\n",
    "    #                    padding='same', data_format='channels_last')(x)\n",
    "\n",
    "\n",
    "    model_stateful_batch = Model(inputs = [input], output=[output])\n",
    "    #model_stateful_batch.compile(optimizer=Adam(lr=1e-5), loss=dice_coef_loss, metrics=[dice_coef])\n",
    "    model_stateful_batch.compile(loss='binary_crossentropy', optimizer= 'adadelta')\n",
    "\n",
    "    model_stateful_batch.summary()\n",
    "    return model_stateful_batch"
   ]
  },
  {
   "cell_type": "code",
   "execution_count": null,
   "metadata": {},
   "outputs": [],
   "source": [
    "import time\n",
    "def train_model(model, no_samples, no_frags, generator,valid_generator,epochs, frag_len, model_validator):\n",
    "    print(\"Training for \" + str(epochs) + \" epochs\")\n",
    "    #training_losses = []\n",
    "    epoch_times = []\n",
    "    for epoch in range(epochs):\n",
    "        epoch_time = time.time()\n",
    "        print(\"Number of training reps per epoch \" + str(no_samples))\n",
    "        for reps in range(reps_for_samples):\n",
    "            if reps%(no_frags) == 0:\n",
    "               #print ('Time to reset states')\n",
    "                model.reset_states()\n",
    "            train_loss = 0\n",
    "            X,Y = next(generator.generate())\n",
    "            train_loss += model.train_on_batch(X, Y)\n",
    "            #print ('# Fragement ', reps, '  loss ', train_loss)\n",
    "            #training_losses.append(train_loss)\n",
    "           # print(training_losses)\n",
    "            #if reps%no_frags == 0:\n",
    "            if reps%50 == 0:\n",
    "                print ('# Iteration', reps, '  loss ', train_loss)\n",
    "                #print(train_loss)\n",
    "        print ('# Epoch', epoch + 1, '  loss ', train_loss)\n",
    "        model.reset_states()\n",
    "        print(\"Done training\")\n",
    "        print(\"Traing loss \" + str(train_loss))\n",
    "        #print(\"Validating\")\n",
    "        duration = time.time()- epoch_time\n",
    "        epoch_times.append(duration)\n",
    "        \n",
    "    \n",
    "    try:\n",
    "        model_validator.validate(model,no_frags, frag_len, valid_generator)\n",
    "        return model, epoch_times\n",
    "    except IOError:\n",
    "        print(\"Validation could not be performed\")\n",
    "    else:\n",
    "         # we don't want to catch the IOError if it's raised\n",
    "        return model, epoch_times\n",
    "        \n",
    "    \n",
    "    "
   ]
  },
  {
   "cell_type": "code",
   "execution_count": 9,
   "metadata": {},
   "outputs": [
    {
     "name": "stderr",
     "output_type": "stream",
     "text": [
      "/home/pelonomi/anaconda3/envs/tensorflowenv/lib/python3.5/importlib/_bootstrap.py:222: RuntimeWarning: numpy.dtype size changed, may indicate binary incompatibility. Expected 96, got 88\n",
      "  return f(*args, **kwds)\n"
     ]
    }
   ],
   "source": [
    "from skimage import measure\n",
    "from regional import many\n",
    "from neurofinder import centers, shapes\n",
    "from skimage.filters import threshold_yen\n",
    "from skimage.morphology import closing, square\n",
    "from skimage.filters import threshold_yen, threshold_isodata, threshold_otsu\n",
    "\n",
    "class Validate_and_Metrics(object):\n",
    "    \n",
    "\n",
    "    def __init__(self, model, no_frags):\n",
    "        self.precisions = []\n",
    "        self.recalls = []\n",
    "        self.f1scores = []\n",
    "        self.model = model\n",
    "        self.no_frags = no_frags\n",
    "        self.dims = (256,256)\n",
    "        \n",
    "    def validate(self, model, frag_len, valid_generator):\n",
    "        self.frag_len = frag_len\n",
    "        ypred = self.batch_prediction(valid_generator)\n",
    "        # this frag len is not defined so we need a way to get it in here\n",
    "        # the true one needs to be normalised to be compared properly\n",
    "        ytrue = self.ytrue_for_validation()\n",
    "        #we need the last result of all the fragments\n",
    "        ypred_ind = ypred[no_frags-1][0][frag_len-1].reshape(self.dims)\n",
    "        print(ypred_ind.shape)\n",
    "        thresh = threshold_isodata(ypred_ind)\n",
    "        ypred_thresh = (closing(ypred_ind > thresh, square(3)))*255\n",
    "\n",
    "        print(ytrue.max(), ytrue.min())\n",
    "        print(ypred_thresh.max(), ypred_thresh.min())\n",
    "        #print(ytrue.reshape(256,400).shape)\n",
    "        #print(ypred.reshape(256,400).shape)\n",
    "        the_metric = self.nf_mask_metrics(ytrue.reshape(self.dims),ypred_thresh.reshape(self.dims))\n",
    "        #print(the_metric)\n",
    "        \n",
    "    def ytrue_for_validation(self):\n",
    "        vect = cv2.VideoCapture(\"neurofinder_data/04.01.label.tif\")\n",
    "        vect.set(1,1)\n",
    "        ret,lab_frame = vect.read()\n",
    "        lab_frame = cv2.resize(lab_frame,( (self.dims[1], self.dims[0])))\n",
    "        lab_frame = cv2.cvtColor(lab_frame, cv2.COLOR_BGR2GRAY)\n",
    "        return lab_frame\n",
    "    \n",
    "    def batch_prediction(self, generator):\n",
    "    # this just tests out one sample. I think it is necessary to reset states on prediction too\n",
    "        stateful_preds = []\n",
    "        self.model.reset_states()\n",
    "        gen = generator.generate()\n",
    "        for fragment in range(self.no_frags):\n",
    "            X,Y = next(gen)\n",
    "            stateful_batch = self.model.predict_on_batch(X)\n",
    "            stateful_preds.append(stateful_batch)\n",
    "        return stateful_preds\n",
    "    \n",
    "    \n",
    "    def _mask_to_regional(self, m):\n",
    "        \"\"\"Convert a 2D numpy mask to a regional many object so it can be measured\n",
    "        using the neurofinder library.\"\"\"\n",
    "        mlbl = measure.label(m,background=255 )\n",
    "        coords = []\n",
    "        for lbl in range(1, np.max(mlbl) + 1):\n",
    "            yy, xx = np.where(mlbl == lbl)\n",
    "            coords.append([[y, x] for y, x in zip(yy, xx)])\n",
    "       \n",
    "        return many(coords)\n",
    "    \n",
    "    def nf_mask_metrics(self, m, mp):\n",
    "        \"\"\"Computes precision, recall, inclusion, exclusion, and combined (F1) score for the given mask (m) and predicted mask (mp). Note that this does assumes single 2D masks and does not aaccount for overlapping neurons.\n",
    "\n",
    "        # Arguments\n",
    "            m: ground-truth (height x width) binary numpy mask.\n",
    "            mp: predicted (height x width) binary numpy mask.\n",
    "\n",
    "        # Returns\n",
    "            p,r,i,e,f1: precision, recall, inclusion, exclusion, and F1 scores.\n",
    "\n",
    "        \"\"\"\n",
    "        # Return all zeros if the predicted mask is empty.\n",
    "        if np.sum(mp.round()) == 0:\n",
    "            return 0., 0., 0., 0., 0.\n",
    "        \n",
    "        #print(type(m))\n",
    "        #print(type(mp))\n",
    "        #print(m.shape)\n",
    "        #print(mp.shape)\n",
    "        # Convert masks to regional format and compute their metrics.\n",
    "        mreg = self._mask_to_regional(m)\n",
    "        #print(type(mreg))\n",
    "        print(mreg)\n",
    "        mpreg = self._mask_to_regional(mp)\n",
    "        #print(type(mpreg))\n",
    "        print(mpreg)\n",
    "\n",
    "        #r, p = centers(mreg, mpreg,threshold = 5 )\n",
    "        r, p = centers(mreg, mpreg,threshold = 5 )\n",
    "\n",
    "        i, e = shapes(mreg, mpreg)\n",
    "        f1 = 2. * (r * p) / (r + p)\n",
    "        self.precisions.append(p)\n",
    "        self.recalls.append(r)\n",
    "        self.f1scores.append(f1)\n",
    "        print(self.precisions, self.recalls, self.f1scores)\n",
    "        return (p, r, i, e, f1)\n",
    "    \n",
    "    def get_metrics(self):\n",
    "        return {\n",
    "            'precisions': self.precisions,\n",
    "            'recalls':self.recalls,\n",
    "            'f1scores':self.f1scores\n",
    "        }\n",
    "    "
   ]
  },
  {
   "cell_type": "code",
   "execution_count": null,
   "metadata": {},
   "outputs": [],
   "source": [
    "ey = measure.label(bw, background=255)\n",
    "ey.shape\n",
    "plt.imshow(ey)\n",
    "plt.show"
   ]
  },
  {
   "cell_type": "code",
   "execution_count": null,
   "metadata": {},
   "outputs": [],
   "source": [
    "from skimage.filters import threshold_yen, threshold_isodata, threshold_otsu\n",
    "from skimage.morphology import closing, square\n",
    "\n",
    "ypred_test = predicted[4]\n",
    "thresh = threshold_isodata(ypred_test)\n",
    "bw = (closing(ypred_test > thresh, square(3)))*255\n",
    "#threshpredicted = (ypred_test>thresh)*255\n",
    "print(bw.shape)\n",
    "\n",
    "ytrue_test = validator.ytrue_for_validation()\n",
    "print(bw.shape, ytrue_test.shape)\n",
    "validator.nf_mask_metrics(ytrue_test.reshape(256,256),bw.reshape(256,256))\n",
    "\n",
    "plt.imshow(bw, cmap = 'gray')\n",
    "plt.show()\n",
    "print('Max value: ' + str(bw.max()))\n",
    "\n",
    "plt.imshow(ytrue_test, cmap = 'gray')\n",
    "plt.show()\n",
    "print('Max value: ' + str(y[0][0].max()))"
   ]
  },
  {
   "cell_type": "code",
   "execution_count": null,
   "metadata": {},
   "outputs": [],
   "source": [
    "validator.get_metrics()"
   ]
  },
  {
   "cell_type": "markdown",
   "metadata": {},
   "source": [
    "## STOCHASTIC\n",
    "## STATEFUL batch_shape = [1, frag_len, x, y, 1]\n",
    "    1 sample at a time\n",
    "    update made after no_fragments batches\n",
    "    y = [1, 1, x, y, 1]"
   ]
  },
  {
   "cell_type": "markdown",
   "metadata": {},
   "source": [
    "DEFINE DATA FEEDER"
   ]
  },
  {
   "cell_type": "markdown",
   "metadata": {},
   "source": [
    "There are two ways to sample the data as illustrated below. Check it out. The only difference is how indexes are defined for data range of each fragment and then the no of resulting fragments."
   ]
  },
  {
   "cell_type": "markdown",
   "metadata": {},
   "source": [
    "no of fragments and length of fragments changes with the step size so the real length becomes (frag_len+1)/steps and number of fragments is (data_len-frag_len + 1)/steps"
   ]
  },
  {
   "cell_type": "code",
   "execution_count": null,
   "metadata": {},
   "outputs": [],
   "source": [
    "example = [1,2,3,4,5,6,7,8,9,10,11,12,13,14,15,16,17,18,19,20, 21, 22]\n",
    "data_len = len(example)\n",
    "frag_len = 11\n",
    "steps = 2\n",
    "no_frags = int((data_len-frag_len + 1)/steps)\n",
    "print(no_frags)\n",
    "\n",
    "for current_count in range(no_frags):\n",
    "    #ranger = list(range(current_count,current_count+ frag_len))\n",
    "    indx = np.arange(current_count*steps,current_count*steps+ frag_len, steps)\n",
    "    print(np.array(example)[indx.astype(int)])\n",
    "(np.array(example)[indx.astype(int)]).shape"
   ]
  },
  {
   "cell_type": "markdown",
   "metadata": {},
   "source": [
    "no of fragments does not change with the step size but, the actual length of the fragment is changed by the step size. so the real length becomes (frag_len+1)/steps "
   ]
  },
  {
   "cell_type": "code",
   "execution_count": null,
   "metadata": {},
   "outputs": [],
   "source": [
    "example = [1,2,3,4,5,6,7,8,9,10,11,12,13,14,15,16,17,18,19,20, 21, 22]\n",
    "data_len = len(example)\n",
    "frag_len = 11\n",
    "steps = 2\n",
    "no_frags = int(data_len-frag_len + 1)\n",
    "print(no_frags)\n",
    "\n",
    "for current_count in range(no_frags):\n",
    "    #ranger = list(range(current_count,current_count+ frag_len))\n",
    "    indx = np.arange(current_count,current_count+ frag_len, steps)\n",
    "    print(np.array(example)[indx.astype(int)])\n",
    "(np.array(example)[indx.astype(int)])"
   ]
  },
  {
   "cell_type": "markdown",
   "metadata": {},
   "source": [
    "Quick check to make sure the data is loaded correctly by the data generator. Also a quick check to make sure the images returned are nomalised (value range between 0 and 1). \n",
    "\n",
    "NB. Make sure current sample number of next output block is the same as the label vect that is read by cv2 when drawing otherwise images wont match and you might think it is not working"
   ]
  },
  {
   "cell_type": "code",
   "execution_count": null,
   "metadata": {},
   "outputs": [],
   "source": [
    "class Batch_size_1_Generator(object):\n",
    "\n",
    "    def __init__(self, frag_len, steps = 1, valid = False):\n",
    "        self.frag_len = frag_len\n",
    "        #print(frag_len)\n",
    "        # this will track the progress of the batches sequentially through the\n",
    "        # data set - once the data reaches the end of the data set it will reset\n",
    "        # back to zero\n",
    "        self.current_idx = 0\n",
    "        self.current_count = 0\n",
    "        self.data = None\n",
    "        # dimensions expected by the network\n",
    "        self.dims = (256,256)\n",
    "        self.steps = steps\n",
    "        self.valid = valid\n",
    "    \n",
    "        #self.dup_rows()\n",
    "        # skip_step is the number of words which will be skipped before the next\n",
    "        # batch is skimmed from the data set\n",
    "\n",
    "    def dup_rows(self, a, indx, num_dups=1):\n",
    "        return np.insert(a,[indx+1]*num_dups,a[indx],axis=0)\n",
    "    \n",
    "    def _resizeNnormalize(self, data, dimso):\n",
    "        \"\"\"\n",
    "        data : the image to be resized \n",
    "        dimso : the dimensions to be resized to (tuple)\n",
    "        \"\"\"\n",
    "        data = cv2.resize(data, dimso)\n",
    "        img = cv2.cvtColor(data, cv2.COLOR_BGR2GRAY)\n",
    "        nomalized = img/255\n",
    "        return nomalized\n",
    "    \n",
    "    \n",
    "    def generate(self):\n",
    "        # this generator returns no_frag fragments for each sample before moving to the next sample\n",
    "        data_array = ['01.00','01.01','02.00','02.01','04.00','04.01']\n",
    "        while True:\n",
    "            if self.valid == True:\n",
    "                self.current_idx = '04.01'\n",
    "                #if self.current_count == 0:\n",
    "                    #print('Validating')\n",
    "            elif self.current_count == 0:\n",
    "                self.current_idx = data_array[np.random.randint(6)]\n",
    "                print(\"Current sample is : \" + self.current_idx)\n",
    "            video = cv2.VideoCapture('neurofinder_data/' + self.current_idx + '.avi')\n",
    "\n",
    "            data_len = 500\n",
    "            # find out number of fragments for data\n",
    "            no_frags = int((data_len-self.frag_len + 1)/self.steps)\n",
    "            #no_frags = int(data_len/frag_len)\n",
    "            \n",
    "            #print(\"No frags inside \" + str(no_frags))\n",
    "            self.current_count += 1\n",
    "            #print('current sample number: ' + str(self.current_idx)+', Fragment ' + str(self.current_count)+ ' of ' + str(no_frags))\n",
    "            \n",
    "            if self.current_count == no_frags:\n",
    "                #print(self.current_count)\n",
    "                self.current_count = 0\n",
    "            data_range = (self.current_count,self.current_count+ self.frag_len)\n",
    "            #print(data_range)\n",
    "            \n",
    "            x = []\n",
    "\n",
    "            # data_range is the range of frames to be fetched for each fragment\n",
    "            indxs = np.arange(self.current_count*steps,self.current_count*steps+ frag_len, steps)\n",
    "            #indxs = np.arange(self.current_count*self.frag_len,(self.current_count+1)* self.frag_len, steps)\n",
    "\n",
    "            #for indexer in range(data_range[0],data_range[1]):\n",
    "            for indexer in indxs:\n",
    "\n",
    "                video.set(1,indexer) # Where frame_no is the frame you want\n",
    "                ret, frame = video.read() # Read the frame\n",
    "                x.append(self._resizeNnormalize(frame, self.dims))\n",
    "         \n",
    "            #print('No frags ' + str(no_frags))\n",
    "            \n",
    "             \n",
    "            labels = cv2.VideoCapture('neurofinder_data/' + self.current_idx + '.label.tif')\n",
    "            labels.set(1,1)\n",
    "            ret,lab_frame = labels.read()\n",
    "            y = []\n",
    "            for indx in range(len(x)):\n",
    "            #for indx in range(int((self.frag_len+1)/self.steps)-1):\n",
    "                y.append(self._resizeNnormalize(lab_frame, self.dims))\n",
    "                \n",
    "            y = np.expand_dims(y, axis=-1)\n",
    "            x = np.expand_dims(x, axis=-1)\n",
    "            y = np.expand_dims(y, axis=0)\n",
    "            x = np.expand_dims(x, axis=0)\n",
    "           \n",
    "            #yield x,y\n",
    "            yield x,y\n",
    "            "
   ]
  },
  {
   "cell_type": "code",
   "execution_count": null,
   "metadata": {},
   "outputs": [],
   "source": [
    "# Set params batch size 1\n",
    "data_len = 500\n",
    "steps = 2\n",
    "frag_len = 40\n",
    "true_frag_len = int((frag_len+1)/steps)\n",
    "no_frags = int((data_len-frag_len + 1)/steps)\n",
    "print(no_frags)\n",
    "batch_size = 1\n",
    "no_videos = 6\n",
    "reps_for_samples = no_videos*no_frags\n",
    "print(reps_for_samples)\n",
    "epochs = 5"
   ]
  },
  {
   "cell_type": "markdown",
   "metadata": {},
   "source": [
    "Check to see if Generator is loading data correctly"
   ]
  },
  {
   "cell_type": "code",
   "execution_count": null,
   "metadata": {},
   "outputs": [],
   "source": [
    "print('True fragment length ' +str(true_frag_len))\n",
    "gener_obj = Batch_size_1_Generator(frag_len, steps)\n",
    "gener = gener_obj.generate()\n",
    "X,y = next(gener)\n",
    "X.shape, y.shape"
   ]
  },
  {
   "cell_type": "code",
   "execution_count": null,
   "metadata": {},
   "outputs": [],
   "source": [
    "vect = cv2.VideoCapture(\"neurofinder_data/01.01.label.tif\")\n",
    "vect.set(1,1)\n",
    "ret,lab_frame = vect.read()\n",
    "lab_frame = cv2.resize(lab_frame,(256,256))\n",
    "\n",
    "plt.imshow(lab_frame, cmap = 'gray')\n",
    "plt.show()\n",
    "print('Max value: ' + str(lab_frame.max()))\n",
    "\n",
    "plt.imshow(y[0][0].reshape(256,256), cmap = 'gray')\n",
    "plt.show()\n",
    "print('Max value: ' + str(y[0][0].max()))\n",
    "\n",
    "plt.imshow(X[0][0].reshape(256,256), cmap = 'gray')\n",
    "plt.show()\n",
    "print('Max value: ' + str(X[0][0].max()))"
   ]
  },
  {
   "cell_type": "markdown",
   "metadata": {},
   "source": [
    "TRAIN"
   ]
  },
  {
   "cell_type": "code",
   "execution_count": null,
   "metadata": {},
   "outputs": [],
   "source": [
    "model_stateful_batch1 = load_model(batch_size,true_frag_len)"
   ]
  },
  {
   "cell_type": "code",
   "execution_count": null,
   "metadata": {},
   "outputs": [],
   "source": [
    "model_stateful_batch1 = tsu_net(batch_size,true_frag_len)"
   ]
  },
  {
   "cell_type": "code",
   "execution_count": null,
   "metadata": {},
   "outputs": [],
   "source": [
    "gener = Batch_size_1_Generator(frag_len, steps)\n",
    "valid_generator = Batch_size_1_Generator(frag_len, steps, valid = True)\n",
    "validator = Validate_and_Metrics(model_stateful_batch1,no_frags )\n",
    "model_stateful_batch1_trained, epoch_execution_time = train_model(model_stateful_batch1, reps_for_samples, no_frags, gener,valid_generator,epochs, true_frag_len, validator)"
   ]
  },
  {
   "cell_type": "code",
   "execution_count": null,
   "metadata": {},
   "outputs": [],
   "source": [
    "stocahstic_metrics = validator.get_metrics()\n",
    "stocahstic_metrics"
   ]
  },
  {
   "cell_type": "code",
   "execution_count": null,
   "metadata": {},
   "outputs": [],
   "source": [
    "stochastic_execution_time = epoch_execution_time\n",
    "stochastic_execution_time"
   ]
  },
  {
   "cell_type": "code",
   "execution_count": null,
   "metadata": {},
   "outputs": [],
   "source": [
    "save_model(model_stateful_batch1_trained, 'stochastic_5e_frag_40_step_2_len500_vid6')"
   ]
  },
  {
   "cell_type": "markdown",
   "metadata": {},
   "source": [
    "PREDICT ON TRAINED MODEL"
   ]
  },
  {
   "cell_type": "code",
   "execution_count": null,
   "metadata": {},
   "outputs": [],
   "source": [
    "# Predict using just a single sample loaded from file\n",
    "gener_1 = Batch_size_1_Generator(frag_len, steps)\n",
    "# this just tests out one sample. I think it is necessary to reset states on prediction too\n",
    "stateful_preds = validator.batch_prediction(gener_1)"
   ]
  },
  {
   "cell_type": "code",
   "execution_count": null,
   "metadata": {},
   "outputs": [],
   "source": [
    "len(stateful_preds), stateful_preds[0].shape"
   ]
  },
  {
   "cell_type": "code",
   "execution_count": null,
   "metadata": {
    "scrolled": true
   },
   "outputs": [],
   "source": [
    "#first is fragment, second is the only one sample\n",
    "predicted = stateful_preds[15][0].reshape(true_frag_len,256,256)\n",
    "\n",
    "vect = cv2.VideoCapture(\"neurofinder_data/01.00.label.tif\")\n",
    "vect.set(1,1)\n",
    "ret,lab_frame = vect.read()\n",
    "lab_frame = cv2.resize(lab_frame,(256,256))\n",
    "#truth = lab_frame[0].reshape(256,400)\n",
    "plt.imshow(lab_frame, cmap = 'gray')\n",
    "plt.show()\n",
    "\n",
    "#frame in fragment, goes up to fragment length\n",
    "plt.imshow(predicted[4], cmap = 'gray')\n",
    "plt.show()"
   ]
  },
  {
   "cell_type": "code",
   "execution_count": null,
   "metadata": {},
   "outputs": [],
   "source": [
    "#fig, ax = try_all_threshold(predicted[1], figsize=(10, 8), verbose=False)\n",
    "thresh = threshold_yen(predicted[4])\n",
    "plt.imshow(predicted[1]>thresh,  cmap = 'gray')\n",
    "plt.show(thresh, )"
   ]
  },
  {
   "cell_type": "markdown",
   "metadata": {},
   "source": [
    "## Mini-batch\n",
    "## STATEFUL batch_shape = [batch_size, frag_len, x, y, 1]\n",
    "    8 samples at a time\n",
    "    update made after no_fragments batches\n",
    "    y = [8, 1, x, y, 1]"
   ]
  },
  {
   "cell_type": "code",
   "execution_count": 5,
   "metadata": {},
   "outputs": [],
   "source": [
    "class Batch_size_n_Generator(object):\n",
    "\n",
    "    def __init__(self, batch_size,frag_len,steps = 1,valid = False):\n",
    "        self.frag_len = frag_len\n",
    "        #print(frag_len)\n",
    "        # this will track the progress of the batches sequentially through the\n",
    "        # data set - once the data reaches the end of the data set it will reset\n",
    "        # back to zero\n",
    "        self.current_idxs = [] \n",
    "        self.current_count = 0\n",
    "        self.data = None\n",
    "        # dimensions expected by the network\n",
    "        self.dims = (256,256)\n",
    "        self.steps = steps\n",
    "        self.batch_size = batch_size\n",
    "        self.valid = valid\n",
    "    \n",
    "        #self.dup_rows()\n",
    "        # skip_step is the number of words which will be skipped before the next\n",
    "        # batch is skimmed from the data set\n",
    "\n",
    "    def dup_rows(self, a, indx, num_dups=1):\n",
    "        return np.insert(a,[indx+1]*num_dups,a[indx],axis=0)\n",
    "    \n",
    "    def _resizeNnormalize(self, data, dimso):\n",
    "        \"\"\"\n",
    "        data : the image to be resized \n",
    "        dimso : the dimensions to be resized to (tuple)\n",
    "        \"\"\"\n",
    "        data = cv2.resize(data, (self.dims[1],self.dims[0]))\n",
    "        img = cv2.cvtColor(data, cv2.COLOR_BGR2GRAY)\n",
    "        nomalized = img/255\n",
    "        return nomalized\n",
    "    \n",
    "    def _fetchframes(self, indxs, video):\n",
    "        frames = []\n",
    "        for indexer in indxs:\n",
    "            video.set(1,indexer) # Where frame_no is the frame you want\n",
    "            ret, frame = video.read() # Read the frame\n",
    "            frames.append(self._resizeNnormalize(frame, self.dims))\n",
    "        return(frames)\n",
    "    \n",
    "    def _fetchlabels(self, label, true_frag_len):\n",
    "        frames = []\n",
    "        label.set(1,1)\n",
    "        ret,lab_frame = label.read()\n",
    "        label_frame = self._resizeNnormalize(lab_frame, self.dims) \n",
    "        y = [label_frame for indx in range(true_frag_len)]\n",
    "        return(y)\n",
    "    \n",
    "    \n",
    "    def generate(self):\n",
    "        # this generator returns no_frag fragments for each sample before moving to the next sample\n",
    "        data_array = ['00.00','01.00','01.01','02.00','02.01','04.00','04.01']\n",
    "        while True:\n",
    "            if self.valid == True:\n",
    "                self.current_idxs = [ data_array[np.random.randint(6)] for item in range(self.batch_size)]\n",
    "                \n",
    "                if self.current_count == 0:\n",
    "                    print('Validating')\n",
    "            elif self.current_count == 0:\n",
    "                self.current_idxs = [data_array[np.random.randint(6)] for i in range(self.batch_size)]\n",
    "                print(self.current_idxs)\n",
    "            \n",
    "            #self.data = [np.load('dummies/video_' + str(ind) + '.npy') for ind in self.current_idxs]\n",
    "            self.data = [cv2.VideoCapture('neurofinder_data/' + ind + '.avi') for ind in self.current_idxs]\n",
    "            #self.data = [cv2.VideoCapture('neurofinder_data/00.00.avi') for ind in range(3)]\n",
    "            data_len = 500\n",
    "            # find out number of fragments for data\n",
    "            no_frags = int((data_len-self.frag_len + 1)/self.steps)\n",
    "            #no_frags = int(data_len/frag_len)\n",
    "            \n",
    "            #print(\"No frags inside \" + str(no_frags))\n",
    "            self.current_count += 1\n",
    "            #print('current sample number: ' + str(self.current_idxs)+', Fragment ' + str(self.current_count)+ ' of ' + str(no_frags))\n",
    "            \n",
    "            if self.current_count == no_frags:\n",
    "                print(self.current_count)\n",
    "                self.current_count = 0\n",
    "            \n",
    "\n",
    "            # data_range is the range of frames to be fetched for each fragment\n",
    "            indxs = np.arange(self.current_count*steps,self.current_count*steps+ frag_len, steps)\n",
    "            x = [self._fetchframes(indxs,video) for video in self.data]\n",
    "                \n",
    " \n",
    "    \n",
    "            labels = [(cv2.VideoCapture('neurofinder_data/' + str(ind) + '.label.tif')) for ind in self.current_idxs]\n",
    "            y = [self._fetchlabels(lebel, len(x[0])) for lebel in labels]\n",
    "           \n",
    "                \n",
    "            y = np.expand_dims(y, axis=-1)\n",
    "            x = np.expand_dims(x, axis=-1)\n",
    "\n",
    "            yield x,y\n",
    "            "
   ]
  },
  {
   "cell_type": "code",
   "execution_count": 6,
   "metadata": {},
   "outputs": [
    {
     "name": "stdout",
     "output_type": "stream",
     "text": [
      "460\n"
     ]
    }
   ],
   "source": [
    "# Set params batch size n\n",
    "data_len = 500\n",
    "steps = 2\n",
    "frag_len = 40\n",
    "true_frag_len = int((frag_len+1)/steps)\n",
    "no_frags = int((data_len-frag_len + 1)/steps)\n",
    "batch_size = 3\n",
    "no_videos = 6\n",
    "no_batches = int(no_videos/batch_size)\n",
    "reps_for_samples = no_batches*no_frags\n",
    "print(reps_for_samples)\n",
    "epochs = 5"
   ]
  },
  {
   "cell_type": "markdown",
   "metadata": {},
   "source": [
    "Check that generator is producing the right data"
   ]
  },
  {
   "cell_type": "code",
   "execution_count": null,
   "metadata": {},
   "outputs": [],
   "source": [
    "print('True fragment length ' +str(true_frag_len))\n",
    "gener_obj = Batch_size_n_Generator(batch_size,frag_len,steps)\n",
    "gener = gener_obj.generate()\n",
    "X,y = next(gener)\n",
    "X.shape, y.shape"
   ]
  },
  {
   "cell_type": "code",
   "execution_count": null,
   "metadata": {},
   "outputs": [],
   "source": [
    "vect = cv2.VideoCapture(\"neurofinder_data/01.00.label.tif\")\n",
    "vect.set(1,1)\n",
    "ret,lab_frame = vect.read()\n",
    "lab_frame = cv2.resize(lab_frame,(256,256))\n",
    "#truth = lab_frame[0].reshape(256,256)\n",
    "plt.imshow(lab_frame, cmap = 'gray')\n",
    "plt.show()\n",
    "print('Max value: ' + str(lab_frame.max()))\n",
    "\n",
    "plt.imshow(y[0][0].reshape(256,256), cmap = 'gray')\n",
    "plt.show()\n",
    "print('Max value: ' + str(y[0][0].max()))\n",
    "\n",
    "plt.imshow(X[0][1].reshape(256,256), cmap = 'gray')\n",
    "plt.show()\n",
    "print('Max value: ' + str(X[0][0].max()))"
   ]
  },
  {
   "cell_type": "markdown",
   "metadata": {},
   "source": [
    "TRAIN ON MODEL"
   ]
  },
  {
   "cell_type": "code",
   "execution_count": null,
   "metadata": {},
   "outputs": [],
   "source": [
    "model_stateful_batchn = load_model(batch_size,true_frag_len)"
   ]
  },
  {
   "cell_type": "code",
   "execution_count": null,
   "metadata": {},
   "outputs": [],
   "source": [
    "model_stateful_batchn = tsu_net(batch_size,true_frag_len)"
   ]
  },
  {
   "cell_type": "code",
   "execution_count": null,
   "metadata": {
    "scrolled": false
   },
   "outputs": [],
   "source": [
    "gener = Batch_size_n_Generator(batch_size,frag_len,steps)\n",
    "valid_generator = Batch_size_n_Generator(batch_size, frag_len, steps, valid = True)\n",
    "validator_n = Validate_and_Metrics()\n",
    "model_stateful_batchn_trained, epoch_execution_timemini = train_model(model_stateful_batchn, reps_for_samples, no_frags, gener,valid_generator,epochs, true_frag_len,validator_n )"
   ]
  },
  {
   "cell_type": "code",
   "execution_count": null,
   "metadata": {},
   "outputs": [],
   "source": [
    "minibatch_metrics = validator_n.get_metrics()\n",
    "minibatch_metrics"
   ]
  },
  {
   "cell_type": "code",
   "execution_count": null,
   "metadata": {},
   "outputs": [],
   "source": [
    "minibatch_execution_time = epoch_execution_timemini\n",
    "minibatch_execution_time"
   ]
  },
  {
   "cell_type": "code",
   "execution_count": null,
   "metadata": {},
   "outputs": [],
   "source": [
    "save_model(model_stateful_batchn_trained, 'minibatch_5e_frag_40_step_2_len500_vid6')"
   ]
  },
  {
   "cell_type": "markdown",
   "metadata": {},
   "source": [
    "PREDICT ON TRAINED MODEL"
   ]
  },
  {
   "cell_type": "code",
   "execution_count": null,
   "metadata": {},
   "outputs": [],
   "source": [
    "gener_n = Batch_size_n_Generator(batch_size, frag_len, steps)\n",
    "# this just tests out one sample. I think it is necessary to reset states on prediction too\n",
    "# Predict using just a single sample loaded from file\n",
    "stateful_preds_n = validator_n.batch_prediction(gener_n)"
   ]
  },
  {
   "cell_type": "code",
   "execution_count": null,
   "metadata": {},
   "outputs": [],
   "source": [
    "len(stateful_preds_n), stateful_preds_n[0].shape"
   ]
  },
  {
   "cell_type": "code",
   "execution_count": null,
   "metadata": {},
   "outputs": [],
   "source": [
    "# Second index is the video number, first index the fragment \n",
    "predictedn = stateful_preds_n[229][2].reshape(true_frag_len,256,256)\n",
    "\n",
    "vect = cv2.VideoCapture(\"neurofinder_data/01.01.label.tif\")\n",
    "vect.set(1,1)\n",
    "ret,lab_frame = vect.read()\n",
    "lab_frame = cv2.resize(lab_frame,(256,256))\n",
    "#truth = lab_frame[0].reshape(256,256)\n",
    "plt.imshow(lab_frame, cmap = 'gray')\n",
    "plt.show()\n",
    "\n",
    "#predicted result\n",
    "# this index is the frame in the fragment\n",
    "plt.imshow(predictedn[19], cmap = 'gray')\n",
    "plt.show()"
   ]
  },
  {
   "cell_type": "code",
   "execution_count": null,
   "metadata": {},
   "outputs": [],
   "source": [
    "from skimage.filters import try_all_threshold\n",
    "\n",
    "#fig, ax = try_all_threshold(predicted[1], figsize=(10, 8), verbose=False)\n",
    "thresh = threshold_yen(predicted[1])\n",
    "plt.imshow(predictedn[1]>thresh,  cmap = 'gray')\n",
    "plt.show(thresh, )"
   ]
  },
  {
   "cell_type": "markdown",
   "metadata": {},
   "source": [
    "# Evaluation Analysis"
   ]
  },
  {
   "cell_type": "markdown",
   "metadata": {},
   "source": [
    "Average Run time per epoch"
   ]
  },
  {
   "cell_type": "code",
   "execution_count": null,
   "metadata": {},
   "outputs": [],
   "source": [
    "print (\"Stochastic: \" + str(np.mean(stochastic_execution_time)) + \" +/- \" + str(np.std(stochastic_execution_time))) "
   ]
  },
  {
   "cell_type": "code",
   "execution_count": null,
   "metadata": {},
   "outputs": [],
   "source": [
    "print (\"Mini-batch: \" + str(np.mean(minibatch_execution_time)) + \" +/- \" + str(np.std(minibatch_execution_time))) "
   ]
  },
  {
   "cell_type": "markdown",
   "metadata": {},
   "source": [
    " Plot of F1 scores and Precision and Recall"
   ]
  },
  {
   "cell_type": "code",
   "execution_count": null,
   "metadata": {},
   "outputs": [],
   "source": [
    "fig = plt.figure()\n",
    "ax = plt.axes()\n",
    "ax.set(xlabel='Epoch', ylabel='F1score',\n",
    "       title='Mean F1score per epoch')\n",
    "plt.plot(minibatch_metrics['f1scores'], label='Mini-batch')\n",
    "plt.plot(stocahstic_metrics['f1scores'],linestyle='dashdot',label='Stochastic')\n",
    "plt.legend();"
   ]
  },
  {
   "cell_type": "code",
   "execution_count": null,
   "metadata": {},
   "outputs": [],
   "source": [
    "fig = plt.figure()\n",
    "ax = plt.axes()\n",
    "ax.set(xlabel='Epoch', ylabel='precisions',\n",
    "       title='Mean precisions per epoch')\n",
    "plt.plot(minibatch_metrics['precisions'], label='Mini-batch')\n",
    "plt.plot(stocahstic_metrics['precisions'],linestyle='dashdot',label='Stochastic')\n",
    "plt.legend();"
   ]
  },
  {
   "cell_type": "code",
   "execution_count": null,
   "metadata": {},
   "outputs": [],
   "source": [
    "fig = plt.figure()\n",
    "ax = plt.axes()\n",
    "ax.set(xlabel='Epoch', ylabel='recalls',\n",
    "       title='Mean recalls per epoch')\n",
    "plt.plot(minibatch_metrics['recalls'], label='Mini-batch')\n",
    "plt.plot(stocahstic_metrics['recalls'],linestyle='dashdot',label='Stochastic')\n",
    "plt.legend();"
   ]
  },
  {
   "cell_type": "code",
   "execution_count": null,
   "metadata": {},
   "outputs": [],
   "source": [
    "minibatch_metrics,stocahstic_metrics"
   ]
  },
  {
   "cell_type": "markdown",
   "metadata": {},
   "source": [
    "Mean F1 score, precision and recall on test set"
   ]
  },
  {
   "cell_type": "code",
   "execution_count": null,
   "metadata": {},
   "outputs": [],
   "source": [
    "def save_model(model,name):\n",
    "    # Creates a HDF5 file 'my_model.h5'\n",
    "    model.save(name + '.h5')"
   ]
  },
  {
   "cell_type": "markdown",
   "metadata": {},
   "source": [
    "## TRANSFER LEARNING"
   ]
  },
  {
   "cell_type": "code",
   "execution_count": 4,
   "metadata": {},
   "outputs": [
    {
     "name": "stdout",
     "output_type": "stream",
     "text": [
      "WARNING:tensorflow:From /home/pelonomi/anaconda3/envs/tensorflowenv/lib/python3.5/site-packages/keras/backend/tensorflow_backend.py:1192: calling reduce_sum (from tensorflow.python.ops.math_ops) with keep_dims is deprecated and will be removed in a future version.\n",
      "Instructions for updating:\n",
      "keep_dims is deprecated, use keepdims instead\n"
     ]
    },
    {
     "name": "stderr",
     "output_type": "stream",
     "text": [
      "/home/pelonomi/anaconda3/envs/tensorflowenv/lib/python3.5/site-packages/keras/engine/topology.py:1242: UserWarning: The `Merge` layer is deprecated and will be removed after 08/2017. Use instead layers from `keras.layers.merge`, e.g. `add`, `concatenate`, etc.\n",
      "  return cls(**config)\n"
     ]
    },
    {
     "name": "stdout",
     "output_type": "stream",
     "text": [
      "WARNING:tensorflow:From /home/pelonomi/anaconda3/envs/tensorflowenv/lib/python3.5/site-packages/keras/backend/tensorflow_backend.py:1299: calling reduce_mean (from tensorflow.python.ops.math_ops) with keep_dims is deprecated and will be removed in a future version.\n",
      "Instructions for updating:\n",
      "keep_dims is deprecated, use keepdims instead\n"
     ]
    }
   ],
   "source": [
    "from keras.models import load_model\n",
    "model = load_model('minibatch_5e_frag_40_step_2_len500_vid6.h5')"
   ]
  },
  {
   "cell_type": "code",
   "execution_count": 29,
   "metadata": {},
   "outputs": [],
   "source": [
    "gener_transfer = Batch_size_n_Generator(batch_size, frag_len, steps)"
   ]
  },
  {
   "cell_type": "code",
   "execution_count": 30,
   "metadata": {},
   "outputs": [],
   "source": [
    "validator = Validate_and_Metrics(model, no_frags)"
   ]
  },
  {
   "cell_type": "code",
   "execution_count": 31,
   "metadata": {},
   "outputs": [
    {
     "name": "stdout",
     "output_type": "stream",
     "text": [
      "['01.01', '04.00', '00.00']\n",
      "230\n"
     ]
    }
   ],
   "source": [
    "transfer_result = validator.batch_prediction(gener_transfer)"
   ]
  },
  {
   "cell_type": "code",
   "execution_count": 12,
   "metadata": {},
   "outputs": [
    {
     "data": {
      "text/plain": [
       "(230, (3, 20, 256, 256, 1))"
      ]
     },
     "execution_count": 12,
     "metadata": {},
     "output_type": "execute_result"
    }
   ],
   "source": [
    "len(transfer_result), transfer_result[0].shape"
   ]
  },
  {
   "cell_type": "code",
   "execution_count": 32,
   "metadata": {},
   "outputs": [
    {
     "data": {
      "image/png": "[encoded data removed]",
      "text/plain": [
       "<Figure size 432x288 with 1 Axes>"
      ]
     },
     "metadata": {
      "needs_background": "light"
     },
     "output_type": "display_data"
    },
    {
     "data": {
      "image/png": "[encoded data removed]",
      "text/plain": [
       "<Figure size 432x288 with 1 Axes>"
      ]
     },
     "metadata": {
      "needs_background": "light"
     },
     "output_type": "display_data"
    },
    {
     "data": {
      "image/png": "[encoded data removed]",
      "text/plain": [
       "<Figure size 432x288 with 1 Axes>"
      ]
     },
     "metadata": {
      "needs_background": "light"
     },
     "output_type": "display_data"
    }
   ],
   "source": [
    "# Second index is the video number, first index the fragment \n",
    "predictedn = transfer_result[229][0].reshape(true_frag_len,256,256)\n",
    "\n",
    "vect = cv2.VideoCapture(\"neurofinder_data/00.00.label.tif\")\n",
    "vect.set(1,1)\n",
    "ret,lab_frame = vect.read()\n",
    "lab_frame = cv2.resize(lab_frame,(256,256))\n",
    "#truth = lab_frame[0].reshape(256,256)\n",
    "plt.imshow(lab_frame, cmap = 'gray')\n",
    "plt.show()\n",
    "\n",
    "#predicted result\n",
    "# this index is the frame in the fragment\n",
    "plt.axis(\"off\")\n",
    "plt.imshow(cv2.resize(predictedn[19],(512,512)), cmap = 'gray')\n",
    "plt.show()\n",
    "\n",
    "#predicted result\n",
    "# this index is the frame in the fragment\n",
    "thresh = threshold_yen(predictedn[19])\n",
    "ypred_thresh = (closing(predictedn[19] > thresh, square(3)))\n",
    "plt.axis(\"off\")\n",
    "plt.imshow(ypred_thresh, cmap = 'gray_r')\n",
    "plt.show()"
   ]
  },
  {
   "cell_type": "code",
   "execution_count": null,
   "metadata": {},
   "outputs": [],
   "source": [
    "truth = \"/home/pelonomi/Desktop/thesis_images/01.01.label.png\"\n",
    "pred = \"/home/pelonomi/Desktop/thesis_images/01.01_unet2ds.png\"\n",
    "\n",
    "def loadimg(path):\n",
    "    vect = cv2.VideoCapture(path)\n",
    "    vect.set(1,1)\n",
    "    ret,lab_frame = vect.read()\n",
    "    lab_frame = cv2.resize(lab_frame,(256,256))\n",
    "    lab_frame = cv2.cvtColor(lab_frame, cv2.COLOR_BGR2GRAY)\n",
    "    return lab_frame"
   ]
  },
  {
   "cell_type": "code",
   "execution_count": null,
   "metadata": {},
   "outputs": [],
   "source": []
  }
 ],
 "metadata": {
  "kernelspec": {
   "display_name": "Python 3",
   "language": "python",
   "name": "python3"
  },
  "language_info": {
   "codemirror_mode": {
    "name": "ipython",
    "version": 3
   },
   "file_extension": ".py",
   "mimetype": "text/x-python",
   "name": "python",
   "nbconvert_exporter": "python",
   "pygments_lexer": "ipython3",
   "version": "3.5.5"
  }
 },
 "nbformat": 4,
 "nbformat_minor": 2
}
