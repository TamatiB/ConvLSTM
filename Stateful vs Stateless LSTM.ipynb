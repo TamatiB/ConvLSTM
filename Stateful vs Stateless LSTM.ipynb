{
 "cells": [
  {
   "cell_type": "code",
   "execution_count": 1,
   "metadata": {},
   "outputs": [
    {
     "name": "stderr",
     "output_type": "stream",
     "text": [
      "/home/pelonomi/anaconda3/envs/tensorflowenv/lib/python3.5/importlib/_bootstrap.py:222: RuntimeWarning: numpy.dtype size changed, may indicate binary incompatibility. Expected 96, got 88\n",
      "  return f(*args, **kwds)\n",
      "/home/pelonomi/anaconda3/envs/tensorflowenv/lib/python3.5/site-packages/h5py/__init__.py:34: FutureWarning: Conversion of the second argument of issubdtype from `float` to `np.floating` is deprecated. In future, it will be treated as `np.float64 == np.dtype(float).type`.\n",
      "  from ._conv import register_converters as _register_converters\n",
      "Using TensorFlow backend.\n",
      "/home/pelonomi/anaconda3/envs/tensorflowenv/lib/python3.5/importlib/_bootstrap.py:222: RuntimeWarning: numpy.dtype size changed, may indicate binary incompatibility. Expected 96, got 88\n",
      "  return f(*args, **kwds)\n",
      "/home/pelonomi/anaconda3/envs/tensorflowenv/lib/python3.5/importlib/_bootstrap.py:222: RuntimeWarning: numpy.dtype size changed, may indicate binary incompatibility. Expected 96, got 88\n",
      "  return f(*args, **kwds)\n"
     ]
    }
   ],
   "source": [
    "import matplotlib.pyplot as plt\n",
    "%matplotlib inline \n",
    "import numpy as np\n",
    "import keras\n",
    "import cv2"
   ]
  },
  {
   "cell_type": "code",
   "execution_count": 2,
   "metadata": {},
   "outputs": [],
   "source": [
    "def get_train_length(dataset, batch_size, test_percent):\n",
    "    # substract test_percent to be excluded from training, reserved for testset\n",
    "    length = dataset\n",
    "    length *= 1 - test_percent\n",
    "    train_length_values = []\n",
    "    for x in range(int(length) - 100,int(length)): \n",
    "        modulo=x%batch_size\n",
    "        if (modulo == 0):\n",
    "            train_length_values.append(x)\n",
    "            print (x)\n",
    "    return (max(train_length_values))"
   ]
  },
  {
   "cell_type": "code",
   "execution_count": 2,
   "metadata": {},
   "outputs": [
    {
     "name": "stderr",
     "output_type": "stream",
     "text": [
      "/home/pelonomi/anaconda3/envs/tensorflowenv/lib/python3.5/importlib/_bootstrap.py:222: RuntimeWarning: numpy.dtype size changed, may indicate binary incompatibility. Expected 96, got 88\n",
      "  return f(*args, **kwds)\n"
     ]
    }
   ],
   "source": [
    "from distutils.version import LooseVersion\n",
    "from collections import OrderedDict\n",
    "import cv2\n",
    "import fnmatch\n",
    "from PIL import Image\n",
    "from copy import deepcopy\n",
    "from scipy.misc import imresize\n",
    "import re\n",
    "from scipy import stats\n",
    "\n",
    "\n",
    "class DataLoader():\n",
    "    def __init__(self, seq_length = None,shuffle=True, augment=None, start=0, step = 1, frag_len = 50):\n",
    "        self.seq_length = seq_length\n",
    "        self.step = 1\n",
    "        #self.Xs = []\n",
    "        #self.ys = []\n",
    "        self.augment = augment\n",
    "        self.frames = []\n",
    "        self.labels = []\n",
    "        self.start = start\n",
    "        self.step = step\n",
    "        self.frag_len = frag_len\n",
    "        \n",
    "        #print(\"Number of elements: \\n\")\n",
    "        #print(self.nb_elements)\n",
    "    \n",
    "    def _add_frame(self, i, frame):\n",
    "        \"\"\"\n",
    "        frame : image frame to append to image sequence\n",
    "        \"\"\" \n",
    "        frame = self._resizer(frame,(256,400))\n",
    "        self.frames.append(frame)\n",
    "            \n",
    "    def _add_labels(self, i, label_img):\n",
    "        \"\"\"\n",
    "        label_img : segmentation frame to append to segmentation sequence\n",
    "        \"\"\" \n",
    "        _cls = imresize(label_img,(400,256))\n",
    "        self.labels.append(_cls)\n",
    "\n",
    "    def _resizer(self, data, dimso):\n",
    "        \"\"\"\n",
    "        data : the image to be resized \n",
    "        dimso : the dimensions to be resized to (tuple)\n",
    "        \"\"\"\n",
    "        data = cv2.resize(data, dimso)\n",
    "        return data\n",
    "    \n",
    "    def _sequence_segmenter(self,sequence, frag_len, step):\n",
    "        \"\"\"\n",
    "        sequence[list of lists]: the image sequence\n",
    "        frag_len[int]: how long each fragment length will be or number of repeated LSTM units. divisible by sequnce length\n",
    "        step[int]: steps taken between frames\n",
    "        \"\"\"\n",
    "        samples = [sequence[i:i + frag_len] for i in range(0, len(sequence), frag_len)]\n",
    "        return samples\n",
    "\n",
    "\n",
    "    def load_data(self,file_name):\n",
    "         # Store sample\n",
    "        input_dir, input_n = os.path.split(file_name)\n",
    "        input_name, ext = os.path.splitext(input_n)\n",
    "        if ext not in ('.avi', '.mp4', '.tif'):\n",
    "            raise IOError('Format %s not supported' % (ext))\n",
    "        \n",
    "        # Find matching label file\n",
    "        label_file = None\n",
    "        for f in os.listdir(input_dir):\n",
    "            if fnmatch.fnmatch(f, input_name  + '.label.tif'):\n",
    "                label_file = f\n",
    "                break\n",
    "\n",
    "        # Read multi-page label tif using PIL\n",
    "        if label_file is None:\n",
    "            print(input_name + '' + '.label.tif' + ' Not found')\n",
    "            raise IOError('Label file not found')    \n",
    "        \n",
    "    \n",
    "        # Read video in frame by frame as list of lists\n",
    "        if ext in ('.avi', '.mp4'):\n",
    "            print(\"Processing an avi file...\")\n",
    "            video = cv2.VideoCapture(file_name)\n",
    "            if LooseVersion(cv2.__version__) < LooseVersion('3'):\n",
    "                num_frames = int(video.get(cv2.cv.CV_CAP_PROP_FRAME_COUNT))\n",
    "            else:\n",
    "                num_frames = int(video.get(cv2.CAP_PROP_FRAME_COUNT))\n",
    "            print(\"Number of frames in that sample \" + str(num_frames))\n",
    "            \n",
    "            for i in range(num_frames):\n",
    "                is_valid, img = video.read()\n",
    "                if not is_valid:\n",
    "                    print('Cannot read frame: %d of %s' % (i, file_name))\n",
    "                    num_frames = i + 1\n",
    "                    break\n",
    "                img = cv2.cvtColor(img, cv2.COLOR_BGR2GRAY)\n",
    "                self._add_frame(i, img)\n",
    "        else:  # TIFF\n",
    "            seq = Image.open(file_name)\n",
    "            num_frames = seq.n_frames\n",
    "            print(n_frames)\n",
    "            for i in range(self.start, seq.n_frames, self.step):\n",
    "                seq.seek(i)\n",
    "                a = np.array(seq.convert('L'))\n",
    "                self._add_frame(i, a)\n",
    "            \n",
    "\n",
    "        # Read matching label file frame by frame as list of lists\n",
    "        labels = Image.open(os.path.join(input_dir, label_file))\n",
    "        self.label_file_fullpath = os.path.join(input_dir, label_file)\n",
    "        self.label_file = label_file\n",
    "        self.labels_tag = deepcopy(labels.tag)\n",
    "        self.nb_classes = 0\n",
    "        for i in range(self.start, num_frames, self.step):\n",
    "            labels.seek(i)\n",
    "            cls = np.array(labels)\n",
    "            self.nb_classes = max(self.nb_classes, np.max(cls) + 1)\n",
    "            # Read 'verified' tag in first frame\n",
    "            if i == 0:\n",
    "                try:\n",
    "                    self.verified = read_verified_tag(labels.tag)\n",
    "                except:\n",
    "                    pass\n",
    "               \n",
    "            self._add_labels(i, cls)\n",
    "        \n",
    "        # fetch sequences\n",
    "        X = self.frames\n",
    "        y = np.expand_dims(self.labels[0], axis = 0)\n",
    "        y = np.expand_dims(y, axis = 0)\n",
    "        \n",
    "        \n",
    "        #now we split the sequences into sequence fragments\n",
    "        X_fragmented = self._sequence_segmenter(X, self.frag_len, self.step)\n",
    "        \n",
    "        \n",
    "        X = np.array(X_fragmented)\n",
    "        y = np.array(y)\n",
    "            \n",
    "        return X, y\n",
    "    \n",
    "    def load_dummy(self,file_name):\n",
    "         # Store sample\n",
    "        input_dir, input_n = os.path.split(file_name)\n",
    "        input_name, ext = os.path.splitext(input_n)\n",
    "        \n",
    "        # Find matching label file\n",
    "        label_file = None\n",
    "        data_num = int(re.search(r'\\d+', input_name).group())    \n",
    "        # Read video in frame by frame as list of lists    \n",
    "        \n",
    "        # fetch sequences\n",
    "        X_loaded = np.load(file_name)\n",
    "        y_loaded = np.load(input_dir+'/label_' + str(data_num) + '.npy')\n",
    "        #y_thresh = stats.threshold(y[0],threshmin=0, threshmax=0.1, newval=-1)\n",
    "        \n",
    "        X = np.array([cv2.resize(image.reshape(256,400), (200,128)) for image in X_loaded])\n",
    "        y = np.array([cv2.resize(image.reshape(256,400), (200,128)) for image in y_loaded])\n",
    "            \n",
    "        return X, y"
   ]
  },
  {
   "cell_type": "code",
   "execution_count": 4,
   "metadata": {},
   "outputs": [
    {
     "data": {
      "text/plain": [
       "((22, 128, 200), (1, 128, 200))"
      ]
     },
     "execution_count": 4,
     "metadata": {},
     "output_type": "execute_result"
    }
   ],
   "source": [
    "X_loaded = np.load(\"dummies/video_200.npy\")\n",
    "y_loaded = np.load(\"dummies/label_200.npy\")\n",
    "\n",
    "X = np.array([cv2.resize(image.reshape(256,400), (200,128)) for image in X_loaded])\n",
    "y = np.array([cv2.resize(image.reshape(256,400), (200,128)) for image in y_loaded])\n",
    "X.shape, y.shape"
   ]
  },
  {
   "cell_type": "markdown",
   "metadata": {},
   "source": [
    "For binary cross entropy predictions and targets must have values between zero and one and we really want the mask to be a 0 or 1 so I made  it a binary file"
   ]
  },
  {
   "cell_type": "code",
   "execution_count": 46,
   "metadata": {},
   "outputs": [],
   "source": [
    "class DataGenerator(keras.utils.Sequence):\n",
    "    'Generates data for Keras'\n",
    "    def __init__(self,list_IDs, batch_size=1, dim=(500,512,512,1), n_channels=1,\n",
    "                 n_classes=10, shuffle=True, dummy=False, train = True):\n",
    "        'Initialization'\n",
    "        self.dim = dim\n",
    "        self.batch_size = batch_size\n",
    "        self.list_IDs = list_IDs\n",
    "        self.n_channels = n_channels\n",
    "        self.n_classes = n_classes\n",
    "        self.shuffle = shuffle\n",
    "        self.on_epoch_end()\n",
    "        self.dummy = dummy\n",
    "        self.train = train\n",
    "        print(\"Generator Initiated\")\n",
    "\n",
    "    def __len__(self):\n",
    "        'number of iterations per epoch. value (rounded up) obtained by dividing the number of samples by the batch size'\n",
    "        return int(np.floor(len(self.list_IDs) / self.batch_size))\n",
    "\n",
    "    def __getitem__(self, index):\n",
    "        'Generate one batch of data'\n",
    "        # The batch size determines how many IDs get fed into here\n",
    "        # Generate indexes of the batch\n",
    "        indexes = self.indexes[index*self.batch_size:(index+1)*self.batch_size]\n",
    "\n",
    "        # Find list of IDs\n",
    "        list_IDs_temp = [self.list_IDs[k] for k in indexes]\n",
    "        #print(\"Number of IDs \" + str(len(list_IDs_temp)))\n",
    "        \n",
    "        X = []\n",
    "        y = []\n",
    "        \n",
    "        if self.dummy is True:\n",
    "        #do this\n",
    "            #print(\"Dummy Generator Called\")\n",
    "            for i, ID in enumerate(list_IDs_temp):\n",
    "                #print(\"Id being processed \" + ID)\n",
    "                data_loader = DataLoader()\n",
    "                X_out, y_out = data_loader.load_dummy(ID)\n",
    "                X.append(X_out)\n",
    "                y.append(y_out)\n",
    "                \n",
    "            X = np.expand_dims(X, axis = -1)\n",
    "            y = np.expand_dims(y, axis = -1)\n",
    "            \n",
    "            #X = np.array(X)\n",
    "            #y = np.array(y)\n",
    "            \n",
    "        else:\n",
    "            # Generate data\n",
    "            print(\"This Shit Real\")\n",
    "            for i, ID in enumerate(list_IDs_temp):\n",
    "                #print(\"Id being processed \" + ID)\n",
    "                data_loader = DataLoader()\n",
    "                X_out, y_out = data_loader.load_data(ID)\n",
    "\n",
    "                X = np.expand_dims(X_out, axis = -1)\n",
    "                y = np.expand_dims(y_out, axis = -1)\n",
    "\n",
    "        #print(X.shape)\n",
    "        #print(y.shape)\n",
    "        if self.train is True:\n",
    "            return X, y\n",
    "        else:\n",
    "            return X\n",
    "\n",
    "    def on_epoch_end(self):\n",
    "        'Updates indexes after each epoch'\n",
    "        self.indexes = np.arange(len(self.list_IDs))\n",
    "        if self.shuffle == True:\n",
    "            np.random.shuffle(self.indexes)\n",
    "    "
   ]
  },
  {
   "cell_type": "markdown",
   "metadata": {},
   "source": [
    "# Stateful vs Stateless LSTMs for Dummy Data"
   ]
  },
  {
   "cell_type": "markdown",
   "metadata": {},
   "source": [
    "So this notebook was supposed to contain the data generators which feed data to the network.However, I dont know what this data structure uis expected to be yet because I am not completely sure whether to use stateful or not. So we will do both. And we will first do it for a dummy data just to see"
   ]
  },
  {
   "cell_type": "markdown",
   "metadata": {},
   "source": [
    "## STATELESS"
   ]
  },
  {
   "cell_type": "markdown",
   "metadata": {},
   "source": [
    "So in the stateless case, the inner states of the memory cells and the oupts of these memory cells are initiated to zero everytime a sample is sent through the network"
   ]
  },
  {
   "cell_type": "markdown",
   "metadata": {},
   "source": [
    "## STATEFUL"
   ]
  },
  {
   "cell_type": "markdown",
   "metadata": {},
   "source": [
    "In the stateful case we can \"reserve the state\" this is so that the inner memory and the oupputs are saved after each smaple is fed through the network to iniatiate the state of the network in the next round for the next sample. This is useful for example in the case that a long sequence is broken up into multiple shorter sequences but the sequences still contain temporally dpendant information."
   ]
  },
  {
   "cell_type": "markdown",
   "metadata": {},
   "source": [
    "Data generators are important when we have too much data. In this way we can feed batches of the data to the network at a time without having to load the entire data set into memory. There are two ways of making data generators. One way is the classical python generator and the other way is through inheriting the Sequence calss from keras. We have chosenn the latter. Sequences in this way are a safer way to do multiprocessing. This structure guarantees that the network will only train once on each sample per epoch which is not the case with generators."
   ]
  },
  {
   "cell_type": "markdown",
   "metadata": {},
   "source": [
    "## Stateless LSTM: no datareshape"
   ]
  },
  {
   "cell_type": "markdown",
   "metadata": {},
   "source": [
    "Model instantiation\n",
    "\n",
    "NOTE: STATELESS=FALSE in  ConvLSTM2D layers"
   ]
  },
  {
   "cell_type": "code",
   "execution_count": 4,
   "metadata": {},
   "outputs": [
    {
     "name": "stdout",
     "output_type": "stream",
     "text": [
      "WARNING:tensorflow:From /home/pelonomi/anaconda3/envs/tensorflowenv/lib/python3.5/site-packages/keras/backend/tensorflow_backend.py:1192: calling reduce_sum (from tensorflow.python.ops.math_ops) with keep_dims is deprecated and will be removed in a future version.\n",
      "Instructions for updating:\n",
      "keep_dims is deprecated, use keepdims instead\n",
      "WARNING:tensorflow:From /home/pelonomi/anaconda3/envs/tensorflowenv/lib/python3.5/site-packages/keras/backend/tensorflow_backend.py:1299: calling reduce_mean (from tensorflow.python.ops.math_ops) with keep_dims is deprecated and will be removed in a future version.\n",
      "Instructions for updating:\n",
      "keep_dims is deprecated, use keepdims instead\n",
      "_________________________________________________________________\n",
      "Layer (type)                 Output Shape              Param #   \n",
      "=================================================================\n",
      "input (InputLayer)           (None, None, 128, 200, 1) 0         \n",
      "_________________________________________________________________\n",
      "conv_lst_m2d_1 (ConvLSTM2D)  (None, None, 128, 200, 14 7616      \n",
      "_________________________________________________________________\n",
      "batch_normalization_1 (Batch (None, None, 128, 200, 14 56        \n",
      "_________________________________________________________________\n",
      "time_distributed_1 (TimeDist (None, None, 128, 200, 2) 254       \n",
      "_________________________________________________________________\n",
      "output (TimeDistributed)     (None, None, 128, 200, 1) 3         \n",
      "=================================================================\n",
      "Total params: 7,929\n",
      "Trainable params: 7,901\n",
      "Non-trainable params: 28\n",
      "_________________________________________________________________\n"
     ]
    },
    {
     "name": "stderr",
     "output_type": "stream",
     "text": [
      "/home/pelonomi/anaconda3/envs/tensorflowenv/lib/python3.5/site-packages/ipykernel_launcher.py:26: UserWarning: Update your `Model` call to the Keras 2 API: `Model(outputs=[<tf.Tenso..., inputs=[<tf.Tenso...)`\n"
     ]
    }
   ],
   "source": [
    "from keras.models import Model\n",
    "from keras.layers.convolutional import Conv3D, Conv2D\n",
    "from keras.layers.convolutional_recurrent import ConvLSTM2D\n",
    "from keras.layers.normalization import BatchNormalization\n",
    "from keras.layers import Input, TimeDistributed\n",
    "import keras.backend as K\n",
    "import tensorflow as tf\n",
    "\n",
    "K.tensorflow_backend.set_session(tf.Session(config=tf.ConfigProto(device_count = {'GPU': 0})))\n",
    "\n",
    "input_shape = (None, 128, 200, 1)\n",
    "input = Input(input_shape, name='input')\n",
    "\n",
    "x = ConvLSTM2D(filters=14, kernel_size=(3, 3),\n",
    "                   input_shape=input_shape,\n",
    "                   padding='same', \n",
    "                   return_sequences=True)(input)\n",
    "x = BatchNormalization()(x)\n",
    "x = TimeDistributed(Conv2D(filters=2, kernel_size=(3,3), padding='same',activation='relu'))(x)\n",
    "output = TimeDistributed(Conv2D(filters=1, kernel_size=(1,1), padding='same', activation='sigmoid'), name='output')(x)\n",
    "# output = Conv3D(filters=1, kernel_size=(3, 3, 3),\n",
    "#                    activation='sigmoid',\n",
    "#                    padding='same', data_format='channels_last')(x)\n",
    "\n",
    "\n",
    "model_stateless = Model(inputs = [input], output=[output])\n",
    "model_stateless.compile(loss='binary_crossentropy', optimizer='adadelta')\n",
    "model_stateless.summary()"
   ]
  },
  {
   "cell_type": "markdown",
   "metadata": {},
   "source": [
    "Create data generators with dummy data for stateless LSTM"
   ]
  },
  {
   "cell_type": "markdown",
   "metadata": {},
   "source": [
    "NOTE: DUMMY IS SET TO TRUE"
   ]
  },
  {
   "cell_type": "code",
   "execution_count": 28,
   "metadata": {},
   "outputs": [
    {
     "name": "stdout",
     "output_type": "stream",
     "text": [
      "16\n",
      "24\n",
      "32\n",
      "40\n",
      "48\n",
      "56\n",
      "64\n",
      "72\n",
      "80\n",
      "88\n",
      "96\n",
      "104\n",
      "112\n",
      "Generator Initiated\n",
      "Generator Initiated\n"
     ]
    },
    {
     "data": {
      "text/plain": [
       "'\\nsteps_per_epoch: Integer. Total number of steps (batches of samples) to \\nyield from generator before declaring one epoch finished and starting the \\nnext epoch. It should typically be equal to the number of samples of your \\ndataset divided by the batch size. Optional for  Sequence: if unspecified, \\nwill use the len(generator) as a number of steps.'"
      ]
     },
     "execution_count": 28,
     "metadata": {},
     "output_type": "execute_result"
    }
   ],
   "source": [
    "import numpy as np\n",
    "import os\n",
    "\n",
    "from keras.models import Sequential\n",
    "\n",
    "# # Parameters\n",
    "params = {'dim': (500,256,400),\n",
    "          'batch_size': 8,\n",
    "          'n_channels': 1,\n",
    "          'n_classes': 0,\n",
    "          'shuffle': False,\n",
    "          'dummy':True,\n",
    "          'train':True}\n",
    "\n",
    "\n",
    "input_dir = os.path.expanduser('~/Documents/ConvLSTM/dummies/')\n",
    "\n",
    "\n",
    "# Datasets\n",
    "partition = {}\n",
    "labels = {}\n",
    "\n",
    "\n",
    "\n",
    "nb_samples = 128\n",
    "batch_size = 8\n",
    "test_percent = 0.1\n",
    "train_range = get_train_length(nb_samples, batch_size, test_percent)\n",
    "\n",
    "train_IDs = [input_dir + 'video_' + str(i) + '.npy' for i in range(train_range)]\n",
    "valid_IDs = [input_dir + 'video_'+str(i)+'.npy' for i in range(train_range+1,nb_samples+1)]\n",
    "\n",
    "\n",
    "partition['train'] = train_IDs\n",
    "partition['validation'] = valid_IDs\n",
    "\n",
    "# Generators\n",
    "training_generator = DataGenerator(partition['train'], **params)\n",
    "validation_generator = DataGenerator(partition['validation'], **params)\n",
    "\n",
    "\"\"\"\n",
    "steps_per_epoch: Integer. Total number of steps (batches of samples) to \n",
    "yield from generator before declaring one epoch finished and starting the \n",
    "next epoch. It should typically be equal to the number of samples of your \n",
    "dataset divided by the batch size. Optional for  Sequence: if unspecified, \n",
    "will use the len(generator) as a number of steps.\"\"\""
   ]
  },
  {
   "cell_type": "code",
   "execution_count": 29,
   "metadata": {},
   "outputs": [
    {
     "data": {
      "text/plain": [
       "(14, 2, 112, 16)"
      ]
     },
     "execution_count": 29,
     "metadata": {},
     "output_type": "execute_result"
    }
   ],
   "source": [
    "import math\n",
    "steps_per_epoch = int(math.floor(len(train_IDs)/batch_size))\n",
    "validation_steps = int(math.floor(len(valid_IDs)/batch_size))\n",
    "steps_per_epoch,validation_steps,len(train_IDs), len(valid_IDs)"
   ]
  },
  {
   "cell_type": "code",
   "execution_count": 30,
   "metadata": {},
   "outputs": [
    {
     "name": "stdout",
     "output_type": "stream",
     "text": [
      "Epoch 1/1\n",
      "(8, 22, 128, 200, 1)\n",
      "(8, 1, 128, 200, 1)\n",
      "(8, 22, 128, 200, 1)\n",
      "(8, 1, 128, 200, 1)\n",
      "(8, 22, 128, 200, 1)\n",
      "(8, 22, 128, 200, 1)\n",
      "(8, 1, 128, 200, 1)\n",
      "(8, 1, 128, 200, 1)\n",
      "(8, 22, 128, 200, 1)\n",
      "(8, 22, 128, 200, 1)\n",
      "(8, 1, 128, 200, 1)\n",
      "(8, 1, 128, 200, 1)\n",
      "(8, 22, 128, 200, 1)\n",
      "(8, 1, 128, 200, 1)\n",
      "(8, 22, 128, 200, 1)\n",
      "(8, 22, 128, 200, 1)\n",
      "(8, 1, 128, 200, 1)\n",
      "(8, 1, 128, 200, 1)\n",
      "(8, 22, 128, 200, 1)\n",
      "(8, 1, 128, 200, 1)\n",
      "(8, 22, 128, 200, 1)\n",
      "(8, 1, 128, 200, 1)\n",
      "(8, 22, 128, 200, 1)\n",
      "(8, 1, 128, 200, 1)\n",
      " 1/14 [=>............................] - ETA: 239s - loss: 0.7008(8, 22, 128, 200, 1)\n",
      "(8, 1, 128, 200, 1)\n",
      " 2/14 [===>..........................] - ETA: 208s - loss: 0.6927(8, 22, 128, 200, 1)\n",
      "(8, 1, 128, 200, 1)\n",
      " 3/14 [=====>........................] - ETA: 186s - loss: 0.6797(8, 22, 128, 200, 1)\n",
      "(8, 1, 128, 200, 1)\n",
      " 4/14 [=======>......................] - ETA: 167s - loss: 0.6624(8, 22, 128, 200, 1)\n",
      "(8, 1, 128, 200, 1)\n",
      " 5/14 [=========>....................] - ETA: 149s - loss: 0.6428(8, 22, 128, 200, 1)\n",
      "(8, 1, 128, 200, 1)\n",
      " 6/14 [===========>..................] - ETA: 131s - loss: 0.6228(8, 22, 128, 200, 1)\n",
      "(8, 1, 128, 200, 1)\n",
      " 7/14 [==============>...............] - ETA: 115s - loss: 0.6054(8, 22, 128, 200, 1)\n",
      "(8, 1, 128, 200, 1)\n",
      " 8/14 [================>.............] - ETA: 98s - loss: 0.5903 (8, 22, 128, 200, 1)\n",
      "(8, 1, 128, 200, 1)\n",
      " 9/14 [==================>...........] - ETA: 81s - loss: 0.5776(8, 22, 128, 200, 1)\n",
      "(8, 1, 128, 200, 1)\n",
      "10/14 [====================>.........] - ETA: 65s - loss: 0.5665(8, 22, 128, 200, 1)\n",
      "(8, 1, 128, 200, 1)\n",
      "11/14 [======================>.......] - ETA: 48s - loss: 0.5561(8, 22, 128, 200, 1)\n",
      "(8, 1, 128, 200, 1)\n",
      "12/14 [========================>.....] - ETA: 32s - loss: 0.5463(8, 22, 128, 200, 1)\n",
      "(8, 1, 128, 200, 1)\n",
      "13/14 [==========================>...] - ETA: 16s - loss: 0.5368(8, 22, 128, 200, 1)\n",
      "(8, 1, 128, 200, 1)\n",
      "(8, 22, 128, 200, 1)\n",
      "(8, 1, 128, 200, 1)\n",
      "(8, 22, 128, 200, 1)\n",
      "(8, 1, 128, 200, 1)\n",
      "(8, 22, 128, 200, 1)\n",
      "(8, 1, 128, 200, 1)\n",
      "(8, 22, 128, 200, 1)\n",
      "(8, 22, 128, 200, 1)\n",
      "(8, 1, 128, 200, 1)\n",
      "(8, 1, 128, 200, 1)\n",
      "(8, 22, 128, 200, 1)\n",
      "(8, 1, 128, 200, 1)\n",
      "(8, 22, 128, 200, 1)\n",
      "(8, 1, 128, 200, 1)\n",
      "(8, 22, 128, 200, 1)\n",
      "(8, 1, 128, 200, 1)\n",
      "(8, 22, 128, 200, 1)\n",
      "(8, 1, 128, 200, 1)\n",
      "(8, 1, 128, 200, 1)\n",
      "(8, 22, 128, 200, 1)\n",
      "(8, 22, 128, 200, 1)\n",
      "(8, 1, 128, 200, 1)\n",
      "(8, 22, 128, 200, 1)\n",
      "(8, 1, 128, 200, 1)\n",
      "(8, 22, 128, 200, 1)\n",
      "(8, 1, 128, 200, 1)\n",
      "14/14 [==============================] - 243s - loss: 0.5276 - val_loss: 0.5985\n"
     ]
    },
    {
     "data": {
      "text/plain": [
       "<keras.callbacks.History at 0x7f4e3b0d7ef0>"
      ]
     },
     "execution_count": 30,
     "metadata": {},
     "output_type": "execute_result"
    }
   ],
   "source": [
    "# Train model on dataset\n",
    "#  steps_per_epoch: It should typically be equal to the number of samples of your dataset divided by the batch size\n",
    "#                   Total number of steps (batches of samples) to yield from generator before declaring one epoch finished and starting the next epoch.\n",
    "#  epochs: An epoch is an iteration over the entire data provided, as defined by  steps_per_epoch\n",
    "#          model is not trained for a number of iterations given by epochs but merely until the epoch of index epochs is reached\n",
    "\n",
    "steps_per_epoch = len(train_IDs)/batch_size\n",
    "validation_steps = len(valid_IDs)/batch_size\n",
    "model_stateless.fit_generator(generator=training_generator,\n",
    "                    validation_data=validation_generator,\n",
    "                    epochs = 1,\n",
    "                    steps_per_epoch = steps_per_epoch,\n",
    "                    validation_steps = validation_steps,\n",
    "                    use_multiprocessing=True,\n",
    "                    workers=10)\n",
    "# When there are many workers, the do everything in parallel doing many samples at the same time"
   ]
  },
  {
   "cell_type": "code",
   "execution_count": 21,
   "metadata": {},
   "outputs": [],
   "source": [
    "model_stateless.save_weights('model_weights0p4.h5')\n",
    "model_stateless.save('second_mo.h5')"
   ]
  },
  {
   "cell_type": "code",
   "execution_count": 38,
   "metadata": {},
   "outputs": [
    {
     "name": "stdout",
     "output_type": "stream",
     "text": [
      "1\n",
      "/home/pelonomi/Documents/ConvLSTM/dummies/video_200.npy\n"
     ]
    }
   ],
   "source": [
    "predict_ids = [input_dir + 'video_' + str(i) + '.npy' for i in range(200,201)]\n",
    "print(len(predict_ids))\n",
    "for item in predict_ids:\n",
    "    print(item)"
   ]
  },
  {
   "cell_type": "markdown",
   "metadata": {},
   "source": [
    "When predicting you now have to use a batch size of one because we are just checking out what the output looks like\n",
    "\n",
    "\"The batch size limits the number of samples to be shown to the network before a weight update can be performed. This same limitation is then imposed when making predictions with the fit model. Specifically, the batch size used when fitting your model controls how many predictions you must make at a time.\"  \"it isn't backpropping across batches\""
   ]
  },
  {
   "cell_type": "code",
   "execution_count": 48,
   "metadata": {},
   "outputs": [
    {
     "name": "stdout",
     "output_type": "stream",
     "text": [
      "Generator Initiated\n",
      "Machine output(1, 22, 128, 200, 1)\n",
      "Original output(1, 256, 400, 1)\n"
     ]
    },
    {
     "data": {
      "image/png": "[encoded data removed]",
      "text/plain": [
       "<Figure size 432x288 with 1 Axes>"
      ]
     },
     "metadata": {
      "needs_background": "light"
     },
     "output_type": "display_data"
    },
    {
     "data": {
      "image/png": "[encoded data removed]",
      "text/plain": [
       "<Figure size 432x288 with 1 Axes>"
      ]
     },
     "metadata": {
      "needs_background": "light"
     },
     "output_type": "display_data"
    },
    {
     "data": {
      "image/png": "[encoded data removed]",
      "text/plain": [
       "<Figure size 432x288 with 1 Axes>"
      ]
     },
     "metadata": {
      "needs_background": "light"
     },
     "output_type": "display_data"
    }
   ],
   "source": [
    "# Prediction using the data generator\n",
    "params = {'dim': (500,256,400),\n",
    "          'batch_size': 1,\n",
    "          'n_channels': 1,\n",
    "          'n_classes': 0,\n",
    "          'shuffle': False,\n",
    "          'dummy':True,\n",
    "          'train':False}\n",
    "predictor_generator = DataGenerator(predict_ids, **params)\n",
    "stateless_generator = model_stateless.predict_generator(predictor_generator, steps = 1)\n",
    "print('Machine output' + str(stateless_generator.shape))\n",
    "predict = stateless_generator[0].reshape(22,128,200)\n",
    "\n",
    "vect = np.load(\"dummies/label_200.npy\")\n",
    "print('Original output' + str(vect.shape))\n",
    "truth = vect[0].reshape(256,400)\n",
    "plt.imshow(truth, cmap = 'gray')\n",
    "plt.show()\n",
    "# resizing image with cv2\n",
    "video = cv2.resize(truth,(200,128))\n",
    "plt.imshow(video, cmap = 'gray')\n",
    "plt.show()\n",
    "\n",
    "#predicted result\n",
    "plt.imshow(predict[21], cmap = 'gray')\n",
    "plt.show()\n"
   ]
  },
  {
   "cell_type": "code",
   "execution_count": 44,
   "metadata": {},
   "outputs": [
    {
     "name": "stdout",
     "output_type": "stream",
     "text": [
      "(1, 22, 128, 200)\n",
      "(1, 22, 128, 200, 1)\n"
     ]
    }
   ],
   "source": [
    "# Predict using just a single sample loaded from file\n",
    "data_loader = DataLoader()\n",
    "X, y = data_loader.load_dummy(predict_ids[0])\n",
    "X = np.expand_dims(X, axis = 0)\n",
    "print(X.shape)\n",
    "stateless_generator = model_stateless.predict_on_batch(np.expand_dims(X, axis = -1))\n",
    "print(stateless_generator.shape)"
   ]
  },
  {
   "cell_type": "code",
   "execution_count": 45,
   "metadata": {},
   "outputs": [
    {
     "name": "stdout",
     "output_type": "stream",
     "text": [
      "(1, 256, 400, 1)\n"
     ]
    },
    {
     "data": {
      "image/png": "[encoded data removed]",
      "text/plain": [
       "<Figure size 432x288 with 1 Axes>"
      ]
     },
     "metadata": {
      "needs_background": "light"
     },
     "output_type": "display_data"
    },
    {
     "data": {
      "image/png": "[encoded data removed]",
      "text/plain": [
       "<Figure size 432x288 with 1 Axes>"
      ]
     },
     "metadata": {
      "needs_background": "light"
     },
     "output_type": "display_data"
    },
    {
     "data": {
      "image/png": "[encoded data removed]",
      "text/plain": [
       "<Figure size 432x288 with 1 Axes>"
      ]
     },
     "metadata": {
      "needs_background": "light"
     },
     "output_type": "display_data"
    }
   ],
   "source": [
    "predict = stateless_generator[0].reshape(22,128,200)\n",
    "vect = np.load(\"dummies/label_200.npy\")\n",
    "print(vect.shape)\n",
    "truth = vect[0].reshape(256,400)\n",
    "plt.imshow(truth, cmap = 'gray')\n",
    "plt.show()\n",
    "# resizing image with cv2\n",
    "video = cv2.resize(truth,(200,128))\n",
    "plt.imshow(video, cmap = 'gray')\n",
    "plt.show()\n",
    "\n",
    "#predicted result\n",
    "plt.imshow(predict[21], cmap = 'gray')\n",
    "plt.show()"
   ]
  },
  {
   "cell_type": "markdown",
   "metadata": {},
   "source": [
    "Both of these create results that are 22 frames in length because the way LSTMs work is by making an LSTM for each frame in the series. The state is reset at the end of each series and thus is only remembered for each series. So although there is an LSTM step for each fram information is still passed from frame to frame to get a final result. "
   ]
  },
  {
   "cell_type": "markdown",
   "metadata": {},
   "source": [
    "Sateful LSTM"
   ]
  },
  {
   "cell_type": "markdown",
   "metadata": {},
   "source": [
    "Stateful=False\n",
    "In a stateful=False case, all the states are resetted together after each batch.\n",
    "\n",
    "    A batch with 10 sequences would create 10 states, and all 10 states are resetted automatically after it's processed.\n",
    "\n",
    "    The next batch with 10 sequences will create 10 new states, which will also be resetted after this batch is processed\n",
    "\n",
    "If all those sequences have length (timesteps) = 7, the practical result of these two batches is:\n",
    "\n",
    "    20 individual sequences, each with length 7\n",
    "\n",
    "None of the sequences are related. But of course: the weights (not the states) will be unique for the layer, and will represent what the layer has learned from all the sequences.\n",
    "\n",
    "    A state is: Where am I now inside a sequence? Which time step is it? How is this particular sequence behaving since its beginning up to now?\n",
    "    A weight is: What do I know about the general behavior of all sequences I've seen so far?\n",
    "Stateful=True\n",
    "In this case, there is also the same number of parallel states, but they will simply not be resetted at all.\n",
    "\n",
    "    A batch with 10 sequences will create 10 states that will remain as they are at the end of the batch.\n",
    "\n",
    "    The next batch with 10 sequences (it's required to be 10, since the first was 10) will reuse the same 10 states that were created before.\n",
    "\n",
    "The practical result is: the 10 sequences in the second batch are just continuing the 10 sequences of the first batch, as if there had been no interruption at all.\n",
    "\n",
    "    If each sequence has length (timesteps) = 7, then the actual meaning is:\n",
    "\n",
    "10 individual sequences, each with length 14\n",
    "\n",
    "When you see that you reached the total length of the sequences, then you call model.reset_states(), meaning you will not continue the previous sequences anymore, now you will start feeding new sequences.\n",
    "\n",
    "\n",
    "From https://www.reddit.com/r/MachineLearning/comments/4k3i2n/keras_stateful_lstm_what_am_i_missing/\n",
    "\n",
    "Let me quote directly the keras FAQ about stateful recurrent layers:\n",
    "\n",
    "When using stateful RNNs, it is therefore assumed that:\n",
    "\n",
    "1. all batches have the same number of samples\n",
    "2. If X1 and X2 are successive batches of samples, then X2[i] is the follow-up sequence to X1[i], for every i.\n",
    "\n",
    "And also from the main docs:\n",
    "\"You can set RNN layers to be 'stateful', which means that the states computed for the samples in one batch will be reused as initial states for the samples in the next batch. This assumes a one-to-one mapping between samples in different successive batches\"\n",
    "\n",
    "Now, if I'm reading this right, given a list of 10 sequences [0,1,2,3,4,5,6,7,8,9] split into batches [0,1,2,3,4] and [5,6,7,8,9], does it mean that the model expects the couples of sequences (0,5), (1,6), (2,7), etc\n",
    "\n",
    "\n",
    "The key thing is that it isn't backpropping across batches.\n",
    "\n",
    "To get it to behave like a normal RNN you need to unroll time and set the batch size equal to the number of time steps. Then when you're training it's still doing truncated BPTT but the hidden state is initialized from the matching element of the previous batch rather than zero init each time.\n",
    "\n",
    "\n",
    "Logic goes like this\n",
    "\n",
    "    BatchSize = 5\n",
    "    sequences = [ X[I::BatchSize] for I in xrange(BatchSize) ]\n",
    "\n",
    "    batches   = [ sequences[:, N] for N in xrange(X.shape[0]/BatchSize) ]\n",
    "    sequences[0] == [0, 5, 10, …]\n",
    "    sequences[1] == [1, 6, 11, …]\n",
    "    sequences[2] == [2, 7, 12, …] \n",
    "    sequences[3] == [3, 8, 13, …]   \n",
    "    sequences[4] == [4, 9, 14, …]   \n",
    "\n",
    "    batches[0] == [ 0,  1,  2,  3,  4]  \n",
    "    batches[1] == [ 5,  6,  7,  8,  9]   \n",
    "    batches[2] == [10, 11, 12, 13, 14]\n",
    "\n",
    "The function below implements this"
   ]
  },
  {
   "cell_type": "markdown",
   "metadata": {},
   "source": [
    "## STATEFUL batch_shape = [1, frag_len, x, y, 1]\n",
    "    1 sample at a time\n",
    "    update made after no_fragments batches\n",
    "    y = [1, 1, x, y, 1]"
   ]
  },
  {
   "cell_type": "code",
   "execution_count": 144,
   "metadata": {},
   "outputs": [],
   "source": [
    "def data_hankel(data, frag_len):\n",
    "    # returns no_fragments of length frag_len for a single sample\n",
    "    no_frags = int(len(data)/frag_len + 1)\n",
    "    print(no_frags)\n",
    "    hankel_matrix = [data[i:i+frag_len] for i in range(no_frags)]\n",
    "    return np.array([hankel_matrix])\n",
    "\n",
    "data = np.load(\"dummies/video_200.npy\")"
   ]
  },
  {
   "cell_type": "code",
   "execution_count": 6,
   "metadata": {},
   "outputs": [],
   "source": [
    "# Hankel matrix\n",
    "frag_len = 3\n",
    "data = np.load(\"dummies/video_200.npy\")"
   ]
  },
  {
   "cell_type": "code",
   "execution_count": 6,
   "metadata": {},
   "outputs": [],
   "source": [
    "frag_len = 5"
   ]
  },
  {
   "cell_type": "code",
   "execution_count": 29,
   "metadata": {},
   "outputs": [],
   "source": [
    "class Batch_size_1_Generator(object):\n",
    "\n",
    "    def __init__(self, frag_len):\n",
    "        self.frag_len = frag_len\n",
    "        # this will track the progress of the batches sequentially through the\n",
    "        # data set - once the data reaches the end of the data set it will reset\n",
    "        # back to zero\n",
    "        self.current_idx = 0\n",
    "        self.current_count = 0\n",
    "        self.data = None\n",
    "        #self.dup_rows()\n",
    "        # skip_step is the number of words which will be skipped before the next\n",
    "        # batch is skimmed from the data set\n",
    "\n",
    "    def dup_rows(self, a, indx, num_dups=1):\n",
    "        return np.insert(a,[indx+1]*num_dups,a[indx],axis=0)\n",
    "    \n",
    "    def generate(self):\n",
    "        # this generator returns no_frag fragments for each sample before moving to the next sample\n",
    "        while True:\n",
    "            #print(self.current_idx)\n",
    "            #print(self.current_count)\n",
    "           \n",
    "            if self.current_count == 0:\n",
    "                self.current_idx = np.random.randint(200)\n",
    "\n",
    "            self.data = np.load('dummies/video_' + str(self.current_idx) + '.npy')\n",
    "            # find out number of fragments for data\n",
    "            no_frags = int(len(self.data)/self.frag_len)\n",
    "            self.current_count += 1\n",
    "\n",
    "            if self.current_count == no_frags:\n",
    "                self.current_count = 0\n",
    "            \n",
    "            x = self.data[self.current_count:self.current_count+self.frag_len]\n",
    "            print('current sample number ' + str(self.current_idx))\n",
    "            print('fragment in sample ' + str(self.current_count))\n",
    "            #print('No frags ' + str(no_frags))\n",
    "            \n",
    "            ysing = np.load('dummies/label_' + str(self.current_idx) + '.npy')\n",
    "            y = np.expand_dims(self.dup_rows(ysing, 0, no_frags),axis = 0)\n",
    "            x = np.expand_dims(x, axis=0)\n",
    "            \n",
    "           \n",
    "            yield x,y"
   ]
  },
  {
   "cell_type": "code",
   "execution_count": 30,
   "metadata": {},
   "outputs": [
    {
     "name": "stdout",
     "output_type": "stream",
     "text": [
      "_________________________________________________________________\n",
      "Layer (type)                 Output Shape              Param #   \n",
      "=================================================================\n",
      "input_7 (InputLayer)         (1, 5, 256, 400, 1)       0         \n",
      "_________________________________________________________________\n",
      "conv_lst_m2d_7 (ConvLSTM2D)  (1, 5, 256, 400, 14)      7616      \n",
      "_________________________________________________________________\n",
      "batch_normalization_7 (Batch (1, 5, 256, 400, 14)      56        \n",
      "_________________________________________________________________\n",
      "time_distributed_7 (TimeDist (1, 5, 256, 400, 2)       254       \n",
      "_________________________________________________________________\n",
      "output (TimeDistributed)     (1, 5, 256, 400, 1)       3         \n",
      "=================================================================\n",
      "Total params: 7,929\n",
      "Trainable params: 7,901\n",
      "Non-trainable params: 28\n",
      "_________________________________________________________________\n"
     ]
    },
    {
     "name": "stderr",
     "output_type": "stream",
     "text": [
      "/home/pelonomi/anaconda3/envs/tensorflowenv/lib/python3.5/site-packages/ipykernel_launcher.py:27: UserWarning: Update your `Model` call to the Keras 2 API: `Model(inputs=[<tf.Tenso..., outputs=[<tf.Tenso...)`\n"
     ]
    }
   ],
   "source": [
    "from keras.models import Model\n",
    "from keras.layers.convolutional import Conv3D, Conv2D\n",
    "from keras.layers.convolutional_recurrent import ConvLSTM2D\n",
    "from keras.layers.normalization import BatchNormalization\n",
    "from keras.layers import Input, TimeDistributed\n",
    "import keras.backend as K\n",
    "import tensorflow as tf\n",
    "\n",
    "K.tensorflow_backend.set_session(tf.Session(config=tf.ConfigProto(device_count = {'GPU': 0})))\n",
    "\n",
    "input_shape = (None, 256, 400, 1)\n",
    "input = Input(batch_shape= [1, frag_len, 256,400, 1])\n",
    "\n",
    "x = ConvLSTM2D(filters=14, kernel_size=(3, 3),\n",
    "                   input_shape=input_shape,\n",
    "                   padding='same', \n",
    "                   return_sequences=True,\n",
    "                   stateful = True)(input)\n",
    "x = BatchNormalization()(x)\n",
    "x = TimeDistributed(Conv2D(filters=2, kernel_size=(3,3), padding='same',activation='relu'))(x)\n",
    "output = TimeDistributed(Conv2D(filters=1, kernel_size=(1,1), padding='same', activation='sigmoid'), name='output')(x)\n",
    "# output = Conv3D(filters=1, kernel_size=(3, 3, 3),\n",
    "#                    activation='sigmoid',\n",
    "#                    padding='same', data_format='channels_last')(x)\n",
    "\n",
    "\n",
    "model_stateful_batch1 = Model(inputs = [input], output=[output])\n",
    "model_stateful_batch1.compile(loss='binary_crossentropy', optimizer='adadelta')\n",
    "model_stateful_batch1.summary()"
   ]
  },
  {
   "cell_type": "code",
   "execution_count": 31,
   "metadata": {},
   "outputs": [],
   "source": [
    "frag_len = 5\n",
    "gener = Batch_size_1_Generator(frag_len).generate()"
   ]
  },
  {
   "cell_type": "code",
   "execution_count": 32,
   "metadata": {},
   "outputs": [
    {
     "name": "stdout",
     "output_type": "stream",
     "text": [
      "Time to reset states\n",
      "current sample number 184\n",
      "fragment in sample 1\n",
      "# epoch 0   loss  0.693134605884552\n",
      "current sample number 184\n",
      "fragment in sample 2\n",
      "# epoch 1   loss  0.6913216710090637\n",
      "current sample number 184\n",
      "fragment in sample 3\n",
      "# epoch 2   loss  0.6878215670585632\n",
      "current sample number 184\n",
      "fragment in sample 0\n",
      "# epoch 3   loss  0.6859501004219055\n",
      "Time to reset states\n",
      "current sample number 169\n",
      "fragment in sample 1\n",
      "# epoch 4   loss  0.681623101234436\n",
      "current sample number 169\n",
      "fragment in sample 2\n",
      "# epoch 5   loss  0.6793351769447327\n",
      "current sample number 169\n",
      "fragment in sample 3\n",
      "# epoch 6   loss  0.6752641797065735\n",
      "current sample number 169\n",
      "fragment in sample 0\n",
      "# epoch 7   loss  0.6706001162528992\n",
      "Time to reset states\n",
      "current sample number 165\n",
      "fragment in sample 1\n",
      "# epoch 8   loss  0.6568859815597534\n",
      "current sample number 165\n",
      "fragment in sample 2\n",
      "# epoch 9   loss  0.6511321663856506\n",
      "current sample number 165\n",
      "fragment in sample 3\n",
      "# epoch 10   loss  0.6364712119102478\n",
      "current sample number 165\n",
      "fragment in sample 0\n",
      "# epoch 11   loss  0.6087021231651306\n",
      "Time to reset states\n",
      "current sample number 170\n",
      "fragment in sample 1\n",
      "# epoch 12   loss  0.6087365746498108\n",
      "current sample number 170\n",
      "fragment in sample 2\n",
      "# epoch 13   loss  0.5651881694793701\n",
      "current sample number 170\n",
      "fragment in sample 3\n",
      "# epoch 14   loss  0.48893043398857117\n",
      "current sample number 170\n",
      "fragment in sample 0\n",
      "# epoch 15   loss  0.45164361596107483\n"
     ]
    }
   ],
   "source": [
    "# Train model on dataset\n",
    "#  steps_per_epoch: It should typically be equal to the number of samples of your dataset divided by the batch size\n",
    "#                   Total number of steps (batches of samples) to yield from generator before declaring one epoch finished and starting the next epoch.\n",
    "#  epochs: An epoch is an iteration over the entire data provided, as defined by  steps_per_epoch\n",
    "#          model is not trained for a number of iterations given by epochs but merely until the epoch of index epochs is reached\n",
    "\n",
    "for reps in range(16):\n",
    "    if reps%(frag_len-1) == 0:\n",
    "        print ('Time to reset states')\n",
    "        model_stateful_batch1.reset_states()\n",
    "    train_loss = 0\n",
    "    X,Y = next(gener)\n",
    "    train_loss += model_stateful_batch1.train_on_batch(X, Y)\n",
    "    #print ('# epoch', reps, '  loss ', train_loss/float(Y.shape[0]))\n",
    "    print ('# epoch', reps, '  loss ', train_loss/float(Y.shape[0]))\n",
    "\n"
   ]
  },
  {
   "cell_type": "code",
   "execution_count": 33,
   "metadata": {},
   "outputs": [
    {
     "name": "stdout",
     "output_type": "stream",
     "text": [
      "current sample number 197\n",
      "fragment in sample 1\n",
      "(1, 5, 256, 400, 1)\n"
     ]
    }
   ],
   "source": [
    "# Predict using just a single sample loaded from file\n",
    "gener = Batch_size_1_Generator(frag_len).generate()"
   ]
  },
  {
   "cell_type": "code",
   "execution_count": null,
   "metadata": {},
   "outputs": [],
   "source": []
  },
  {
   "cell_type": "code",
   "execution_count": 35,
   "metadata": {},
   "outputs": [
    {
     "name": "stdout",
     "output_type": "stream",
     "text": [
      "(1, 256, 400, 1)\n"
     ]
    },
    {
     "data": {
      "image/png": "[encoded data removed]",
      "text/plain": [
       "<Figure size 432x288 with 1 Axes>"
      ]
     },
     "metadata": {
      "needs_background": "light"
     },
     "output_type": "display_data"
    },
    {
     "data": {
      "image/png": "[encoded data removed]",
      "text/plain": [
       "<Figure size 432x288 with 1 Axes>"
      ]
     },
     "metadata": {
      "needs_background": "light"
     },
     "output_type": "display_data"
    },
    {
     "ename": "IndexError",
     "evalue": "index 5 is out of bounds for axis 0 with size 5",
     "output_type": "error",
     "traceback": [
      "\u001b[0;31m---------------------------------------------------------------------------\u001b[0m",
      "\u001b[0;31mIndexError\u001b[0m                                Traceback (most recent call last)",
      "\u001b[0;32m<ipython-input-35-835acb6ff41a>\u001b[0m in \u001b[0;36m<module>\u001b[0;34m()\u001b[0m\n\u001b[1;32m     11\u001b[0m \u001b[0;34m\u001b[0m\u001b[0m\n\u001b[1;32m     12\u001b[0m \u001b[0;31m#predicted result\u001b[0m\u001b[0;34m\u001b[0m\u001b[0;34m\u001b[0m\u001b[0m\n\u001b[0;32m---> 13\u001b[0;31m \u001b[0mplt\u001b[0m\u001b[0;34m.\u001b[0m\u001b[0mimshow\u001b[0m\u001b[0;34m(\u001b[0m\u001b[0mpredicted\u001b[0m\u001b[0;34m[\u001b[0m\u001b[0;36m5\u001b[0m\u001b[0;34m]\u001b[0m\u001b[0;34m,\u001b[0m \u001b[0mcmap\u001b[0m \u001b[0;34m=\u001b[0m \u001b[0;34m'gray'\u001b[0m\u001b[0;34m)\u001b[0m\u001b[0;34m\u001b[0m\u001b[0m\n\u001b[0m\u001b[1;32m     14\u001b[0m \u001b[0mplt\u001b[0m\u001b[0;34m.\u001b[0m\u001b[0mshow\u001b[0m\u001b[0;34m(\u001b[0m\u001b[0;34m)\u001b[0m\u001b[0;34m\u001b[0m\u001b[0m\n",
      "\u001b[0;31mIndexError\u001b[0m: index 5 is out of bounds for axis 0 with size 5"
     ]
    }
   ],
   "source": [
    "predicted = stateful_batch1[0].reshape(5,256,400)\n",
    "vect = np.load(\"dummies/label_197.npy\")\n",
    "print(vect.shape)\n",
    "truth = vect[0].reshape(256,400)\n",
    "plt.imshow(truth, cmap = 'gray')\n",
    "plt.show()\n",
    "# resizing image with cv2\n",
    "video = cv2.resize(truth,(400,256))\n",
    "plt.imshow(video, cmap = 'gray')\n",
    "plt.show()\n",
    "\n",
    "#predicted result\n",
    "plt.imshow(predicted[4], cmap = 'gray')\n",
    "plt.show()"
   ]
  },
  {
   "cell_type": "markdown",
   "metadata": {},
   "source": [
    "## STATEFUL batch_shape = [no_samples,frag_len , x, y, 1]\n",
    "    no_samples samples at a time\n",
    "    update made after no_fragments batches\n",
    "    y = [no_samples, 1, x, y, 1]"
   ]
  },
  {
   "cell_type": "code",
   "execution_count": 5,
   "metadata": {},
   "outputs": [],
   "source": [
    "# function to split a sequence into batches that match with keras stateful lstm\n",
    "def split_seq(batch_size, seq_len, sample):\n",
    "    new_sample = np.zeros((batch_size, seq_len))\n",
    "    sample_reform = sample.reshape(seq_len,batch_size)\n",
    "    for i in range (0,batch_size):\n",
    "        new_sample[i] = sample_reform[:,i]\n",
    "    return new_sample"
   ]
  },
  {
   "cell_type": "code",
   "execution_count": 6,
   "metadata": {},
   "outputs": [
    {
     "data": {
      "text/plain": [
       "array([[ 0.,  5., 10., 15., 20.],\n",
       "       [ 1.,  6., 11., 16., 21.],\n",
       "       [ 2.,  7., 12., 17., 22.],\n",
       "       [ 3.,  8., 13., 18., 23.],\n",
       "       [ 4.,  9., 14., 19., 24.]])"
      ]
     },
     "execution_count": 6,
     "metadata": {},
     "output_type": "execute_result"
    }
   ],
   "source": [
    "sample = np.array((0,1,2,3,4,5,6,7,8,9,10,11,12,13,14,15,16,17,18,19,20, 21, 22,23,24))\n",
    "\n",
    "seq_len = 5\n",
    "sample_len = len(sample)\n",
    "batch_size_stateful = int(sample_len/seq_len)\n",
    "\n",
    "split_seq(batch_size_stateful, seq_len, sample)"
   ]
  },
  {
   "cell_type": "code",
   "execution_count": 88,
   "metadata": {},
   "outputs": [],
   "source": [
    "batch_size = 2\n",
    "seq_len = 11\n",
    "sample_len = 22"
   ]
  },
  {
   "cell_type": "code",
   "execution_count": null,
   "metadata": {},
   "outputs": [],
   "source": [
    "K.tensorflow_backend.set_session(tf.Session(config=tf.ConfigProto(device_count = {'GPU': 0})))\n",
    "\n",
    "input_shape = (None, 128, 200, 1)\n",
    "input = Input(input_shape, name='input')\n",
    "\n",
    "x = ConvLSTM2D(filters=14, kernel_size=(3, 3),\n",
    "                   input_shape=input_shape,\n",
    "                   padding='same', \n",
    "                   return_sequences=True,\n",
    "                   batch_input_shape = (seq_len, batch_size , 128, 200, 1)\n",
    "                   stateful = True)(input)\n",
    "x = BatchNormalization()(x)\n",
    "x = TimeDistributed(Conv2D(filters=2, kernel_size=(3,3), padding='same',activation='relu'))(x)\n",
    "output = TimeDistributed(Conv2D(filters=1, kernel_size=(1,1), padding='same', activation='sigmoid'), name='output')(x)\n",
    "# output = Conv3D(filters=1, kernel_size=(3, 3, 3),\n",
    "#                    activation='sigmoid',\n",
    "#                    padding='same', data_format='channels_last')(x)\n",
    "\n",
    "\n",
    "model_stateful = Model(inputs = [input], output = [output])\n",
    "model_stateful.compile(loss='binary_crossentropy', optimizer='adadelta')\n",
    "model_stateful.summary()"
   ]
  },
  {
   "cell_type": "code",
   "execution_count": null,
   "metadata": {},
   "outputs": [],
   "source": []
  }
 ],
 "metadata": {
  "kernelspec": {
   "display_name": "Python 3",
   "language": "python",
   "name": "python3"
  },
  "language_info": {
   "codemirror_mode": {
    "name": "ipython",
    "version": 3
   },
   "file_extension": ".py",
   "mimetype": "text/x-python",
   "name": "python",
   "nbconvert_exporter": "python",
   "pygments_lexer": "ipython3",
   "version": "3.5.5"
  }
 },
 "nbformat": 4,
 "nbformat_minor": 2
}
