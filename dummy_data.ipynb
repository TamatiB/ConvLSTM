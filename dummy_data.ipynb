{
 "cells": [
  {
   "cell_type": "markdown",
   "metadata": {},
   "source": [
    "# TOY PROBLEM"
   ]
  },
  {
   "cell_type": "markdown",
   "metadata": {},
   "source": [
    "Here we generate dummy calcium fluorescence images that are easy to sgment. The data for our toy problem."
   ]
  },
  {
   "cell_type": "code",
   "execution_count": 2,
   "metadata": {},
   "outputs": [
    {
     "name": "stderr",
     "output_type": "stream",
     "text": [
      "/home/pelonomi/anaconda3/envs/tensorflowenv/lib/python3.5/importlib/_bootstrap.py:222: RuntimeWarning: numpy.dtype size changed, may indicate binary incompatibility. Expected 96, got 88\n",
      "  return f(*args, **kwds)\n",
      "/home/pelonomi/anaconda3/envs/tensorflowenv/lib/python3.5/importlib/_bootstrap.py:222: RuntimeWarning: numpy.dtype size changed, may indicate binary incompatibility. Expected 96, got 88\n",
      "  return f(*args, **kwds)\n"
     ]
    }
   ],
   "source": [
    "import numpy as np\n",
    "import pylab as plt\n",
    "import matplotlib.pyplot as mplt\n",
    "from scipy.misc import imread, imsave\n",
    "from glob import glob\n",
    "from PIL import Image\n",
    "\n",
    "from skimage import data, color\n",
    "%matplotlib inline"
   ]
  },
  {
   "cell_type": "code",
   "execution_count": 304,
   "metadata": {},
   "outputs": [],
   "source": [
    "def generate_movies(n_samples=1200, n_frames=15):\n",
    "    row = 80\n",
    "    col = 80\n",
    "    noisy_movies = np.zeros((n_samples, n_frames, row, col, 1), dtype=np.float)\n",
    "    shifted_movies = np.zeros((n_samples, n_frames, row, col, 1),\n",
    "                              dtype=np.float)\n",
    "\n",
    "    for i in range(n_samples):\n",
    "        # Add 3 to 7 moving squares\n",
    "        n = np.random.randint(3, 8)\n",
    "\n",
    "        for j in range(n):\n",
    "            # Initial position\n",
    "            xstart = np.random.randint(20, 60)\n",
    "            ystart = np.random.randint(20, 60)\n",
    "            # Direction of motion\n",
    "            directionx = np.random.randint(0, 3) - 1\n",
    "            directiony = np.random.randint(0, 3) - 1\n",
    "\n",
    "            # Size of the square\n",
    "            w = np.random.randint(2, 4)\n",
    "\n",
    "            for t in range(n_frames):\n",
    "                x_shift = xstart + directionx * t\n",
    "                y_shift = ystart + directiony * t\n",
    "                noisy_movies[i, t, x_shift - w: x_shift + w,\n",
    "                             y_shift - w: y_shift + w, 0] += 1\n",
    "\n",
    "                # Make it more robust by adding noise.\n",
    "                # The idea is that if during inference,\n",
    "                # the value of the pixel is not exactly one,\n",
    "                # we need to train the network to be robust and still\n",
    "                # consider it as a pixel belonging to a square.\n",
    "                if np.random.randint(0, 2):\n",
    "                    noise_f = (-1)**np.random.randint(0, 2)\n",
    "                    noisy_movies[i, t,\n",
    "                                 x_shift - w - 1: x_shift + w + 1,\n",
    "                                 y_shift - w - 1: y_shift + w + 1,\n",
    "                                 0] += noise_f * 0.1\n",
    "\n",
    "                # Shift the ground truth by 1\n",
    "                x_shift = xstart + directionx * (t + 1)\n",
    "                y_shift = ystart + directiony * (t + 1)\n",
    "                shifted_movies[i, t, x_shift - w: x_shift + w,\n",
    "                               y_shift - w: y_shift + w, 0] += 1\n",
    "\n",
    "    # Cut to a 40x40 window\n",
    "    noisy_movies = noisy_movies[::, ::, 20:60, 20:60, ::]\n",
    "    shifted_movies = shifted_movies[::, ::, 20:60, 20:60, ::]\n",
    "    noisy_movies[noisy_movies >= 1] = 1\n",
    "    shifted_movies[shifted_movies >= 1] = 1\n",
    "    return noisy_movies, shifted_movies"
   ]
  },
  {
   "cell_type": "code",
   "execution_count": 305,
   "metadata": {},
   "outputs": [],
   "source": [
    "noisy_movies, shifted_movies = generate_movies(n_samples=1200)"
   ]
  },
  {
   "cell_type": "markdown",
   "metadata": {},
   "source": [
    "There are 1200 noisy movies of 15 frames each. They are 40px by 40px and single channel (greyscale)"
   ]
  },
  {
   "cell_type": "code",
   "execution_count": 307,
   "metadata": {},
   "outputs": [
    {
     "name": "stdout",
     "output_type": "stream",
     "text": [
      "(array([12, 12, 12, 12, 12, 12, 12, 12, 12, 13, 13, 13, 13, 13, 13, 13, 13,\n",
      "       13, 14, 14, 14, 14, 14, 14, 14, 14, 14, 15, 15, 15, 15, 15, 15, 15,\n",
      "       15, 15, 16, 16, 16, 16, 16, 16, 17, 17, 17, 17, 17, 17, 24, 24, 24,\n",
      "       24, 25, 25, 25, 25, 26, 26, 26, 26, 26, 26, 26, 26, 27, 27, 27, 27,\n",
      "       27, 27, 27, 27, 28, 28, 28, 28, 28, 28, 29, 29, 29, 29, 29, 29, 30,\n",
      "       30, 30, 30, 30, 30, 30, 30, 30, 30, 31, 31, 31, 31, 31, 31, 31, 31,\n",
      "       31, 31, 31, 31, 31, 31, 31, 31, 31, 31, 32, 32, 32, 32, 32, 32, 32,\n",
      "       32, 32, 32, 32, 32, 33, 33, 33, 33, 33, 33, 33, 33, 33, 33, 33, 33,\n",
      "       34, 34, 34, 34, 34, 34, 34, 34, 35, 35, 35, 35, 35, 35, 35, 35, 36,\n",
      "       36, 36, 36, 36, 36, 36, 36, 37, 37, 37, 37, 37, 37, 37, 37, 37, 38,\n",
      "       38, 38, 38, 38, 38, 38, 38, 39, 39, 39, 39, 39, 39]), array([26, 27, 28, 29, 30, 31, 37, 38, 39, 26, 27, 28, 29, 30, 31, 37, 38,\n",
      "       39, 26, 27, 28, 29, 30, 31, 37, 38, 39, 26, 27, 28, 29, 30, 31, 37,\n",
      "       38, 39, 26, 27, 28, 29, 30, 31, 26, 27, 28, 29, 30, 31, 15, 16, 17,\n",
      "       18, 15, 16, 17, 18, 11, 12, 13, 14, 15, 16, 17, 18, 11, 12, 13, 14,\n",
      "       15, 16, 17, 18, 11, 12, 13, 14, 15, 16, 11, 12, 13, 14, 15, 16, 11,\n",
      "       12, 13, 14, 15, 16, 32, 33, 34, 35, 11, 12, 13, 14, 15, 16, 19, 20,\n",
      "       21, 22, 23, 24, 25, 26, 32, 33, 34, 35, 19, 20, 21, 22, 23, 24, 25,\n",
      "       26, 32, 33, 34, 35, 19, 20, 21, 22, 23, 24, 25, 26, 32, 33, 34, 35,\n",
      "       19, 20, 21, 22, 23, 24, 25, 26, 19, 20, 21, 22, 23, 24, 25, 26, 19,\n",
      "       20, 21, 22, 23, 24, 25, 27, 19, 20, 21, 22, 23, 24, 25, 26, 27, 19,\n",
      "       20, 21, 23, 24, 25, 26, 27, 22, 23, 24, 25, 26, 27]), array([0, 0, 0, 0, 0, 0, 0, 0, 0, 0, 0, 0, 0, 0, 0, 0, 0, 0, 0, 0, 0, 0,\n",
      "       0, 0, 0, 0, 0, 0, 0, 0, 0, 0, 0, 0, 0, 0, 0, 0, 0, 0, 0, 0, 0, 0,\n",
      "       0, 0, 0, 0, 0, 0, 0, 0, 0, 0, 0, 0, 0, 0, 0, 0, 0, 0, 0, 0, 0, 0,\n",
      "       0, 0, 0, 0, 0, 0, 0, 0, 0, 0, 0, 0, 0, 0, 0, 0, 0, 0, 0, 0, 0, 0,\n",
      "       0, 0, 0, 0, 0, 0, 0, 0, 0, 0, 0, 0, 0, 0, 0, 0, 0, 0, 0, 0, 0, 0,\n",
      "       0, 0, 0, 0, 0, 0, 0, 0, 0, 0, 0, 0, 0, 0, 0, 0, 0, 0, 0, 0, 0, 0,\n",
      "       0, 0, 0, 0, 0, 0, 0, 0, 0, 0, 0, 0, 0, 0, 0, 0, 0, 0, 0, 0, 0, 0,\n",
      "       0, 0, 0, 0, 0, 0, 0, 0, 0, 0, 0, 0, 0, 0, 0, 0, 0, 0, 0, 0, 0, 0,\n",
      "       0, 0, 0, 0, 0, 0, 0]))\n"
     ]
    },
    {
     "data": {
      "image/png": "[encoded data removed]",
      "text/plain": [
       "<Figure size 432x288 with 1 Axes>"
      ]
     },
     "metadata": {
      "needs_background": "light"
     },
     "output_type": "display_data"
    }
   ],
   "source": [
    "one_pic = noisy_movies[0][0]\n",
    "print(np.nonzero(one_pic))\n",
    "mplt.figure()\n",
    "mplt.imshow(np.reshape(one_pic, (1,40,40))[0])\n",
    "mplt.show()"
   ]
  },
  {
   "cell_type": "code",
   "execution_count": 30,
   "metadata": {},
   "outputs": [],
   "source": [
    "def generate_movies(n_samples=1200, n_frames=15):\n",
    "    row = 80\n",
    "    col = 80\n",
    "    noisy_movies = np.zeros((n_samples, n_frames, row, col, 1), dtype=np.float)\n",
    "    shifted_movies = np.zeros((n_samples, n_frames, row, col, 1),\n",
    "                              dtype=np.float)\n",
    "    # FOR EACH VIDEO\n",
    "    for i in range(n_samples):\n",
    "        # Add 3 to 7 moving squares\n",
    "        n = np.random.randint(3, 8)\n",
    "\n",
    "        # FOR NUMBER OF OBJECTS IN THE VIDEO\n",
    "        for j in range(n):\n",
    "            # Initial position\n",
    "            xstart = np.random.randint(20, 60)\n",
    "            ystart = np.random.randint(20, 60)\n",
    "            # Direction of motion\n",
    "            directionx = np.random.randint(0, 3) - 1\n",
    "            directiony = np.random.randint(0, 3) - 1\n",
    "\n",
    "            # Size of the square\n",
    "            w = np.random.randint(2, 4)\n",
    "\n",
    "            for t in range(n_frames):\n",
    "                x_shift = xstart \n",
    "                y_shift = ystart \n",
    "                noisy_movies[i, t, x_shift - w: x_shift + w,\n",
    "                             y_shift - w: y_shift + w, 0] += 1\n",
    "\n",
    "                # Make it more robust by adding noise.\n",
    "                # The idea is that if during inference,\n",
    "                # the value of the pixel is not exactly one,\n",
    "                # we need to train the network to be robust and still\n",
    "                # consider it as a pixel belonging to a square.\n",
    "                if np.random.randint(0, 2):\n",
    "                    noise_f = (-1)**np.random.randint(0, 2)\n",
    "                    noisy_movies[i, t,\n",
    "                                 x_shift - w - 1: x_shift + w + 1,\n",
    "                                 y_shift - w - 1: y_shift + w + 1,\n",
    "                                 0] += noise_f * 0.1\n",
    "\n",
    "                # Shift the ground truth by 1 (ground truth movie)\n",
    "                x_shift = xstart + directionx * (t + 1)\n",
    "                y_shift = ystart + directiony * (t + 1)\n",
    "                shifted_movies[i, t, x_shift - w: x_shift + w,\n",
    "                               y_shift - w: y_shift + w, 0] += 1\n",
    "\n",
    "    # Cut to a 40x40 window\n",
    "    #noisy_movies = noisy_movies[::, ::, 20:60, 20:60, ::]\n",
    "    #shifted_movies = shifted_movies[::, ::, 20:60, 20:60, ::]\n",
    "    \n",
    "    noisy_movies[noisy_movies >= 1] = 1\n",
    "    shifted_movies[shifted_movies >= 1] = 1\n",
    "    return noisy_movies, shifted_movies\n"
   ]
  },
  {
   "cell_type": "code",
   "execution_count": 31,
   "metadata": {},
   "outputs": [
    {
     "data": {
      "image/png": "[encoded data removed]",
      "text/plain": [
       "<Figure size 432x288 with 1 Axes>"
      ]
     },
     "metadata": {
      "needs_background": "light"
     },
     "output_type": "display_data"
    }
   ],
   "source": [
    "noisy_movies, shifted_movies = generate_movies(n_samples=1)\n",
    "one_pic = noisy_movies[0][0]\n",
    "mplt.figure()\n",
    "#reshape so it can be drawn\n",
    "mplt.imshow(np.reshape(one_pic, (1,one_pic.shape[0],one_pic.shape[0]))[0])\n",
    "mplt.show()"
   ]
  },
  {
   "cell_type": "code",
   "execution_count": 32,
   "metadata": {},
   "outputs": [
    {
     "data": {
      "text/plain": [
       "(1, 15, 80, 80, 1)"
      ]
     },
     "execution_count": 32,
     "metadata": {},
     "output_type": "execute_result"
    }
   ],
   "source": [
    "noisy_movies.shape"
   ]
  },
  {
   "cell_type": "code",
   "execution_count": 288,
   "metadata": {},
   "outputs": [
    {
     "name": "stdout",
     "output_type": "stream",
     "text": [
      "(512, 512, 3)\n"
     ]
    },
    {
     "data": {
      "image/png": "[encoded data removed]",
      "text/plain": [
       "<Figure size 432x288 with 1 Axes>"
      ]
     },
     "metadata": {
      "needs_background": "light"
     },
     "output_type": "display_data"
    },
    {
     "name": "stdout",
     "output_type": "stream",
     "text": [
      "(512, 512)\n"
     ]
    },
    {
     "data": {
      "image/png": "[encoded data removed]",
      "text/plain": [
       "<Figure size 432x288 with 1 Axes>"
      ]
     },
     "metadata": {
      "needs_background": "light"
     },
     "output_type": "display_data"
    },
    {
     "data": {
      "text/plain": [
       "255"
      ]
     },
     "execution_count": 288,
     "metadata": {},
     "output_type": "execute_result"
    }
   ],
   "source": [
    "img = np.zeros((512,512,3), np.uint16)\n",
    "array = cv2.circle(img,(447,63), 63, (0,0,255), -1)\n",
    "new = cv2.circle(array,(50,63), 12, (255,255,255), -1)\n",
    "gray_image = cv2.cvtColor(new, cv2.COLOR_BGR2GRAY)\n",
    "print(new.shape)\n",
    "mplt.imshow(new)\n",
    "mplt.show()\n",
    "\n",
    "mplt.imshow(gray_image, cmap = \"Greys\")\n",
    "print(gray_image.shape)\n",
    "mplt.show()\n",
    "\n",
    "np.max(new)"
   ]
  },
  {
   "cell_type": "code",
   "execution_count": 196,
   "metadata": {},
   "outputs": [],
   "source": [
    "def hex_to_RGB(hex):\n",
    "    ''' \"#FFFFFF\" -> [255,255,255] '''\n",
    "    # Pass 16 to the integer function for change of base\n",
    "    return [int(hex[i:i+2], 16) for i in range(1,6,2)]\n",
    "\n",
    "def RGB_to_hex(RGB):\n",
    "    ''' [255,255,255] -> \"#FFFFFF\" '''\n",
    "    # Components need to be integers for hex to make sense\n",
    "    RGB = [int(x) for x in RGB]\n",
    "    return \"#\"+\"\".join([\"0{0:x}\".format(v) if v < 16 else\n",
    "            \"{0:x}\".format(v) for v in RGB])\n",
    "\n",
    "def color_dict(gradient):\n",
    "    return {\"hex\":[RGB_to_hex(RGB) for RGB in gradient],\n",
    "        \"r\":[RGB[0] for RGB in gradient],\n",
    "        \"g\":[RGB[1] for RGB in gradient],\n",
    "        \"b\":[RGB[2] for RGB in gradient]}\n",
    "\n",
    "\n",
    "def linear_gradient(start_hex = \"#000000\" , finish_hex=\"#FFFFFF\", n=10):\n",
    "    s = hex_to_RGB(start_hex)\n",
    "    f = hex_to_RGB(finish_hex)\n",
    "  # Initilize a list of the output colors with the starting color\n",
    "    RGB_list = [s]\n",
    "  # Calcuate a color at each evenly spaced value of t from 1 to n\n",
    "    for t in range(1, n):\n",
    "    # Interpolate RGB vector for color at the current value of t\n",
    "        curr_vector = [\n",
    "            int(s[j] + (float(t)/(n-1))*(f[j]-s[j]))\n",
    "            for j in range(3)\n",
    "        ]\n",
    "    # Add it to our list of output colors\n",
    "        RGB_list.append(curr_vector)\n",
    "\n",
    "    return color_dict(RGB_list)"
   ]
  },
  {
   "cell_type": "code",
   "execution_count": 197,
   "metadata": {},
   "outputs": [],
   "source": [
    "def random_color():\n",
    "    rgbl=[255,0,0]\n",
    "    np.random.shuffle(rgbl)\n",
    "    return tuple(rgbl)"
   ]
  },
  {
   "cell_type": "code",
   "execution_count": 200,
   "metadata": {
    "scrolled": true
   },
   "outputs": [
    {
     "data": {
      "text/plain": [
       "{'b': [0, 28, 56, 85, 113, 141, 170, 198, 226, 255],\n",
       " 'g': [0, 28, 56, 85, 113, 141, 170, 198, 226, 255],\n",
       " 'hex': ['#000000',\n",
       "  '#1c1c1c',\n",
       "  '#383838',\n",
       "  '#555555',\n",
       "  '#717171',\n",
       "  '#8d8d8d',\n",
       "  '#aaaaaa',\n",
       "  '#c6c6c6',\n",
       "  '#e2e2e2',\n",
       "  '#ffffff'],\n",
       " 'r': [0, 28, 56, 85, 113, 141, 170, 198, 226, 255]}"
      ]
     },
     "execution_count": 200,
     "metadata": {},
     "output_type": "execute_result"
    }
   ],
   "source": [
    "linear_gradient()"
   ]
  },
  {
   "cell_type": "code",
   "execution_count": 356,
   "metadata": {},
   "outputs": [],
   "source": [
    "def generate_movies(n_samples=1200, n_frames=15):\n",
    "    row = 100\n",
    "    col = 100\n",
    "    #noisy_movies = np.zeros((n_samples, n_frames, row, col), np.uint16)\n",
    "    noisy_movies = np.zeros((n_samples, n_frames, row, col, 1), dtype=np.float)\n",
    "    groundtruth_movies = np.zeros((n_samples, n_frames, row, col, 1), dtype=np.float)\n",
    "    # FOR EACH VIDEO\n",
    "    for i in range(n_samples):\n",
    "        # Add 10 to 30 neurons\n",
    "        n = np.random.randint(3, 8)\n",
    "        n = 5\n",
    "\n",
    "        # FOR NUMBER OF neurons IN THE VIDEO\n",
    "        for j in range(n):\n",
    "            # Initial position\n",
    "            xstart = np.random.randint(5, row-5)\n",
    "            ystart = np.random.randint(5, col-5)\n",
    "         \n",
    "            # Size of the square\n",
    "            w = np.random.randint(7, 10)\n",
    "\n",
    "            for t in range(n_frames):\n",
    "                #colour gradient\n",
    "                colour = random_color()\n",
    "                factor = (t+(n^2))*5\n",
    "\n",
    "                new = cv2.circle(noisy_movies[i, t],(xstart, ystart), w, factor, -1)\n",
    "                #new = cv2.circle(noisy_movies[i, t],(xstart, ystart), w, factor, -1)\n",
    "\n",
    "                #print(np.max(new))\n",
    "                new[new>0] = factor\n",
    "                #print(new.shape)\n",
    "                #mplt.imshow(new)\n",
    "                #mplt.show()\n",
    "                print(np.max(new))\n",
    "\n",
    "                noisy_movies[i, t] = new/np.max(new)\n",
    "                #print(noisy_movies[i,t])\n",
    "                #mplt.imshow(gray_image)\n",
    "                #mplt.show()\n",
    "                #print(noisy_movies.shape)\n",
    "\n",
    "                # Make it more robust by adding noise.\n",
    "                # The idea is that if during inference,\n",
    "                # the value of the pixel is not exactly one,\n",
    "                # we need to train the network to be robust and still\n",
    "                # consider it as a pixel belonging to a square.\n",
    "#                 if np.random.randint(0, 2):\n",
    "#                     noise_f = (-1)**np.random.randint(0, 2)\n",
    "#                     noisy_movies[i, t,\n",
    "#                                  x_shift - w - 1: x_shift + w + 1,\n",
    "#                                  y_shift - w - 1: y_shift + w + 1,\n",
    "#                                  0] += noise_f * 0.1\n",
    "\n",
    "#                 # Shift the ground truth by 1\n",
    "#                 x_shift = xstart + directionx * (t + 1)\n",
    "#                 y_shift = ystart + directiony * (t + 1)\n",
    "#                 groundtruth_movies[i, t, x_shift - w: x_shift + w,\n",
    "#                                y_shift - w: y_shift + w, 0] += 1\n",
    "\n",
    "    # Cut to a 40x40 window\n",
    "    #noisy_movies = noisy_movies[::, ::, 20:60, 20:60, ::]\n",
    "    #shifted_movies = shifted_movies[::, ::, 20:60, 20:60, ::]\n",
    "    #noisy_movies[noisy_movies >= 1] = 1\n",
    "    #groundtruth_movies[groundtruth_movies >= 1] = 1\n",
    "    return noisy_movies, groundtruth_movies"
   ]
  },
  {
   "cell_type": "code",
   "execution_count": 357,
   "metadata": {},
   "outputs": [
    {
     "name": "stdout",
     "output_type": "stream",
     "text": [
      "15.0\n",
      "0.0\n",
      "0.0\n",
      "0.0\n",
      "35.0\n",
      "40.0\n",
      "45.0\n",
      "50.0\n",
      "55.0\n",
      "0.0\n",
      "65.0\n",
      "70.0\n",
      "75.0\n",
      "80.0\n",
      "0.0\n"
     ]
    },
    {
     "name": "stderr",
     "output_type": "stream",
     "text": [
      "/home/pelonomi/anaconda3/envs/tensorflowenv/lib/python3.5/site-packages/ipykernel_launcher.py:43: RuntimeWarning: invalid value encountered in true_divide\n"
     ]
    },
    {
     "data": {
      "image/png": "[encoded data removed]",
      "text/plain": [
       "<Figure size 432x288 with 1 Axes>"
      ]
     },
     "metadata": {
      "needs_background": "light"
     },
     "output_type": "display_data"
    },
    {
     "name": "stderr",
     "output_type": "stream",
     "text": [
      "/home/pelonomi/anaconda3/envs/tensorflowenv/lib/python3.5/site-packages/matplotlib/image.py:405: UserWarning: Warning: converting a masked element to nan.\n",
      "  dv = (np.float64(self.norm.vmax) -\n",
      "/home/pelonomi/anaconda3/envs/tensorflowenv/lib/python3.5/site-packages/matplotlib/image.py:406: UserWarning: Warning: converting a masked element to nan.\n",
      "  np.float64(self.norm.vmin))\n",
      "/home/pelonomi/anaconda3/envs/tensorflowenv/lib/python3.5/site-packages/matplotlib/image.py:412: UserWarning: Warning: converting a masked element to nan.\n",
      "  a_min = np.float64(newmin)\n",
      "/home/pelonomi/anaconda3/envs/tensorflowenv/lib/python3.5/site-packages/matplotlib/image.py:417: UserWarning: Warning: converting a masked element to nan.\n",
      "  a_max = np.float64(newmax)\n",
      "/home/pelonomi/anaconda3/envs/tensorflowenv/lib/python3.5/site-packages/matplotlib/colors.py:916: UserWarning: Warning: converting a masked element to nan.\n",
      "  dtype = np.min_scalar_type(value)\n",
      "/home/pelonomi/anaconda3/envs/tensorflowenv/lib/python3.5/site-packages/numpy/ma/core.py:715: UserWarning: Warning: converting a masked element to nan.\n",
      "  data = np.array(a, copy=False, subok=subok)\n"
     ]
    },
    {
     "data": {
      "image/png": "[encoded data removed]",
      "text/plain": [
       "<Figure size 432x288 with 1 Axes>"
      ]
     },
     "metadata": {
      "needs_background": "light"
     },
     "output_type": "display_data"
    },
    {
     "data": {
      "image/png": "[encoded data removed]",
      "text/plain": [
       "<Figure size 432x288 with 1 Axes>"
      ]
     },
     "metadata": {
      "needs_background": "light"
     },
     "output_type": "display_data"
    },
    {
     "data": {
      "image/png": "[encoded data removed]",
      "text/plain": [
       "<Figure size 432x288 with 1 Axes>"
      ]
     },
     "metadata": {
      "needs_background": "light"
     },
     "output_type": "display_data"
    },
    {
     "data": {
      "image/png": "[encoded data removed]",
      "text/plain": [
       "<Figure size 432x288 with 1 Axes>"
      ]
     },
     "metadata": {
      "needs_background": "light"
     },
     "output_type": "display_data"
    },
    {
     "data": {
      "image/png": "[encoded data removed]",
      "text/plain": [
       "<Figure size 432x288 with 1 Axes>"
      ]
     },
     "metadata": {
      "needs_background": "light"
     },
     "output_type": "display_data"
    },
    {
     "data": {
      "image/png": "[encoded data removed]",
      "text/plain": [
       "<Figure size 432x288 with 1 Axes>"
      ]
     },
     "metadata": {
      "needs_background": "light"
     },
     "output_type": "display_data"
    },
    {
     "data": {
      "image/png": "[encoded data removed]",
      "text/plain": [
       "<Figure size 432x288 with 1 Axes>"
      ]
     },
     "metadata": {
      "needs_background": "light"
     },
     "output_type": "display_data"
    },
    {
     "data": {
      "image/png": "[encoded data removed]",
      "text/plain": [
       "<Figure size 432x288 with 1 Axes>"
      ]
     },
     "metadata": {
      "needs_background": "light"
     },
     "output_type": "display_data"
    },
    {
     "data": {
      "image/png": "[encoded data removed]",
      "text/plain": [
       "<Figure size 432x288 with 1 Axes>"
      ]
     },
     "metadata": {
      "needs_background": "light"
     },
     "output_type": "display_data"
    },
    {
     "data": {
      "image/png": "[encoded data removed]",
      "text/plain": [
       "<Figure size 432x288 with 1 Axes>"
      ]
     },
     "metadata": {
      "needs_background": "light"
     },
     "output_type": "display_data"
    },
    {
     "data": {
      "image/png": "[encoded data removed]",
      "text/plain": [
       "<Figure size 432x288 with 1 Axes>"
      ]
     },
     "metadata": {
      "needs_background": "light"
     },
     "output_type": "display_data"
    },
    {
     "data": {
      "image/png": "[encoded data removed]",
      "text/plain": [
       "<Figure size 432x288 with 1 Axes>"
      ]
     },
     "metadata": {
      "needs_background": "light"
     },
     "output_type": "display_data"
    },
    {
     "data": {
      "image/png": "[encoded data removed]",
      "text/plain": [
       "<Figure size 432x288 with 1 Axes>"
      ]
     },
     "metadata": {
      "needs_background": "light"
     },
     "output_type": "display_data"
    },
    {
     "data": {
      "image/png": "[encoded data removed]",
      "text/plain": [
       "<Figure size 432x288 with 1 Axes>"
      ]
     },
     "metadata": {
      "needs_background": "light"
     },
     "output_type": "display_data"
    }
   ],
   "source": [
    "noisy_movies, shifted_movies = generate_movies(n_samples=1)\n",
    "one_pic = noisy_movies[0][0]\n",
    "mplt.figure()\n",
    "#reshape so it can be drawn\n",
    "for arr in noisy_movies[0]: \n",
    "    plot = np.reshape(arr, (1,arr.shape[0],arr.shape[0]))\n",
    "    mplt.imshow(plot[0], cmap=plt.cm.BuPu_r)\n",
    "    mplt.show()"
   ]
  },
  {
   "cell_type": "code",
   "execution_count": 355,
   "metadata": {},
   "outputs": [
    {
     "name": "stdout",
     "output_type": "stream",
     "text": [
      "(100, 100, 1)\n"
     ]
    },
    {
     "data": {
      "text/plain": [
       "array([1., 1., 1., 1., 1., 1., 1., 1., 1., 1., 1., 1., 1., 1., 1., 1., 1.,\n",
       "       1., 1., 1., 1., 1., 1., 1., 1., 1., 1., 1., 1., 1., 1., 1.])"
      ]
     },
     "execution_count": 355,
     "metadata": {},
     "output_type": "execute_result"
    }
   ],
   "source": [
    "picture = noisy_movies[0][2]\n",
    "print(picture.shape)\n",
    "picture[np.nonzero(picture)]"
   ]
  },
  {
   "cell_type": "code",
   "execution_count": 322,
   "metadata": {},
   "outputs": [
    {
     "name": "stdout",
     "output_type": "stream",
     "text": [
      "<class 'numpy.ndarray'>\n"
     ]
    },
    {
     "data": {
      "image/png": "[encoded data removed]",
      "text/plain": [
       "<Figure size 432x288 with 1 Axes>"
      ]
     },
     "metadata": {
      "needs_background": "light"
     },
     "output_type": "display_data"
    },
    {
     "data": {
      "image/png": "[encoded data removed]",
      "text/plain": [
       "<Figure size 432x288 with 1 Axes>"
      ]
     },
     "metadata": {
      "needs_background": "light"
     },
     "output_type": "display_data"
    }
   ],
   "source": [
    "ar =np.reshape(picture, (1,40,40))\n",
    "ar = ar[0]\n",
    "from PIL import Image\n",
    "print(type(ar))\n",
    "im = Image.fromarray(ar)\n",
    "mplt.imshow(im)\n",
    "mplt.show()\n",
    "\n",
    "mplt.imshow(ar)\n",
    "mplt.show()\n",
    "\n"
   ]
  },
  {
   "cell_type": "code",
   "execution_count": 256,
   "metadata": {},
   "outputs": [],
   "source": [
    "\n",
    "def display_image(image, size = (5,5)):\n",
    "    fig = plt.figure(figsize=size)\n",
    "    x = len(image)\n",
    "    y = len(image[0])\n",
    "    img = np.zeros((x, y))\n",
    "    for row in range(x):\n",
    "        for col in range(y):\n",
    "            img[row,col] = image[row][col][0]\n",
    "\n",
    "    plt.imshow(img, cmap = 'gray')\n",
    "    plt.show()"
   ]
  },
  {
   "cell_type": "code",
   "execution_count": 259,
   "metadata": {},
   "outputs": [
    {
     "data": {
      "image/png": "[encoded data removed]",
      "text/plain": [
       "<Figure size 360x360 with 1 Axes>"
      ]
     },
     "metadata": {
      "needs_background": "light"
     },
     "output_type": "display_data"
    }
   ],
   "source": [
    "display_image(picture,(5,5))"
   ]
  },
  {
   "cell_type": "markdown",
   "metadata": {},
   "source": [
    "# VIDEO SYNTHESIS"
   ]
  },
  {
   "cell_type": "markdown",
   "metadata": {},
   "source": [
    "FRAME SYNTHESIS\n",
    "\n",
    "So this is a function which creates a plot that has a gaussian blur around each of the neurons based on a gaussian value and a standard deviation value. It produces one frame at a time"
   ]
  },
  {
   "cell_type": "code",
   "execution_count": 2,
   "metadata": {},
   "outputs": [],
   "source": [
    "import numpy as np\n",
    "import sys\n",
    "\n",
    "\n",
    "def f(x,y,x0,y0,sx,sy):\n",
    "    return np.exp(-(x-x0)**2/2./sx**2 -(y-y0)**2/2./sy**2)\n",
    "\n",
    "def draw_frame(sx,sy, data, gaus_blur):\n",
    "    # gaus_blur FLOAT: the amount of spread of the glowing dot\n",
    "    # sx, sy FLOAT: standard deviation (degree of blur spread)\n",
    "    # data LIST: a list of x,y co-ordiante pairs of the positions of the neurons\n",
    "    #gaus_blur = 5.\n",
    "    xmin = data[0][0]\n",
    "    xmax = data[0][0]\n",
    "    ymin = data[0][1]\n",
    "    ymax = data[0][1]\n",
    "    for i in range(1, len(data)):\n",
    "        if(data[i][0] < xmin):\n",
    "            xmin = data[i][0]\n",
    "        if(data[i][0] > xmax):\n",
    "            xmax = data[i][0]\n",
    "        if(data[i][1] < ymin):\n",
    "            ymin = data[i][1]\n",
    "        if(data[i][1] > ymax):\n",
    "            ymax = data[i][1]\n",
    "\n",
    "    xmin -= gaus_blur*sx\n",
    "    xmax += gaus_blur*sx\n",
    "    ymin -= gaus_blur*sy\n",
    "    ymax += gaus_blur*sy\n",
    "\n",
    "    dx = (xmax - xmin) / 250.\n",
    "    dy = (ymax - ymin) / 250.\n",
    "    #print(dx)\n",
    "    #print(dy)\n",
    "\n",
    "    xar = []\n",
    "    yar =[]\n",
    "    val = []\n",
    "    xvar_var = 0\n",
    "    yvar_var = 0\n",
    "    for i in np.arange(xmin,xmax+dx, dx):\n",
    "        xvar_var += (xmax+dx)\n",
    "        for j in np.arange(ymin,ymax+dy, dy):\n",
    "            yvar_var += (ymax+dy)\n",
    "            s = 0.\n",
    "            for k in range(0, len(data)):\n",
    "                d2 = (i - data[k][0])**2 + (j - data[k][1])**2\n",
    "                if( d2 < (gaus_blur*sx)**2 + (gaus_blur*sy)**2):\n",
    "                    s += f(i,j,data[k][0],data[k][1],sx,sy)\n",
    "            xar.append(i)\n",
    "            yar.append(j)\n",
    "            val.append(s)\n",
    "    \n",
    "    \n",
    "\n",
    "    fig = mplt.figure(frameon=False)\n",
    "    ax = fig.add_axes([0.,0.,1.,1.])\n",
    "    ax.set_axis_off()\n",
    "    \n",
    "    #ax.axis('off')\n",
    "    fig.add_axes(ax)\n",
    "    mplt.scatter(xar, yar, c=val, cmap = \"Greys_r\")\n",
    "    \n",
    "    fig.canvas.draw()\n",
    "    width, height = fig.get_size_inches() * fig.get_dpi()\n",
    "    mplimage = np.frombuffer(fig.canvas.tostring_rgb(), dtype='uint8').reshape(int(height), int(width), 3)\n",
    "    mplt.close(fig)\n",
    "    gray_image = color.rgb2gray(mplimage)\n",
    "    \n",
    "    # The slicing is necessary to get rid of the white frame\n",
    "    slice_val = 16\n",
    "    crop_img = gray_image[slice_val:-slice_val, slice_val:-slice_val]\n",
    "\n",
    "    return crop_img\n",
    "\n",
    "\n",
    "            #print (i, j, s)"
   ]
  },
  {
   "cell_type": "markdown",
   "metadata": {},
   "source": [
    "DATA SYNTHESIS\n",
    "\n",
    "The create a frame function requires a set of datapoints defined by x-y positions to be plotted on the scatterplot and to calculate the gaussian blur arpund the plot."
   ]
  },
  {
   "cell_type": "code",
   "execution_count": 3,
   "metadata": {},
   "outputs": [],
   "source": [
    "def synthesize_datapoints(number_neurons, img_size):\n",
    "    # number_neurons LIST: the range of minimum and maximum neurons in an image sequence\n",
    "    # img_size LIST: the size of the image, mim max positions of neurons\n",
    "    n_neurons = np.random.randint(number_neurons[0],number_neurons[1])\n",
    "    data = []\n",
    "    xmax = 0\n",
    "    ymax = 0\n",
    "    for n in range(n_neurons):\n",
    "        xpos = np.random.randint(0, img_size[0])\n",
    "        ypos = np.random.randint(0, img_size[1])\n",
    "        data.append([xpos,ypos])\n",
    "        if xmax < xpos:\n",
    "            xmax = xpos\n",
    "        if ymax < ypos:\n",
    "            ymax = ypos\n",
    "    return data"
   ]
  },
  {
   "cell_type": "markdown",
   "metadata": {},
   "source": [
    "Here we are creating a test dataset with the dataset function"
   ]
  },
  {
   "cell_type": "code",
   "execution_count": 4,
   "metadata": {},
   "outputs": [
    {
     "data": {
      "text/plain": [
       "9"
      ]
     },
     "execution_count": 4,
     "metadata": {},
     "output_type": "execute_result"
    }
   ],
   "source": [
    "n_neurons = [6,10]\n",
    "image_size = [15,10]\n",
    "data4plot = synthesize_datapoints(n_neurons, image_size)\n",
    "len(data4plot)"
   ]
  },
  {
   "cell_type": "markdown",
   "metadata": {},
   "source": [
    "Here we test to see what the image looks like for a video sample. "
   ]
  },
  {
   "cell_type": "code",
   "execution_count": 5,
   "metadata": {},
   "outputs": [],
   "source": [
    "#sx and sy determine the size of the dot range [0.003 barely there 08 super big and blurry]\n",
    "# sx and sy are the standard deviations\n",
    "sx = 0.07\n",
    "sy = sx\n",
    "gausblur = 5\n",
    "plot = draw_frame(sx,sy,data4plot, gausblur)"
   ]
  },
  {
   "cell_type": "code",
   "execution_count": 6,
   "metadata": {},
   "outputs": [],
   "source": [
    "data = np.histogram2d(plot[2], plot[1], weights=plot[3])"
   ]
  },
  {
   "cell_type": "code",
   "execution_count": 7,
   "metadata": {},
   "outputs": [
    {
     "ename": "TypeError",
     "evalue": "Invalid dimensions for image data",
     "output_type": "error",
     "traceback": [
      "\u001b[0;31m---------------------------------------------------------------------------\u001b[0m",
      "\u001b[0;31mTypeError\u001b[0m                                 Traceback (most recent call last)",
      "\u001b[0;32m<ipython-input-7-c4d03bb71b1b>\u001b[0m in \u001b[0;36m<module>\u001b[0;34m()\u001b[0m\n\u001b[0;32m----> 1\u001b[0;31m \u001b[0mmplt\u001b[0m\u001b[0;34m.\u001b[0m\u001b[0mimshow\u001b[0m\u001b[0;34m(\u001b[0m\u001b[0mplot\u001b[0m\u001b[0;34m[\u001b[0m\u001b[0;36m0\u001b[0m\u001b[0;34m]\u001b[0m\u001b[0;34m,\u001b[0m \u001b[0mcmap\u001b[0m \u001b[0;34m=\u001b[0m \u001b[0;34m\"Greys_r\"\u001b[0m\u001b[0;34m)\u001b[0m\u001b[0;34m\u001b[0m\u001b[0m\n\u001b[0m\u001b[1;32m      2\u001b[0m \u001b[0mmplt\u001b[0m\u001b[0;34m.\u001b[0m\u001b[0mshow\u001b[0m\u001b[0;34m(\u001b[0m\u001b[0;34m)\u001b[0m\u001b[0;34m\u001b[0m\u001b[0m\n\u001b[1;32m      3\u001b[0m \u001b[0mplot\u001b[0m\u001b[0;34m[\u001b[0m\u001b[0;36m0\u001b[0m\u001b[0;34m]\u001b[0m\u001b[0;34m.\u001b[0m\u001b[0mshape\u001b[0m\u001b[0;34m\u001b[0m\u001b[0m\n",
      "\u001b[0;32m~/anaconda3/envs/tensorflowenv/lib/python3.5/site-packages/matplotlib/pyplot.py\u001b[0m in \u001b[0;36mimshow\u001b[0;34m(X, cmap, norm, aspect, interpolation, alpha, vmin, vmax, origin, extent, shape, filternorm, filterrad, imlim, resample, url, hold, data, **kwargs)\u001b[0m\n\u001b[1;32m   3203\u001b[0m                         \u001b[0mfilternorm\u001b[0m\u001b[0;34m=\u001b[0m\u001b[0mfilternorm\u001b[0m\u001b[0;34m,\u001b[0m \u001b[0mfilterrad\u001b[0m\u001b[0;34m=\u001b[0m\u001b[0mfilterrad\u001b[0m\u001b[0;34m,\u001b[0m\u001b[0;34m\u001b[0m\u001b[0m\n\u001b[1;32m   3204\u001b[0m                         \u001b[0mimlim\u001b[0m\u001b[0;34m=\u001b[0m\u001b[0mimlim\u001b[0m\u001b[0;34m,\u001b[0m \u001b[0mresample\u001b[0m\u001b[0;34m=\u001b[0m\u001b[0mresample\u001b[0m\u001b[0;34m,\u001b[0m \u001b[0murl\u001b[0m\u001b[0;34m=\u001b[0m\u001b[0murl\u001b[0m\u001b[0;34m,\u001b[0m \u001b[0mdata\u001b[0m\u001b[0;34m=\u001b[0m\u001b[0mdata\u001b[0m\u001b[0;34m,\u001b[0m\u001b[0;34m\u001b[0m\u001b[0m\n\u001b[0;32m-> 3205\u001b[0;31m                         **kwargs)\n\u001b[0m\u001b[1;32m   3206\u001b[0m     \u001b[0;32mfinally\u001b[0m\u001b[0;34m:\u001b[0m\u001b[0;34m\u001b[0m\u001b[0m\n\u001b[1;32m   3207\u001b[0m         \u001b[0max\u001b[0m\u001b[0;34m.\u001b[0m\u001b[0m_hold\u001b[0m \u001b[0;34m=\u001b[0m \u001b[0mwashold\u001b[0m\u001b[0;34m\u001b[0m\u001b[0m\n",
      "\u001b[0;32m~/anaconda3/envs/tensorflowenv/lib/python3.5/site-packages/matplotlib/__init__.py\u001b[0m in \u001b[0;36minner\u001b[0;34m(ax, *args, **kwargs)\u001b[0m\n\u001b[1;32m   1853\u001b[0m                         \u001b[0;34m\"the Matplotlib list!)\"\u001b[0m \u001b[0;34m%\u001b[0m \u001b[0;34m(\u001b[0m\u001b[0mlabel_namer\u001b[0m\u001b[0;34m,\u001b[0m \u001b[0mfunc\u001b[0m\u001b[0;34m.\u001b[0m\u001b[0m__name__\u001b[0m\u001b[0;34m)\u001b[0m\u001b[0;34m,\u001b[0m\u001b[0;34m\u001b[0m\u001b[0m\n\u001b[1;32m   1854\u001b[0m                         RuntimeWarning, stacklevel=2)\n\u001b[0;32m-> 1855\u001b[0;31m             \u001b[0;32mreturn\u001b[0m \u001b[0mfunc\u001b[0m\u001b[0;34m(\u001b[0m\u001b[0max\u001b[0m\u001b[0;34m,\u001b[0m \u001b[0;34m*\u001b[0m\u001b[0margs\u001b[0m\u001b[0;34m,\u001b[0m \u001b[0;34m**\u001b[0m\u001b[0mkwargs\u001b[0m\u001b[0;34m)\u001b[0m\u001b[0;34m\u001b[0m\u001b[0m\n\u001b[0m\u001b[1;32m   1856\u001b[0m \u001b[0;34m\u001b[0m\u001b[0m\n\u001b[1;32m   1857\u001b[0m         inner.__doc__ = _add_data_doc(inner.__doc__,\n",
      "\u001b[0;32m~/anaconda3/envs/tensorflowenv/lib/python3.5/site-packages/matplotlib/axes/_axes.py\u001b[0m in \u001b[0;36mimshow\u001b[0;34m(self, X, cmap, norm, aspect, interpolation, alpha, vmin, vmax, origin, extent, shape, filternorm, filterrad, imlim, resample, url, **kwargs)\u001b[0m\n\u001b[1;32m   5485\u001b[0m                               resample=resample, **kwargs)\n\u001b[1;32m   5486\u001b[0m \u001b[0;34m\u001b[0m\u001b[0m\n\u001b[0;32m-> 5487\u001b[0;31m         \u001b[0mim\u001b[0m\u001b[0;34m.\u001b[0m\u001b[0mset_data\u001b[0m\u001b[0;34m(\u001b[0m\u001b[0mX\u001b[0m\u001b[0;34m)\u001b[0m\u001b[0;34m\u001b[0m\u001b[0m\n\u001b[0m\u001b[1;32m   5488\u001b[0m         \u001b[0mim\u001b[0m\u001b[0;34m.\u001b[0m\u001b[0mset_alpha\u001b[0m\u001b[0;34m(\u001b[0m\u001b[0malpha\u001b[0m\u001b[0;34m)\u001b[0m\u001b[0;34m\u001b[0m\u001b[0m\n\u001b[1;32m   5489\u001b[0m         \u001b[0;32mif\u001b[0m \u001b[0mim\u001b[0m\u001b[0;34m.\u001b[0m\u001b[0mget_clip_path\u001b[0m\u001b[0;34m(\u001b[0m\u001b[0;34m)\u001b[0m \u001b[0;32mis\u001b[0m \u001b[0;32mNone\u001b[0m\u001b[0;34m:\u001b[0m\u001b[0;34m\u001b[0m\u001b[0m\n",
      "\u001b[0;32m~/anaconda3/envs/tensorflowenv/lib/python3.5/site-packages/matplotlib/image.py\u001b[0m in \u001b[0;36mset_data\u001b[0;34m(self, A)\u001b[0m\n\u001b[1;32m    651\u001b[0m         if not (self._A.ndim == 2\n\u001b[1;32m    652\u001b[0m                 or self._A.ndim == 3 and self._A.shape[-1] in [3, 4]):\n\u001b[0;32m--> 653\u001b[0;31m             \u001b[0;32mraise\u001b[0m \u001b[0mTypeError\u001b[0m\u001b[0;34m(\u001b[0m\u001b[0;34m\"Invalid dimensions for image data\"\u001b[0m\u001b[0;34m)\u001b[0m\u001b[0;34m\u001b[0m\u001b[0m\n\u001b[0m\u001b[1;32m    654\u001b[0m \u001b[0;34m\u001b[0m\u001b[0m\n\u001b[1;32m    655\u001b[0m         \u001b[0;32mif\u001b[0m \u001b[0mself\u001b[0m\u001b[0;34m.\u001b[0m\u001b[0m_A\u001b[0m\u001b[0;34m.\u001b[0m\u001b[0mndim\u001b[0m \u001b[0;34m==\u001b[0m \u001b[0;36m3\u001b[0m\u001b[0;34m:\u001b[0m\u001b[0;34m\u001b[0m\u001b[0m\n",
      "\u001b[0;31mTypeError\u001b[0m: Invalid dimensions for image data"
     ]
    },
    {
     "data": {
      "image/png": "[encoded data removed]",
      "text/plain": [
       "<Figure size 432x288 with 1 Axes>"
      ]
     },
     "metadata": {
      "needs_background": "light"
     },
     "output_type": "display_data"
    }
   ],
   "source": [
    "mplt.imshow(plot[0], cmap = \"Greys_r\")\n",
    "mplt.show()\n",
    "plot[0].shape"
   ]
  },
  {
   "cell_type": "code",
   "execution_count": null,
   "metadata": {},
   "outputs": [],
   "source": [
    "long_plot = np.expand_dims(plot, axis = -1)\n",
    "long_plot.shape"
   ]
  },
  {
   "cell_type": "markdown",
   "metadata": {},
   "source": [
    "LABEL SYNTHESIS"
   ]
  },
  {
   "cell_type": "code",
   "execution_count": 281,
   "metadata": {},
   "outputs": [
    {
     "data": {
      "image/png": "[encoded data removed]",
      "text/plain": [
       "<Figure size 432x288 with 1 Axes>"
      ]
     },
     "metadata": {
      "needs_background": "light"
     },
     "output_type": "display_data"
    },
    {
     "data": {
      "text/plain": [
       "(256, 400)"
      ]
     },
     "execution_count": 281,
     "metadata": {},
     "output_type": "execute_result"
    }
   ],
   "source": [
    "#sx and sy determine the size of the dot range [0.003 barely there 08 super big and blurry]\n",
    "# sx and sy are the standard deviations\n",
    "sx = 0.2\n",
    "sy = sx\n",
    "gausblur = 0.7\n",
    "data4plot, [max_x, max_y] = synthesize_datapoints(n_neurons, image_size)\n",
    "plot = draw_frame(sx,sy,data4plot, gausblur)\n",
    "mplt.imshow(plot, cmap = \"Greys_r\")\n",
    "mplt.show()\n",
    "plot.shape"
   ]
  },
  {
   "cell_type": "markdown",
   "metadata": {},
   "source": [
    "VIDEO AND LABEL PAIR SYNTHESIS\n",
    "\n",
    "This creates n_samples number of video sequences of length n_frames (defined by std deviations) as well as the label image which is calculated using a different standard deviation"
   ]
  },
  {
   "cell_type": "markdown",
   "metadata": {},
   "source": [
    "Here We generate our movies which is an array of (n_samples, n_frames, row, col, 1).\n",
    "We increment the std value for a number of frames and then decrease it again to create a glowing calcium response effect. They are not spontaneous. The responses are going to happen all at the same time."
   ]
  },
  {
   "cell_type": "code",
   "execution_count": 8,
   "metadata": {},
   "outputs": [],
   "source": [
    "import multiprocessing"
   ]
  },
  {
   "cell_type": "code",
   "execution_count": 9,
   "metadata": {},
   "outputs": [],
   "source": [
    "def make_data():\n",
    "    pool = multiprocessing.Pool(processes=2)\n",
    "    std_array = [0.003, 0.015, 0.035, 0.040, 0.045, 0.050, 0.055, 0.06, 0.07, 0.08, 0.09]\n",
    "    #n_frames is the length of the std array *2\n",
    "    n_samples = 50\n",
    "    n_frames = len(std_array)*2\n",
    "    row = 256\n",
    "    col = 400\n",
    "\n",
    "    n_neurons = [6,10]\n",
    "    image_size = [15,10]\n",
    "\n",
    "    gausblur_vids = 5.\n",
    "    gausblur_label = 0.7\n",
    "\n",
    "    neuron_movies = np.zeros((n_samples, n_frames, row, col, 1), dtype=np.float)\n",
    "    movie_segs = np.zeros((n_samples, 1, row, col, 1), dtype=np.float)\n",
    "\n",
    "    for sample in range(n_samples):\n",
    "        frame_n = 0 #this is a counter so that when we reveres the array we still have the right index\n",
    "        data4plot = synthesize_datapoints(n_neurons, image_size)\n",
    "\n",
    "        for std in std_array:\n",
    "            frame = draw_frame(std,std, data4plot, gausblur_vids)\n",
    "            neuron_movies[sample, frame_n ] = np.expand_dims(frame, axis = -1)\n",
    "            frame_n +=1\n",
    "        for std in reversed(std_array):\n",
    "            frame = draw_frame(std,std,data4plot, gausblur_vids)\n",
    "            neuron_movies[sample, frame_n ] = np.expand_dims(frame, axis = -1)\n",
    "            frame_n +=1\n",
    "        label = draw_frame(0.2,0.2, data4plot, gausblur_label)\n",
    "        label[label>0] = 1\n",
    "        movie_segs[sample, 0] = np.expand_dims(label, axis = -1)\n",
    "    return neuron_movies, movie_segs"
   ]
  },
  {
   "cell_type": "markdown",
   "metadata": {},
   "source": [
    "Check what is inside"
   ]
  },
  {
   "cell_type": "code",
   "execution_count": 38,
   "metadata": {},
   "outputs": [],
   "source": [
    "import cProfile"
   ]
  },
  {
   "cell_type": "code",
   "execution_count": 51,
   "metadata": {},
   "outputs": [
    {
     "name": "stdout",
     "output_type": "stream",
     "text": [
      "         46819634 function calls (46812780 primitive calls) in 79.980 seconds\n",
      "\n",
      "   Ordered by: standard name\n",
      "\n",
      "   ncalls  tottime  percall  cumtime  percall filename:lineno(function)\n",
      "      699    0.001    0.000    0.002    0.000 <frozen importlib._bootstrap>:995(_handle_fromlist)\n",
      "    43795    0.247    0.000    0.247    0.000 <ipython-input-48-01d2307863b4>:5(f)\n",
      "       23   21.393    0.930   79.909    3.474 <ipython-input-48-01d2307863b4>:8(draw_frame)\n",
      "        1    0.000    0.000    0.000    0.000 <ipython-input-49-30c0ca3d4a24>:1(synthesize_datapoints)\n",
      "        1    0.029    0.029   79.980   79.980 <ipython-input-50-58577d1432de>:1(make_data)\n",
      "        1    0.000    0.000   79.980   79.980 <string>:1(<module>)\n",
      "     1242    0.001    0.000    0.003    0.000 <string>:12(__new__)\n",
      "       69    0.000    0.000    0.000    0.000 __init__.py:1155(__init__)\n",
      "       23    0.000    0.000    0.000    0.000 __init__.py:1176(__init__)\n",
      "       69    0.000    0.000    0.000    0.000 __init__.py:1206(push)\n",
      "       92    0.000    0.000    0.000    0.000 __init__.py:1226(clear)\n",
      "       46    0.000    0.000    0.000    0.000 __init__.py:1231(bubble)\n",
      "       23    0.000    0.000    0.000    0.000 __init__.py:1419(get_backend)\n",
      "       46    0.000    0.000    0.000    0.000 __init__.py:1433(is_interactive)\n",
      "       46    0.000    0.000    0.000    0.000 __init__.py:1483(__init__)\n",
      "      207    0.001    0.000    0.001    0.000 __init__.py:1491(clean)\n",
      "      207    0.000    0.000    0.000    0.000 __init__.py:1496(<listcomp>)\n",
      "      161    0.001    0.000    0.001    0.000 __init__.py:1564(get_siblings)\n",
      "      161    0.000    0.000    0.000    0.000 __init__.py:1571(<listcomp>)\n",
      "      276    0.001    0.000    0.001    0.000 __init__.py:161(__init__)\n",
      "       23    0.011    0.000    0.020    0.001 __init__.py:1612(delete_masked_points)\n",
      "       23    0.001    0.000   22.102    0.961 __init__.py:1774(inner)\n",
      "       69    0.000    0.000    0.000    0.000 __init__.py:1789(<genexpr>)\n",
      "      138    0.000    0.000    0.000    0.000 __init__.py:183(add_destroy_callback)\n",
      "      552    0.001    0.000    0.004    0.000 __init__.py:2042(_to_unmasked_float_array)\n",
      "      138    0.000    0.000    0.000    0.000 __init__.py:2311(<lambda>)\n",
      "      184    0.000    0.000    0.001    0.000 __init__.py:2346(safe_first_element)\n",
      "       46    0.000    0.000    0.000    0.000 __init__.py:2362(sanitize_sequence)\n",
      "       23    0.000    0.000    0.000    0.000 __init__.py:2475(get_label)\n",
      "      276    0.000    0.000    0.000    0.000 __init__.py:249(__hash__)\n",
      "       23    0.000    0.000    0.000    0.000 __init__.py:25(get_projection_class)\n",
      "      437    0.001    0.000    0.001    0.000 __init__.py:313(__init__)\n",
      "      138    0.001    0.000    0.003    0.000 __init__.py:333(connect)\n",
      "       23    0.001    0.000    0.001    0.000 __init__.py:362(disconnect)\n",
      "      736    0.000    0.000    0.000    0.000 __init__.py:378(process)\n",
      "     1380    0.001    0.000    0.001    0.000 __init__.py:518(iterable)\n",
      "       23    0.000    0.000    0.000    0.000 __init__.py:52(get_projection_class)\n",
      "      644    0.001    0.000    0.003    0.000 __init__.py:584(is_numlike)\n",
      "      414    0.000    0.000    0.000    0.000 __init__.py:637(_string_to_bool)\n",
      "       23    0.000    0.000    0.000    0.000 __init__.py:68(process_projection_requirements)\n",
      "    21597    0.017    0.000    0.017    0.000 __init__.py:931(__getitem__)\n",
      "       23    0.003    0.000   22.101    0.961 _axes.py:4082(scatter)\n",
      "       23    0.000    0.000    0.002    0.000 _base.py:1166(_set_title_offset_trans)\n",
      "       23    0.000    0.000    0.000    0.000 _base.py:1287(get_aspect)\n",
      "       23    0.000    0.000    0.002    0.000 _base.py:1511(apply_aspect)\n",
      "       46    0.000    0.000    0.000    0.000 _base.py:155(__init__)\n",
      "       46    0.000    0.000    0.000    0.000 _base.py:168(set_prop_cycle)\n",
      "       23    0.000    0.000    0.000    0.000 _base.py:1826(_sci)\n",
      "       23    0.001    0.000    4.821    0.210 _base.py:1880(add_collection)\n",
      "       23    0.000    0.000    0.002    0.000 _base.py:2108(update_datalim)\n",
      "       69    0.000    0.000    0.003    0.000 _base.py:2130(_process_unit_info)\n",
      "       23    0.000    0.000    0.000    0.000 _base.py:2231(use_sticky_edges)\n",
      "       23    0.000    0.000    0.032    0.001 _base.py:2423(autoscale_view)\n",
      "       23    0.000    0.000    0.000    0.000 _base.py:2448(<listcomp>)\n",
      "       23    0.000    0.000    0.000    0.000 _base.py:2449(<listcomp>)\n",
      "       23    0.000    0.000    0.000    0.000 _base.py:2450(<listcomp>)\n",
      "       46    0.002    0.000    0.030    0.001 _base.py:2458(handle_single_axis)\n",
      "       46    0.000    0.000    0.000    0.000 _base.py:2465(<listcomp>)\n",
      "       46    0.001    0.000    0.001    0.000 _base.py:2467(<listcomp>)\n",
      "       46    0.000    0.000    0.001    0.000 _base.py:2471(<listcomp>)\n",
      "       46    0.000    0.000    0.000    0.000 _base.py:2474(<listcomp>)\n",
      "       23    0.000    0.000    0.000    0.000 _base.py:2523(_get_axis_list)\n",
      "       23    0.001    0.000   35.110    1.527 _base.py:2528(draw)\n",
      "       23    0.000    0.000    0.000    0.000 _base.py:2580(<listcomp>)\n",
      "       46    0.000    0.000    0.215    0.005 _base.py:2678(grid)\n",
      "       46    0.000    0.000    0.004    0.000 _base.py:2848(tick_params)\n",
      "       23    0.000    0.000    0.000    0.000 _base.py:2947(set_axis_off)\n",
      "       23    0.000    0.000    0.000    0.000 _base.py:2952(set_axis_on)\n",
      "       23    0.000    0.000    0.000    0.000 _base.py:2963(xaxis_inverted)\n",
      "       23    0.000    0.000    0.000    0.000 _base.py:2968(get_xbound)\n",
      "       23    0.000    0.000    0.005    0.000 _base.py:2976(set_xbound)\n",
      "       92    0.000    0.000    0.001    0.000 _base.py:3006(get_xlim)\n",
      "      184    0.001    0.000    0.003    0.000 _base.py:3024(_validate_converted_limits)\n",
      "       46    0.001    0.000    0.008    0.000 _base.py:3043(set_xlim)\n",
      "       92    0.000    0.000    0.000    0.000 _base.py:3150(get_xscale)\n",
      "       23    0.000    0.000    0.000    0.000 _base.py:3303(yaxis_inverted)\n",
      "       23    0.000    0.000    0.000    0.000 _base.py:3308(get_ybound)\n",
      "       23    0.000    0.000    0.002    0.000 _base.py:3316(set_ybound)\n",
      "       92    0.000    0.000    0.001    0.000 _base.py:3345(get_ylim)\n",
      "       46    0.001    0.000    0.004    0.000 _base.py:3363(set_ylim)\n",
      "       92    0.000    0.000    0.000    0.000 _base.py:3470(get_yscale)\n",
      "       23    0.000    0.000    0.000    0.000 _base.py:3716(set_navigate)\n",
      "       23    0.000    0.000    0.000    0.000 _base.py:3734(set_navigate_mode)\n",
      "       46    0.000    0.000    0.001    0.000 _base.py:4081(get_children)\n",
      "       23    0.002    0.000    0.470    0.020 _base.py:423(__init__)\n",
      "       23    0.000    0.000    0.000    0.000 _base.py:481(<listcomp>)\n",
      "       23    0.000    0.000    0.053    0.002 _base.py:615(_init_axis)\n",
      "       23    0.000    0.000    0.004    0.000 _base.py:625(set_figure)\n",
      "       23    0.000    0.000    0.002    0.000 _base.py:647(_set_lim_and_transforms)\n",
      "  667/345    0.001    0.000    0.003    0.000 _base.py:686(get_xaxis_transform)\n",
      "       69    0.000    0.000    0.002    0.000 _base.py:711(get_xaxis_text1_transform)\n",
      "       69    0.000    0.000    0.002    0.000 _base.py:739(get_xaxis_text2_transform)\n",
      "  667/345    0.000    0.000    0.002    0.000 _base.py:766(get_yaxis_transform)\n",
      "       69    0.000    0.000    0.002    0.000 _base.py:791(get_yaxis_text1_transform)\n",
      "       69    0.000    0.000    0.002    0.000 _base.py:818(get_yaxis_text2_transform)\n",
      "       46    0.000    0.000    0.003    0.000 _base.py:846(_update_transScale)\n",
      "       23    0.000    0.000    0.000    0.000 _base.py:857(get_position)\n",
      "       23    0.000    0.000    0.001    0.000 _base.py:903(_set_position)\n",
      "       23    0.000    0.000    0.000    0.000 _base.py:930(set_axes_locator)\n",
      "       23    0.000    0.000    0.000    0.000 _base.py:946(get_axes_locator)\n",
      "       92    0.000    0.000    0.001    0.000 _base.py:952(_set_artist_props)\n",
      "       23    0.000    0.000    0.004    0.000 _base.py:962(_gen_axes_patch)\n",
      "       23    0.000    0.000    0.026    0.001 _base.py:978(_gen_axes_spines)\n",
      "       23    0.002    0.000    0.378    0.016 _base.py:998(cla)\n",
      "       23    0.000    0.000    0.001    0.000 _methods.py:26(_amax)\n",
      "       23    0.000    0.000    0.001    0.000 _methods.py:30(_amin)\n",
      "       46    0.000    0.000    0.002    0.000 _methods.py:42(_any)\n",
      "      552    0.000    0.000    0.004    0.000 _methods.py:45(_all)\n",
      "       69    0.000    0.000    0.000    0.000 _pylab_helpers.py:105(get_active)\n",
      "       23    0.000    0.000    0.000    0.000 _pylab_helpers.py:115(set_active)\n",
      "       23    0.000    0.000    0.000    0.000 _pylab_helpers.py:35(get_fig_manager)\n",
      "       23    0.000    0.000    0.033    0.001 _pylab_helpers.py:46(destroy)\n",
      "       23    0.000    0.000    0.033    0.001 _pylab_helpers.py:63(destroy_fig)\n",
      "       46    0.000    0.000    0.000    0.000 _pylab_helpers.py:66(<genexpr>)\n",
      "       23    0.000    0.000    0.000    0.000 _pylab_helpers.py:84(has_fignum)\n",
      "       69    0.000    0.000    0.000    0.000 _weakrefset.py:16(__init__)\n",
      "       69    0.000    0.000    0.000    0.000 _weakrefset.py:20(__enter__)\n",
      "       69    0.000    0.000    0.000    0.000 _weakrefset.py:26(__exit__)\n",
      "     3059    0.002    0.000    0.002    0.000 _weakrefset.py:70(__contains__)\n",
      "        5    0.000    0.000    0.000    0.000 _weakrefset.py:81(add)\n",
      "     2139    0.003    0.000    0.006    0.000 abc.py:178(__instancecheck__)\n",
      "       92    0.000    0.000    0.000    0.000 artist.py:1049(mouseover)\n",
      "       23    0.000    0.000    0.000    0.000 artist.py:177(have_units)\n",
      "      943    0.001    0.000    0.002    0.000 artist.py:184(convert_xunits)\n",
      "      943    0.000    0.000    0.002    0.000 artist.py:193(convert_yunits)\n",
      "    12305    0.002    0.000    0.002    0.000 artist.py:202(axes)\n",
      "     1610    0.001    0.000    0.001    0.000 artist.py:210(axes)\n",
      "22494/18239    0.014    0.000    0.023    0.000 artist.py:230(stale)\n",
      "     3910    0.005    0.000    0.009    0.000 artist.py:288(pchanged)\n",
      "       92    0.000    0.000    0.000    0.000 artist.py:296(is_transform_set)\n",
      "     1104    0.001    0.000    0.005    0.000 artist.py:303(set_transform)\n",
      "      391    0.000    0.000    0.000    0.000 artist.py:317(get_transform)\n",
      "   161/23    0.001    0.000   35.112    1.527 artist.py:47(draw_wrapper)\n",
      "       23    0.000    0.000    0.000    0.000 artist.py:490(get_gid)\n",
      "       23    0.000    0.000    0.000    0.000 artist.py:505(get_snap)\n",
      "       23    0.000    0.000    0.000    0.000 artist.py:544(get_sketch_params)\n",
      "       23    0.000    0.000    0.000    0.000 artist.py:605(get_path_effects)\n",
      "       23    0.000    0.000    0.000    0.000 artist.py:608(get_figure)\n",
      "     1219    0.002    0.000    0.005    0.000 artist.py:612(set_figure)\n",
      "       69    0.000    0.000    0.000    0.000 artist.py:637(set_clip_box)\n",
      "      345    0.003    0.000    0.061    0.000 artist.py:650(set_clip_path)\n",
      "     4025    0.004    0.000    0.008    0.000 artist.py:66(_stale_axes_callback)\n",
      "      184    0.000    0.000    0.000    0.000 artist.py:711(get_visible)\n",
      "    22609    0.003    0.000    0.003    0.000 artist.py:715(get_animated)\n",
      "       23    0.000    0.000    0.000    0.000 artist.py:727(get_clip_path)\n",
      "       23    0.000    0.000    0.000    0.000 artist.py:759(_set_gc_clip)\n",
      "      322    0.000    0.000    0.000    0.000 artist.py:769(get_rasterized)\n",
      "      322    0.000    0.000    0.000    0.000 artist.py:789(get_agg_filter)\n",
      "      161    0.000    0.000    0.001    0.000 artist.py:814(set_alpha)\n",
      "       92    0.000    0.000    0.001    0.000 artist.py:828(set_visible)\n",
      "      897    0.004    0.000    0.013    0.000 artist.py:854(update)\n",
      "      460    0.001    0.000    0.006    0.000 artist.py:858(_update_property)\n",
      "     1242    0.014    0.000    0.020    0.000 artist.py:87(__init__)\n",
      "      897    0.001    0.000    0.007    0.000 artist.py:887(<listcomp>)\n",
      "       23    0.000    0.000    0.000    0.000 artist.py:897(get_label)\n",
      "       69    0.000    0.000    0.000    0.000 artist.py:901(set_label)\n",
      "       23    0.000    0.000    0.000    0.000 artist.py:920(get_zorder)\n",
      "      391    0.001    0.000    0.002    0.000 artist.py:924(set_zorder)\n",
      "      253    0.000    0.000    0.000    0.000 artist.py:940(sticky_edges)\n",
      "       46    0.000    0.000    0.000    0.000 axis.py:1377(get_major_locator)\n",
      "       92    0.001    0.000    0.215    0.002 axis.py:1423(grid)\n",
      "       92    0.000    0.000    0.000    0.000 axis.py:1439(<dictcomp>)\n",
      "       92    0.000    0.000    0.003    0.000 axis.py:1456(update_units)\n",
      "      276    0.000    0.000    0.000    0.000 axis.py:1478(_update_axisinfo)\n",
      "      138    0.000    0.000    0.000    0.000 axis.py:1512(have_units)\n",
      "      230    0.000    0.000    0.002    0.000 axis.py:1515(convert_units)\n",
      "      276    0.001    0.000    0.002    0.000 axis.py:1529(set_units)\n",
      "      368    0.001    0.000    0.002    0.000 axis.py:1566(set_major_formatter)\n",
      "      368    0.001    0.000    0.001    0.000 axis.py:1577(set_minor_formatter)\n",
      "      368    0.001    0.000    0.003    0.000 axis.py:1588(set_major_locator)\n",
      "      368    0.000    0.000    0.001    0.000 axis.py:1599(set_minor_locator)\n",
      "      138    0.000    0.000    0.000    0.000 axis.py:172(<dictcomp>)\n",
      "       69    0.000    0.000    0.079    0.001 axis.py:1787(_get_tick)\n",
      "       23    0.000    0.000    0.004    0.000 axis.py:1794(_get_label)\n",
      "       23    0.000    0.000    0.002    0.000 axis.py:1812(_get_offset_text)\n",
      "      138    0.000    0.000    0.000    0.000 axis.py:192(_set_labelrotation)\n",
      "       46    0.000    0.000    0.000    0.000 axis.py:2087(get_minpos)\n",
      "      138    0.000    0.000    0.000    0.000 axis.py:215(get_tick_padding)\n",
      "       69    0.000    0.000    0.181    0.003 axis.py:2159(_get_tick)\n",
      "       23    0.000    0.000    0.003    0.000 axis.py:2166(_get_label)\n",
      "       23    0.000    0.000    0.002    0.000 axis.py:2186(_get_offset_text)\n",
      "      138    0.000    0.000    0.047    0.000 axis.py:231(set_clip_path)\n",
      "       46    0.000    0.000    0.000    0.000 axis.py:2466(get_minpos)\n",
      "      690    0.001    0.000    0.004    0.000 axis.py:331(_set_artist_props)\n",
      "      322    0.002    0.000    0.003    0.000 axis.py:338(_apply_params)\n",
      "      322    0.000    0.000    0.000    0.000 axis.py:340(<listcomp>)\n",
      "      322    0.000    0.000    0.000    0.000 axis.py:343(<listcomp>)\n",
      "      322    0.000    0.000    0.000    0.000 axis.py:363(<dictcomp>)\n",
      "      322    0.000    0.000    0.000    0.000 axis.py:376(<listcomp>)\n",
      "      322    0.000    0.000    0.000    0.000 axis.py:389(<listcomp>)\n",
      "       69    0.000    0.000    0.002    0.000 axis.py:415(_get_text1_transform)\n",
      "       69    0.000    0.000    0.002    0.000 axis.py:418(_get_text2_transform)\n",
      "       69    0.000    0.000    0.001    0.000 axis.py:421(apply_tickdir)\n",
      "       69    0.001    0.000    0.009    0.000 axis.py:435(_get_text1)\n",
      "       69    0.001    0.000    0.008    0.000 axis.py:452(_get_text2)\n",
      "       69    0.001    0.000    0.019    0.000 axis.py:468(_get_tick1line)\n",
      "       69    0.001    0.000    0.016    0.000 axis.py:479(_get_tick2line)\n",
      "       69    0.001    0.000    0.021    0.000 axis.py:494(_get_gridline)\n",
      "       69    0.000    0.000    0.001    0.000 axis.py:510(update_position)\n",
      "       69    0.000    0.000    0.002    0.000 axis.py:538(_get_text1_transform)\n",
      "       69    0.000    0.000    0.002    0.000 axis.py:541(_get_text2_transform)\n",
      "       69    0.000    0.000    0.001    0.000 axis.py:544(apply_tickdir)\n",
      "       69    0.001    0.000    0.014    0.000 axis.py:559(_get_text1)\n",
      "       69    0.001    0.000    0.108    0.002 axis.py:574(_get_text2)\n",
      "       69    0.001    0.000    0.016    0.000 axis.py:589(_get_tick1line)\n",
      "       69    0.001    0.000    0.016    0.000 axis.py:604(_get_tick2line)\n",
      "       69    0.001    0.000    0.021    0.000 axis.py:618(_get_gridline)\n",
      "       69    0.000    0.000    0.001    0.000 axis.py:633(update_position)\n",
      "   138/92    0.000    0.000    0.261    0.003 axis.py:670(__get__)\n",
      "       46    0.001    0.000    0.032    0.001 axis.py:705(__init__)\n",
      "      138    0.004    0.000    0.260    0.002 axis.py:74(__init__)\n",
      "      138    0.000    0.000    0.001    0.000 axis.py:764(get_transform)\n",
      "      184    0.000    0.000    0.000    0.000 axis.py:767(get_scale)\n",
      "      368    0.001    0.000    0.066    0.000 axis.py:770(_set_scale)\n",
      "       92    0.000    0.000    0.001    0.000 axis.py:779(limit_range_for_scale)\n",
      "      276    0.002    0.000    0.056    0.000 axis.py:801(cla)\n",
      "      368    0.002    0.000    0.002    0.000 axis.py:824(reset_ticks)\n",
      "      184    0.001    0.000    0.218    0.001 axis.py:844(set_tick_params)\n",
      "      184    0.001    0.000    0.001    0.000 axis.py:875(_translate_tick_kw)\n",
      "       46    0.000    0.000    0.107    0.002 axis.py:927(set_clip_path)\n",
      "       92    0.000    0.000    0.000    0.000 axis.py:962(_set_artist_props)\n",
      "       23    0.000    0.000   35.040    1.523 backend_agg.py:124(draw_path_collection)\n",
      "       23    0.000    0.000    0.000    0.000 backend_agg.py:127(_update_methods)\n",
      "       23    0.000    0.000    0.003    0.000 backend_agg.py:291(tostring_rgb)\n",
      "       46    0.000    0.000    0.000    0.000 backend_agg.py:303(option_image_nocomposite)\n",
      "       23    0.000    0.000   35.118    1.527 backend_agg.py:421(draw)\n",
      "       23    0.000    0.000    0.006    0.000 backend_agg.py:442(get_renderer)\n",
      "       23    0.000    0.000    0.003    0.000 backend_agg.py:456(tostring_rgb)\n",
      "       23    0.003    0.000    0.005    0.000 backend_agg.py:91(__init__)\n",
      "       23    0.000    0.000    0.000    0.000 backend_bases.py:1039(set_clip_rectangle)\n",
      "       23    0.000    0.000    0.000    0.000 backend_bases.py:1045(set_clip_path)\n",
      "       23    0.000    0.000    0.000    0.000 backend_bases.py:1132(set_snap)\n",
      "       23    0.000    0.000    0.000    0.000 backend_bases.py:1151(get_hatch)\n",
      "       23    0.000    0.000    0.000    0.000 backend_bases.py:1157(get_hatch_path)\n",
      "       23    0.000    0.000    0.000    0.000 backend_bases.py:1166(get_hatch_color)\n",
      "       23    0.000    0.000    0.000    0.000 backend_bases.py:1178(get_hatch_linewidth)\n",
      "       23    0.000    0.000    0.000    0.000 backend_bases.py:1184(get_sketch_params)\n",
      "       23    0.000    0.000    0.000    0.000 backend_bases.py:1404(__init__)\n",
      "       23    0.000    0.000    0.000    0.000 backend_bases.py:1441(__init__)\n",
      "       23    0.000    0.000    0.014    0.001 backend_bases.py:153(new_figure_manager)\n",
      "       23    0.000    0.000    0.002    0.000 backend_bases.py:163(new_figure_manager_given_figure)\n",
      "       23    0.000    0.000    0.002    0.000 backend_bases.py:1770(__init__)\n",
      "       23    0.000    0.000    0.000    0.000 backend_bases.py:1793(is_saving)\n",
      "       23    0.000    0.000    0.000    0.000 backend_bases.py:1838(draw_event)\n",
      "       23    0.000    0.000    0.000    0.000 backend_bases.py:2046(draw)\n",
      "       92    0.000    0.000    0.002    0.000 backend_bases.py:2337(mpl_connect)\n",
      "       23    0.000    0.000    0.002    0.000 backend_bases.py:2391(mpl_disconnect)\n",
      "       23    0.000    0.000    0.001    0.000 backend_bases.py:263(__init__)\n",
      "       23    0.000    0.000    0.000    0.000 backend_bases.py:2669(__init__)\n",
      "       69    0.000    0.000    0.000    0.000 backend_bases.py:267(open_group)\n",
      "       23    0.000    0.000    0.000    0.000 backend_bases.py:2689(destroy)\n",
      "       69    0.000    0.000    0.000    0.000 backend_bases.py:274(close_group)\n",
      "       23    0.000    0.000    0.001    0.000 backend_bases.py:787(new_gc)\n",
      "       23    0.000    0.000    0.001    0.000 backend_bases.py:849(__init__)\n",
      "       23    0.000    0.000    0.000    0.000 backend_bases.py:890(restore)\n",
      "       23    0.000    0.000    0.000    0.000 backend_bases.py:920(get_clip_path)\n",
      "       23    0.000    0.000    0.000    0.000 backend_bases.py:930(get_dashes)\n",
      "       23    0.000    0.000    0.000    0.000 backend_bases.py:990(get_snap)\n",
      "       23    0.000    0.000    0.000    0.000 backend_inline.py:55(draw_if_interactive)\n",
      "       69    0.000    0.000    0.000    0.000 cm.py:140(get_cmap)\n",
      "       23    0.000    0.000    0.001    0.000 cm.py:178(__init__)\n",
      "       23    0.000    0.000    0.062    0.003 cm.py:208(to_rgba)\n",
      "       23    0.000    0.000    0.000    0.000 cm.py:278(set_array)\n",
      "       23    0.000    0.000    0.000    0.000 cm.py:322(set_cmap)\n",
      "       23    0.000    0.000    0.000    0.000 cm.py:332(set_norm)\n",
      "       23    0.000    0.000    0.002    0.000 cm.py:356(autoscale_None)\n",
      "       23    0.000    0.000    0.000    0.000 cm.py:373(check_update)\n",
      "       69    0.000    0.000    0.000    0.000 cm.py:383(changed)\n",
      "       69    0.000    0.000    0.000    0.000 collections.py:179(get_transforms)\n",
      "       46    0.000    0.000    0.000    0.000 collections.py:182(get_offset_transform)\n",
      "       23    0.000    0.000    4.813    0.209 collections.py:189(get_datalim)\n",
      "       23    0.000    0.000    0.001    0.000 collections.py:220(_prepare_points)\n",
      "       23    0.001    0.000   35.106    1.526 collections.py:258(draw)\n",
      "       23    0.000    0.000    0.000    0.000 collections.py:343(set_pickradius)\n",
      "       23    0.000    0.000    0.000    0.000 collections.py:387(set_urls)\n",
      "       23    0.000    0.000    0.000    0.000 collections.py:400(set_hatch)\n",
      "       23    0.000    0.000    0.000    0.000 collections.py:462(set_offset_position)\n",
      "       23    0.000    0.000    0.001    0.000 collections.py:488(set_linewidth)\n",
      "       23    0.000    0.000    0.000    0.000 collections.py:516(set_linestyle)\n",
      "       46    0.000    0.000    0.000    0.000 collections.py:603(_bcast_lwls)\n",
      "       46    0.000    0.000    0.000    0.000 collections.py:638(<listcomp>)\n",
      "       23    0.000    0.000    0.000    0.000 collections.py:651(set_antialiased)\n",
      "       46    0.000    0.000    0.004    0.000 collections.py:680(_set_facecolor)\n",
      "       23    0.000    0.000    0.002    0.000 collections.py:693(set_facecolor)\n",
      "       92    0.000    0.000    0.000    0.000 collections.py:711(get_facecolor)\n",
      "       46    0.000    0.000    0.000    0.000 collections.py:715(get_edgecolor)\n",
      "       46    0.000    0.000    0.000    0.000 collections.py:723(_set_edgecolor)\n",
      "       23    0.000    0.000    0.000    0.000 collections.py:751(set_edgecolor)\n",
      "       23    0.000    0.000    0.002    0.000 collections.py:771(set_alpha)\n",
      "       23    0.000    0.000    0.063    0.003 collections.py:796(update_scalarmappable)\n",
      "       46    0.001    0.000    0.002    0.000 collections.py:883(set_sizes)\n",
      "       23    0.000    0.000   35.107    1.526 collections.py:908(draw)\n",
      "       23    0.000    0.000    0.009    0.000 collections.py:918(__init__)\n",
      "       23    0.000    0.000    0.000    0.000 collections.py:932(set_paths)\n",
      "       46    0.000    0.000    0.000    0.000 collections.py:936(get_paths)\n",
      "       23    0.001    0.000    0.008    0.000 collections.py:98(__init__)\n",
      "       23    0.000    0.000    0.046    0.002 colorconv.py:145(_prepare_colorarray)\n",
      "       23    0.043    0.002    0.089    0.004 colorconv.py:750(rgb2gray)\n",
      "     1012    0.001    0.000    0.004    0.000 colors.py:107(_is_nth_color)\n",
      "     1012    0.003    0.000    0.015    0.000 colors.py:142(to_rgba)\n",
      "       46    0.000    0.000    0.003    0.000 colors.py:233(to_rgba_array)\n",
      "       23    0.008    0.000    0.047    0.002 colors.py:457(__call__)\n",
      "       46    0.000    0.000    0.000    0.000 colors.py:874(__init__)\n",
      "       69    0.000    0.000    0.007    0.000 colors.py:896(process_value)\n",
      "       23    0.005    0.000    0.014    0.001 colors.py:927(__call__)\n",
      "       92    0.000    0.000    0.000    0.000 colors.py:97(_sanitize_extrema)\n",
      "       46    0.000    0.000    0.002    0.000 colors.py:987(autoscale_None)\n",
      "        4    0.000    0.000    0.000    0.000 connection.py:117(__init__)\n",
      "        2    0.000    0.000    0.000    0.000 connection.py:501(Pipe)\n",
      "        2    0.000    0.000    0.001    0.001 context.py:108(SimpleQueue)\n",
      "        1    0.000    0.000    0.031    0.031 context.py:113(Pool)\n",
      "        6    0.000    0.000    0.000    0.000 context.py:185(get_context)\n",
      "        4    0.000    0.000    0.000    0.000 context.py:195(get_start_method)\n",
      "        1    0.000    0.000    0.000    0.000 context.py:221(get_context)\n",
      "        2    0.000    0.000    0.027    0.013 context.py:264(_Popen)\n",
      "        4    0.000    0.000    0.001    0.000 context.py:63(Lock)\n",
      "  2901361    0.926    0.000    0.926    0.000 core.py:1280(_replace_dtype_fields_recursive)\n",
      "  2901361    2.071    0.000    2.997    0.000 core.py:1312(_replace_dtype_fields)\n",
      "  2901361    0.844    0.000    3.841    0.000 core.py:1326(make_mask_descr)\n",
      "  2901637    0.896    0.000    2.605    0.000 core.py:1359(getmask)\n",
      "  2901131    2.942    0.000   15.339    0.000 core.py:1423(getmaskarray)\n",
      "  2901131    2.247    0.000    8.685    0.000 core.py:1645(make_mask_none)\n",
      "      230    0.227    0.001   16.893    0.073 core.py:2772(__new__)\n",
      "       46    0.854    0.019   16.191    0.352 core.py:2821(<listcomp>)\n",
      "      437    0.003    0.000    0.005    0.000 core.py:2902(_update_from)\n",
      "      345    0.002    0.000    0.008    0.000 core.py:2928(__array_finalize__)\n",
      "       92    0.000    0.000    0.001    0.000 core.py:3158(__getitem__)\n",
      "       46    0.000    0.000    0.000    0.000 core.py:3175(_scalar_heuristic)\n",
      "      759    0.001    0.000    0.001    0.000 core.py:3345(dtype)\n",
      "      115    0.000    0.000    0.000    0.000 core.py:3361(shape)\n",
      "       46    0.000    0.000    0.000    0.000 core.py:3444(_get_mask)\n",
      "      437    0.001    0.000    0.001    0.000 core.py:3560(_get_data)\n",
      "       92    0.000    0.000    0.000    0.000 core.py:3659(filled)\n"
     ]
    },
    {
     "name": "stdout",
     "output_type": "stream",
     "text": [
      "       92    0.001    0.000    0.005    0.000 core.py:4482(ravel)\n",
      "      115    0.000    0.000    0.000    0.000 core.py:596(filled)\n",
      "      115    0.000    0.000    0.010    0.000 core.py:6350(array)\n",
      "       92    0.001    0.000   16.888    0.184 core.py:6568(__call__)\n",
      "       69    0.000    0.000    0.000    0.000 core.py:669(getdata)\n",
      "       23    0.000    0.000    0.001    0.000 core.py:7763(asarray)\n",
      "       92    0.001    0.000   16.883    0.184 core.py:7813(asanyarray)\n",
      "      322    0.000    0.000    0.000    0.000 cycler.py:138(keys)\n",
      "      322    0.000    0.000    0.000    0.000 cycler.py:225(__iter__)\n",
      "     3054    0.002    0.000    0.002    0.000 cycler.py:227(<genexpr>)\n",
      "      276    0.004    0.000    0.007    0.000 cycler.py:349(by_key)\n",
      "      552    0.000    0.000    0.000    0.000 cycler.py:371(<genexpr>)\n",
      "       23    0.000    0.000    0.000    0.000 decorators.py:41(wrapper)\n",
      "       23    0.000    0.000    0.000    0.000 dtype.py:124(_dtype_itemsize)\n",
      "       46    0.000    0.000    0.000    0.000 dtype.py:126(<genexpr>)\n",
      "       23    0.000    0.000    0.046    0.002 dtype.py:313(img_as_float)\n",
      "       23    0.024    0.001    0.046    0.002 dtype.py:55(convert)\n",
      "       69    0.000    0.000    0.001    0.000 figure.py:1012(_make_key)\n",
      "       69    0.000    0.000    0.000    0.000 figure.py:1015(fixitems)\n",
      "       69    0.000    0.000    0.000    0.000 figure.py:1031(fixlist)\n",
      "       46    0.001    0.000    0.474    0.010 figure.py:1042(add_axes)\n",
      "       46    0.000    0.000    0.000    0.000 figure.py:107(_entry_from_axes)\n",
      "       46    0.000    0.000    0.000    0.000 figure.py:108(<dictcomp>)\n",
      "       46    0.000    0.000    0.000    0.000 figure.py:115(bubble)\n",
      "       46    0.000    0.000    0.001    0.000 figure.py:122(add)\n",
      "       23    0.000    0.000    0.001    0.000 figure.py:1401(clf)\n",
      "       23    0.001    0.000   35.112    1.527 figure.py:1438(draw)\n",
      "       46    0.000    0.000    0.000    0.000 figure.py:1450(<genexpr>)\n",
      "       23    0.000    0.000    0.000    0.000 figure.py:1454(<lambda>)\n",
      "      115    0.000    0.000    0.000    0.000 figure.py:152(current_key_axes)\n",
      "       69    0.000    0.000    0.000    0.000 figure.py:165(__call__)\n",
      "       46    0.000    0.000    0.000    0.000 figure.py:168(__contains__)\n",
      "       23    0.000    0.000    0.001    0.000 figure.py:176(__init__)\n",
      "       23    0.000    0.000    0.000    0.000 figure.py:1765(_set_artist_props)\n",
      "       46    0.000    0.000    0.000    0.000 figure.py:1771(gca)\n",
      "       46    0.000    0.000    0.001    0.000 figure.py:1819(sca)\n",
      "       23    0.000    0.000    0.001    0.000 figure.py:208(update)\n",
      "      138    0.000    0.000    0.000    0.000 figure.py:247(_update_this)\n",
      "       23    0.002    0.000    0.011    0.000 figure.py:286(__init__)\n",
      "       46    0.000    0.000    0.000    0.000 figure.py:462(_get_axes)\n",
      "       92    0.000    0.000    0.000    0.000 figure.py:467(_get_dpi)\n",
      "       23    0.000    0.000    0.000    0.000 figure.py:487(get_tight_layout)\n",
      "       23    0.000    0.000    0.000    0.000 figure.py:493(set_tight_layout)\n",
      "       46    0.000    0.000    0.000    0.000 figure.py:516(get_constrained_layout)\n",
      "       23    0.000    0.000    0.000    0.000 figure.py:524(set_constrained_layout)\n",
      "       23    0.000    0.000    0.000    0.000 figure.py:553(set_constrained_layout_pads)\n",
      "      230    0.000    0.000    0.000    0.000 figure.py:58(_stale_figure_callback)\n",
      "       23    0.000    0.000    0.000    0.000 figure.py:759(set_canvas)\n",
      "       23    0.000    0.000    0.000    0.000 figure.py:78(__init__)\n",
      "       92    0.000    0.000    0.000    0.000 figure.py:82(as_list)\n",
      "       92    0.000    0.000    0.000    0.000 figure.py:86(<listcomp>)\n",
      "       92    0.000    0.000    0.000    0.000 figure.py:88(<listcomp>)\n",
      "      115    0.000    0.000    0.000    0.000 figure.py:90(get)\n",
      "       23    0.000    0.000    0.000    0.000 figure.py:913(get_size_inches)\n",
      "       23    0.000    0.000    0.000    0.000 figure.py:945(get_dpi)\n",
      "      391    0.000    0.000    0.001    0.000 font_manager.py:1102(get_default_size)\n",
      "      437    0.004    0.000    0.022    0.000 font_manager.py:665(__init__)\n",
      "      391    0.001    0.000    0.004    0.000 font_manager.py:804(set_family)\n",
      "      391    0.000    0.000    0.001    0.000 font_manager.py:817(set_style)\n",
      "      391    0.000    0.000    0.000    0.000 font_manager.py:829(set_variant)\n",
      "      391    0.003    0.000    0.003    0.000 font_manager.py:839(set_weight)\n",
      "      391    0.001    0.000    0.002    0.000 font_manager.py:857(set_stretch)\n",
      "      391    0.002    0.000    0.002    0.000 font_manager.py:875(set_size)\n",
      "      391    0.000    0.000    0.000    0.000 font_manager.py:900(set_file)\n",
      "       46    0.000    0.000    0.001    0.000 font_manager.py:924(copy)\n",
      "      828    0.003    0.000    0.007    0.000 font_manager.py:989(_normalize_font_family)\n",
      "      828    0.001    0.000    0.001    0.000 font_manager.py:993(<listcomp>)\n",
      "  2901177    0.542    0.000    0.771    0.000 fromnumeric.py:1656(shape)\n",
      "       23    0.000    0.000    0.002    0.000 fromnumeric.py:1764(clip)\n",
      "     1311    0.002    0.000    0.019    0.000 fromnumeric.py:1933(any)\n",
      "      207    0.000    0.000    0.002    0.000 fromnumeric.py:2016(all)\n",
      "      184    0.000    0.000    0.002    0.000 fromnumeric.py:2227(amax)\n",
      "      184    0.000    0.000    0.003    0.000 fromnumeric.py:2337(amin)\n",
      "       23    0.000    0.000    0.002    0.000 fromnumeric.py:49(_wrapfunc)\n",
      "     1886    0.006    0.000    0.022    0.000 fromnumeric.py:64(_wrapreduction)\n",
      "      368    0.004    0.000    0.004    0.000 function_base.py:1079(diff)\n",
      "      368    0.000    0.000    0.001    0.000 function_base.py:241(iterable)\n",
      "      184    0.000    0.000    0.000    0.000 getlimits.py:376(__new__)\n",
      "       46    0.000    0.000    0.000    0.000 getlimits.py:507(__init__)\n",
      "       23    0.000    0.000    0.000    0.000 getlimits.py:518(min)\n",
      "       23    0.000    0.000    0.000    0.000 getlimits.py:532(max)\n",
      "    46/23    0.000    0.000   35.111    1.527 image.py:123(_draw_list_compositing_images)\n",
      "      161    0.000    0.000    0.000    0.000 image.py:133(<genexpr>)\n",
      "        8    0.000    0.000    0.000    0.000 iostream.py:195(schedule)\n",
      "        4    0.000    0.000    0.002    0.001 iostream.py:334(flush)\n",
      "        8    0.000    0.000    0.000    0.000 iostream.py:93(_event_pipe)\n",
      "       69    0.000    0.000    0.000    0.000 linalg.py:103(get_linalg_error_extobj)\n",
      "       69    0.000    0.000    0.000    0.000 linalg.py:108(_makearray)\n",
      "      138    0.000    0.000    0.000    0.000 linalg.py:113(isComplexType)\n",
      "       69    0.000    0.000    0.000    0.000 linalg.py:126(_realType)\n",
      "       69    0.000    0.000    0.000    0.000 linalg.py:141(_commonType)\n",
      "       69    0.000    0.000    0.000    0.000 linalg.py:200(_assertRankAtLeast2)\n",
      "       69    0.000    0.000    0.000    0.000 linalg.py:211(_assertNdSquareness)\n",
      "       69    0.001    0.000    0.003    0.000 linalg.py:468(inv)\n",
      "      414    0.001    0.000    0.001    0.000 lines.py:1005(set_linewidth)\n",
      "      828    0.001    0.000    0.002    0.000 lines.py:1020(_split_drawstyle_linestyle)\n",
      "      414    0.001    0.000    0.004    0.000 lines.py:1052(set_linestyle)\n",
      "      414    0.000    0.000    0.001    0.000 lines.py:1140(set_markeredgecolor)\n",
      "      414    0.001    0.000    0.001    0.000 lines.py:1153(set_markeredgewidth)\n",
      "      414    0.001    0.000    0.010    0.000 lines.py:1165(set_markerfacecolor)\n",
      "      414    0.001    0.000    0.006    0.000 lines.py:1177(set_markerfacecoloralt)\n",
      "      414    0.001    0.000    0.001    0.000 lines.py:1189(set_markersize)\n",
      "      552    0.001    0.000    0.001    0.000 lines.py:1200(set_xdata)\n",
      "      552    0.000    0.000    0.001    0.000 lines.py:1210(set_ydata)\n",
      "      414    0.000    0.000    0.001    0.000 lines.py:1337(set_dash_joinstyle)\n",
      "      414    0.000    0.000    0.001    0.000 lines.py:1350(set_solid_joinstyle)\n",
      "      414    0.001    0.000    0.001    0.000 lines.py:1376(set_dash_capstyle)\n",
      "      414    0.000    0.000    0.001    0.000 lines.py:1390(set_solid_capstyle)\n",
      "      414    0.010    0.000    0.082    0.000 lines.py:290(__init__)\n",
      "      575    0.001    0.000    0.001    0.000 lines.py:34(_get_dash_pattern)\n",
      "      414    0.000    0.000    0.000    0.000 lines.py:537(set_markevery)\n",
      "      414    0.000    0.000    0.001    0.000 lines.py:619(axes)\n",
      "     1265    0.001    0.000    0.002    0.000 lines.py:62(_scale_dashes)\n",
      "      414    0.001    0.000    0.002    0.000 lines.py:632(set_data)\n",
      "      138    0.003    0.000    0.015    0.000 lines.py:649(recache)\n",
      "      414    0.001    0.000    0.003    0.000 lines.py:715(set_transform)\n",
      "      138    0.000    0.000    0.015    0.000 lines.py:945(get_path)\n",
      "      414    0.000    0.000    0.001    0.000 lines.py:962(set_antialiased)\n",
      "      414    0.000    0.000    0.001    0.000 lines.py:975(set_color)\n",
      "      414    0.000    0.000    0.001    0.000 lines.py:984(set_drawstyle)\n",
      "      437    0.001    0.000    0.021    0.000 markers.py:167(__init__)\n",
      "      874    0.002    0.000    0.015    0.000 markers.py:200(_recache)\n",
      "       23    0.000    0.000    0.000    0.000 markers.py:220(is_filled)\n",
      "       46    0.000    0.000    0.000    0.000 markers.py:223(get_fillstyle)\n",
      "      437    0.001    0.000    0.001    0.000 markers.py:226(set_fillstyle)\n",
      "      437    0.002    0.000    0.019    0.000 markers.py:251(set_marker)\n",
      "       23    0.000    0.000    0.000    0.000 markers.py:277(get_path)\n",
      "       23    0.000    0.000    0.000    0.000 markers.py:280(get_transform)\n",
      "      138    0.000    0.000    0.000    0.000 markers.py:292(_set_nothing)\n",
      "       23    0.000    0.000    0.000    0.000 markers.py:366(_half_fill)\n",
      "       23    0.000    0.000    0.001    0.000 markers.py:371(_set_circle)\n",
      "       69    0.000    0.000    0.003    0.000 markers.py:702(_set_tickleft)\n",
      "       69    0.000    0.000    0.003    0.000 markers.py:708(_set_tickright)\n",
      "       69    0.000    0.000    0.003    0.000 markers.py:716(_set_tickup)\n",
      "       69    0.000    0.000    0.003    0.000 markers.py:722(_set_tickdown)\n",
      "       46    0.000    0.000    0.000    0.000 mathtext.py:3245(__init__)\n",
      "       92    0.001    0.000    0.007    0.000 numeric.py:2274(isclose)\n",
      "       92    0.002    0.000    0.003    0.000 numeric.py:2350(within_tol)\n",
      "      184    0.001    0.000    0.001    0.000 numeric.py:2491(seterr)\n",
      "      184    0.000    0.000    0.000    0.000 numeric.py:2592(geterr)\n",
      "       92    0.000    0.000    0.000    0.000 numeric.py:2887(__init__)\n",
      "       92    0.000    0.000    0.001    0.000 numeric.py:2891(__enter__)\n",
      "       92    0.000    0.000    0.001    0.000 numeric.py:2896(__exit__)\n",
      "     3220    0.004    0.000    0.242    0.000 numeric.py:433(asarray)\n",
      "     3082    0.003    0.000    0.089    0.000 numeric.py:504(asanyarray)\n",
      "      138    0.000    0.000    0.000    0.000 numerictypes.py:619(issubclass_)\n",
      "       69    0.000    0.000    0.000    0.000 numerictypes.py:687(issubdtype)\n",
      "      345    0.001    0.000    0.045    0.000 patches.py:194(get_transform)\n",
      "      161    0.000    0.000    0.000    0.000 patches.py:255(set_antialiased)\n",
      "       23    0.000    0.000    0.000    0.000 patches.py:269(set_aa)\n",
      "      391    0.001    0.000    0.003    0.000 patches.py:273(_set_edgecolor)\n",
      "      253    0.000    0.000    0.002    0.000 patches.py:288(set_edgecolor)\n",
      "      391    0.001    0.000    0.011    0.000 patches.py:301(_set_facecolor)\n",
      "      253    0.000    0.000    0.007    0.000 patches.py:308(set_facecolor)\n",
      "      253    0.001    0.000    0.001    0.000 patches.py:351(set_linewidth)\n",
      "      138    0.001    0.000    0.001    0.000 patches.py:373(set_linestyle)\n",
      "      138    0.000    0.000    0.006    0.000 patches.py:417(set_fill)\n",
      "      230    0.000    0.000    0.001    0.000 patches.py:440(set_capstyle)\n",
      "      138    0.000    0.000    0.000    0.000 patches.py:457(set_joinstyle)\n",
      "      138    0.000    0.000    0.000    0.000 patches.py:474(set_hatch)\n",
      "      138    0.002    0.000    0.021    0.000 patches.py:49(__init__)\n",
      "       46    0.000    0.000    0.007    0.000 patches.py:664(__init__)\n",
      "      345    0.003    0.000    0.041    0.000 patches.py:707(_update_patch_transform)\n",
      "      345    0.001    0.000    0.002    0.000 patches.py:726(_convert_units)\n",
      "      345    0.000    0.000    0.041    0.000 patches.py:736(get_patch_transform)\n",
      "      276    0.002    0.000    0.010    0.000 path.py:101(__init__)\n",
      "      276    0.002    0.000    0.006    0.000 path.py:198(_update_values)\n",
      "  2901131    0.515    0.000    0.515    0.000 path.py:208(vertices)\n",
      "  2901108    0.354    0.000    0.354    0.000 path.py:222(codes)\n",
      "  2901085    0.293    0.000    0.293    0.000 path.py:241(simplify_threshold)\n",
      "  2901085    0.317    0.000    0.317    0.000 path.py:260(should_simplify)\n",
      "       23    0.000    0.000    0.002    0.000 path.py:461(transformed)\n",
      "       23    0.000    0.000    0.000    0.000 path.py:712(unit_circle)\n",
      "       23    0.000    0.000    4.798    0.209 path.py:977(get_path_collection_extents)\n",
      "        2    0.000    0.000    0.000    0.000 pool.py:150(Process)\n",
      "        1    0.000    0.000    0.031    0.031 pool.py:153(__init__)\n",
      "        1    0.000    0.000    0.028    0.028 pool.py:225(_repopulate_pool)\n",
      "        1    0.000    0.000    0.001    0.001 pool.py:248(_setup_queues)\n",
      "        2    0.000    0.000    0.026    0.013 popen_fork.py:16(__init__)\n",
      "       37    0.000    0.000    0.001    0.000 popen_fork.py:25(poll)\n",
      "        2    0.001    0.000    0.024    0.012 popen_fork.py:64(_launch)\n",
      "        2    0.000    0.000    0.000    0.000 process.py:140(name)\n",
      "        2    0.000    0.000    0.000    0.000 process.py:144(name)\n",
      "        2    0.000    0.000    0.000    0.000 process.py:156(daemon)\n",
      "        4    0.000    0.000    0.000    0.000 process.py:35(current_process)\n",
      "        2    0.000    0.000    0.001    0.000 process.py:52(_cleanup)\n",
      "        2    0.000    0.000    0.000    0.000 process.py:71(__init__)\n",
      "        4    0.000    0.000    0.000    0.000 process.py:83(<genexpr>)\n",
      "        2    0.000    0.000    0.027    0.014 process.py:95(start)\n",
      "       23    0.000    0.000    0.000    0.000 pyplot.py:338(sci)\n",
      "       23    0.000    0.000   22.103    0.961 pyplot.py:3452(scatter)\n",
      "       23    0.001    0.000    0.016    0.001 pyplot.py:431(figure)\n",
      "       46    0.000    0.000    0.000    0.000 pyplot.py:595(gcf)\n",
      "       23    0.000    0.000    0.000    0.000 pyplot.py:608(get_fignums)\n",
      "       23    0.000    0.000    0.033    0.001 pyplot.py:638(close)\n",
      "       46    0.000    0.000    0.001    0.000 pyplot.py:966(gca)\n",
      "        1    0.000    0.000    0.000    0.000 queue.py:199(_init)\n",
      "        1    0.000    0.000    0.000    0.000 queue.py:27(__init__)\n",
      "        2    0.000    0.000    0.001    0.001 queues.py:313(__init__)\n",
      "       32    0.000    0.000    0.000    0.000 random.py:229(_randbelow)\n",
      "       32    0.000    0.000    0.000    0.000 random.py:259(choice)\n",
      "      920    0.001    0.000    0.003    0.000 re.py:160(match)\n",
      "      920    0.001    0.000    0.001    0.000 re.py:278(_compile)\n",
      "      138    0.000    0.000    0.000    0.000 scale.py:47(limit_range_for_scale)\n",
      "       23    0.000    0.000    0.000    0.000 scale.py:556(get_scale_names)\n",
      "      368    0.001    0.000    0.001    0.000 scale.py:560(scale_factory)\n",
      "      368    0.000    0.000    0.000    0.000 scale.py:65(__init__)\n",
      "      368    0.002    0.000    0.063    0.000 scale.py:68(set_default_locators_and_formatters)\n",
      "      138    0.000    0.000    0.000    0.000 scale.py:82(get_transform)\n",
      "     2254    0.004    0.000    0.011    0.000 shape_base.py:11(atleast_1d)\n",
      "       23    0.000    0.000    0.000    0.000 shape_base.py:115(atleast_3d)\n",
      "      736    0.001    0.000    0.019    0.000 shape_base.py:236(hstack)\n",
      "      736    0.001    0.000    0.011    0.000 shape_base.py:283(<listcomp>)\n",
      "       23    0.000    0.000    0.001    0.000 shape_base.py:480(expand_dims)\n",
      "      161    0.001    0.000    0.009    0.000 shape_base.py:555(column_stack)\n",
      "     1610    0.002    0.000    0.003    0.000 six.py:583(itervalues)\n",
      "     5083    0.004    0.000    0.006    0.000 six.py:586(iteritems)\n",
      "        8    0.000    0.000    0.000    0.000 socket.py:334(send)\n",
      "  736/552    0.000    0.000    0.003    0.000 spines.py:158(_ensure_position_is_set)\n",
      "       92    0.000    0.000    0.018    0.000 spines.py:164(register_axis)\n",
      "       92    0.000    0.000    0.018    0.000 spines.py:176(cla)\n",
      "       92    0.000    0.000    0.001    0.000 spines.py:318(_calc_offset_transform)\n",
      "       92    0.000    0.000    0.003    0.000 spines.py:392(set_position)\n",
      "       92    0.001    0.000    0.020    0.000 spines.py:42(__init__)\n",
      "  644/552    0.001    0.000    0.004    0.000 spines.py:436(get_spine_transform)\n",
      "       92    0.001    0.000    0.025    0.000 spines.py:485(linear_spine)\n",
      "      138    0.001    0.000    0.001    0.000 stride_tricks.py:179(_broadcast_shape)\n",
      "      138    0.001    0.000    0.002    0.000 stride_tricks.py:198(broadcast_arrays)\n",
      "      138    0.000    0.000    0.000    0.000 stride_tricks.py:250(<listcomp>)\n",
      "      414    0.000    0.000    0.000    0.000 stride_tricks.py:254(<genexpr>)\n",
      "        4    0.000    0.000    0.000    0.000 synchronize.py:115(_make_name)\n",
      "        4    0.000    0.000    0.001    0.000 synchronize.py:162(__init__)\n",
      "        4    0.000    0.000    0.001    0.000 synchronize.py:51(__init__)\n",
      "        4    0.000    0.000    0.000    0.000 synchronize.py:91(_make_methods)\n",
      "        4    0.000    0.000    0.000    0.000 tempfile.py:146(rng)\n",
      "        4    0.000    0.000    0.000    0.000 tempfile.py:157(__next__)\n",
      "        4    0.000    0.000    0.000    0.000 tempfile.py:160(<listcomp>)\n",
      "       69    0.000    0.000    0.000    0.000 text.py:1114(set_x)\n",
      "       69    0.000    0.000    0.000    0.000 text.py:1123(set_y)\n",
      "      713    0.001    0.000    0.002    0.000 text.py:1159(set_text)\n",
      "      437    0.001    0.000    0.001    0.000 text.py:1209(set_usetex)\n",
      "      437    0.003    0.000    0.116    0.000 text.py:129(__init__)\n",
      "      437    0.097    0.000    0.100    0.000 text.py:178(update)\n",
      "      437    0.000    0.000    0.001    0.000 text.py:240(set_rotation_mode)\n",
      "       69    0.000    0.000    0.000    0.000 text.py:524(_update_clip_properties)\n",
      "       69    0.000    0.000    0.000    0.000 text.py:532(set_clip_box)\n",
      "      437    0.000    0.000    0.000    0.000 text.py:584(set_wrap)\n",
      "       69    0.000    0.000    0.000    0.000 text.py:691(draw)\n",
      "       69    0.000    0.000    0.000    0.000 text.py:872(get_text)\n",
      "      437    0.001    0.000    0.001    0.000 text.py:949(set_color)\n",
      "       23    0.000    0.000    0.001    0.000 textpath.py:35(__init__)\n",
      "       12    0.000    0.000    0.000    0.000 threading.py:1060(_wait_for_tstate_lock)\n",
      "       12    0.000    0.000    0.000    0.000 threading.py:1102(is_alive)\n",
      "        3    0.000    0.000    0.000    0.000 threading.py:1118(daemon)\n",
      "        3    0.000    0.000    0.000    0.000 threading.py:1134(daemon)\n",
      "        3    0.000    0.000    0.000    0.000 threading.py:1228(current_thread)\n",
      "       10    0.000    0.000    0.000    0.000 threading.py:213(__init__)\n",
      "        7    0.000    0.000    0.000    0.000 threading.py:237(__enter__)\n",
      "        7    0.000    0.000    0.000    0.000 threading.py:240(__exit__)\n",
      "        6    0.000    0.000    0.000    0.000 threading.py:246(_release_save)\n",
      "        6    0.000    0.000    0.000    0.000 threading.py:249(_acquire_restore)\n",
      "        6    0.000    0.000    0.000    0.000 threading.py:252(_is_owned)\n",
      "        6    0.000    0.000    0.002    0.000 threading.py:261(wait)\n",
      "        7    0.000    0.000    0.000    0.000 threading.py:496(__init__)\n",
      "       18    0.000    0.000    0.000    0.000 threading.py:504(is_set)\n",
      "        7    0.000    0.000    0.002    0.000 threading.py:531(wait)\n",
      "        3    0.000    0.000    0.000    0.000 threading.py:725(_newname)\n",
      "        3    0.000    0.000    0.000    0.000 threading.py:755(__init__)\n",
      "        3    0.000    0.000    0.001    0.000 threading.py:826(start)\n",
      "      368    0.002    0.000    0.048    0.000 ticker.py:1794(__init__)\n",
      "      368    0.004    0.000    0.016    0.000 ticker.py:1843(_validate_steps)\n",
      "      736    0.006    0.000    0.025    0.000 ticker.py:1862(_staircase)\n",
      "      736    0.003    0.000    0.046    0.000 ticker.py:1870(set_params)\n",
      "       46    0.000    0.000    0.001    0.000 ticker.py:1964(view_limits)\n",
      "     1472    0.000    0.000    0.000    0.000 ticker.py:242(set_axis)\n",
      "      368    0.001    0.000    0.049    0.000 ticker.py:2484(__init__)\n",
      "      368    0.002    0.000    0.004    0.000 ticker.py:501(__init__)\n",
      "      368    0.000    0.000    0.000    0.000 ticker.py:525(set_useOffset)\n",
      "      368    0.000    0.000    0.000    0.000 ticker.py:549(set_useMathText)\n",
      "       23    0.000    0.000    0.000    0.000 transforms.py:1009(set)\n",
      "      414    0.001    0.000    0.002    0.000 transforms.py:1039(__init__)\n",
      "  138/115    0.002    0.000    0.006    0.000 transforms.py:1072(get_points)\n",
      "     1081    0.001    0.000    0.009    0.000 transforms.py:1285(__add__)\n",
      "     1518    0.002    0.000    0.010    0.000 transforms.py:131(invalidate)\n",
      "2300/1518    0.005    0.000    0.008    0.000 transforms.py:142(_invalidate_internal)\n",
      "       23    0.000    0.000    0.002    0.000 transforms.py:1423(__array__)\n",
      "       46    0.000    0.000    0.003    0.000 transforms.py:1429(transform)\n",
      "       46    0.000    0.000    0.000    0.000 transforms.py:1662(__init__)\n",
      "       46    0.000    0.000    0.000    0.000 transforms.py:1673(_init)\n",
      "     2576    0.005    0.000    0.006    0.000 transforms.py:169(set_children)\n",
      "       23    0.000    0.000    0.001    0.000 transforms.py:1713(frozen)\n",
      "       92    0.000    0.000    0.000    0.000 transforms.py:1717(_set)\n",
      "       46    0.000    0.000    0.002    0.000 transforms.py:1734(set)\n",
      "       92    0.000    0.000    0.000    0.000 transforms.py:1754(_get_is_affine)\n",
      "     3013    0.003    0.000    0.006    0.000 transforms.py:1774(__init__)\n",
      "       69    0.000    0.000    0.000    0.000 transforms.py:1778(__array__)\n",
      "       23    0.000    0.000    0.001    0.000 transforms.py:1790(__eq__)\n",
      "  161/138    0.000    0.000    0.002    0.000 transforms.py:1795(transform)\n",
      "      207    0.000    0.000    0.000    0.000 transforms.py:1821(get_affine)\n",
      "      138    0.000    0.000    0.006    0.000 transforms.py:1847(frozen)\n",
      "      184    0.000    0.000    0.000    0.000 transforms.py:1851(_get_is_separable)\n",
      "  161/138    0.000    0.000    0.002    0.000 transforms.py:1875(transform_affine)\n",
      "       69    0.000    0.000    0.003    0.000 transforms.py:1902(inverted)\n",
      "     1012    0.002    0.000    0.006    0.000 transforms.py:1919(__init__)\n",
      "      414    0.000    0.000    0.000    0.000 transforms.py:1957(get_matrix)\n",
      "      345    0.004    0.000    0.008    0.000 transforms.py:2014(rotate)\n",
      "      345    0.002    0.000    0.010    0.000 transforms.py:2030(rotate_deg)\n",
      "      345    0.001    0.000    0.022    0.000 transforms.py:2050(rotate_deg_around)\n",
      "      690    0.002    0.000    0.011    0.000 transforms.py:2062(translate)\n",
      "      322    0.002    0.000    0.009    0.000 transforms.py:2076(scale)\n",
      "       46    0.000    0.000    0.000    0.000 transforms.py:2140(frozen)\n",
      "      299    0.000    0.000    0.000    0.000 transforms.py:2148(get_matrix)\n",
      "       92    0.000    0.000    0.001    0.000 transforms.py:2152(transform)\n",
      "       46    0.000    0.000    0.000    0.000 transforms.py:2172(get_affine)\n",
      "       46    0.000    0.000    0.000    0.000 transforms.py:2193(__init__)\n",
      "      138    0.001    0.000    0.002    0.000 transforms.py:2312(__init__)\n",
      "      115    0.000    0.000    0.001    0.000 transforms.py:2362(get_matrix)\n",
      "      184    0.000    0.000    0.002    0.000 transforms.py:2379(blended_transform_factory)\n",
      "     1127    0.003    0.000    0.006    0.000 transforms.py:2403(__init__)\n",
      "    46/23    0.000    0.000    0.006    0.000 transforms.py:2426(frozen)\n",
      "   414/92    0.000    0.000    0.002    0.000 transforms.py:2434(_invalidate_internal)\n",
      "  253/207    0.000    0.000    0.000    0.000 transforms.py:2465(_get_is_affine)\n",
      "       46    0.000    0.000    0.003    0.000 transforms.py:2481(transform_affine)\n",
      "       46    0.000    0.000    0.000    0.000 transforms.py:2485(transform_non_affine)\n",
      "   138/69    0.001    0.000    0.004    0.000 transforms.py:2505(get_affine)\n",
      "    46/23    0.000    0.000    0.005    0.000 transforms.py:2513(inverted)\n",
      "       46    0.000    0.000    0.000    0.000 transforms.py:2529(__init__)\n",
      "       46    0.000    0.000    0.000    0.000 transforms.py:2573(get_matrix)\n",
      "     1127    0.002    0.000    0.008    0.000 transforms.py:2584(composite_transform_factory)\n",
      "      391    0.001    0.000    0.003    0.000 transforms.py:2667(__init__)\n",
      "  138/115    0.000    0.000    0.003    0.000 transforms.py:2687(get_matrix)\n",
      "       23    0.000    0.000    0.000    0.000 transforms.py:2730(__init__)\n",
      "       69    0.000    0.000    0.003    0.000 transforms.py:2746(get_matrix)\n",
      "      299    0.001    0.000    0.002    0.000 transforms.py:2768(__init__)\n"
     ]
    },
    {
     "name": "stdout",
     "output_type": "stream",
     "text": [
      "       46    0.000    0.000    0.001    0.000 transforms.py:282(frozen)\n",
      "       92    0.000    0.000    0.003    0.000 transforms.py:286(__array__)\n",
      "      184    0.002    0.000    0.003    0.000 transforms.py:2909(nonsingular)\n",
      "       23    0.000    0.000    0.000    0.000 transforms.py:341(p1)\n",
      "       46    0.000    0.000    0.001    0.000 transforms.py:350(xmin)\n",
      "       46    0.000    0.000    0.001    0.000 transforms.py:357(ymin)\n",
      "       46    0.000    0.000    0.001    0.000 transforms.py:364(xmax)\n",
      "       46    0.000    0.000    0.001    0.000 transforms.py:371(ymax)\n",
      "      161    0.000    0.000    0.000    0.000 transforms.py:392(intervalx)\n",
      "      161    0.000    0.000    0.000    0.000 transforms.py:400(intervaly)\n",
      "       23    0.000    0.000    0.000    0.000 transforms.py:409(width)\n",
      "       23    0.000    0.000    0.000    0.000 transforms.py:418(height)\n",
      "  138/115    0.001    0.000    0.005    0.000 transforms.py:436(bounds)\n",
      "       23    0.000    0.000    0.002    0.000 transforms.py:537(transformed)\n",
      "       23    0.000    0.000    0.007    0.000 transforms.py:547(inverse_transformed)\n",
      "       46    0.001    0.000    0.007    0.000 transforms.py:740(union)\n",
      "       46    0.000    0.000    0.001    0.000 transforms.py:747(<listcomp>)\n",
      "       46    0.000    0.000    0.001    0.000 transforms.py:748(<listcomp>)\n",
      "       46    0.000    0.000    0.001    0.000 transforms.py:749(<listcomp>)\n",
      "       46    0.000    0.000    0.001    0.000 transforms.py:750(<listcomp>)\n",
      "      943    0.004    0.000    0.013    0.000 transforms.py:771(__init__)\n",
      "      368    0.001    0.000    0.008    0.000 transforms.py:807(unit)\n",
      "       23    0.000    0.000    0.001    0.000 transforms.py:815(null)\n",
      "       69    0.000    0.000    0.002    0.000 transforms.py:823(from_bounds)\n",
      "      437    0.002    0.000    0.010    0.000 transforms.py:833(from_extents)\n",
      "       23    0.000    0.000    0.001    0.000 transforms.py:869(update_from_path)\n",
      "     5727    0.005    0.000    0.005    0.000 transforms.py:88(__init__)\n",
      "       23    0.000    0.000    0.002    0.000 transforms.py:905(update_from_data_xy)\n",
      "       46    0.000    0.000    0.002    0.000 transforms.py:961(intervalx)\n",
      "       46    0.000    0.000    0.001    0.000 transforms.py:966(intervaly)\n",
      "       69    0.000    0.000    0.000    0.000 transforms.py:983(minposx)\n",
      "       69    0.000    0.000    0.000    0.000 transforms.py:987(minposy)\n",
      "      874    0.000    0.000    0.000    0.000 transforms.py:991(get_points)\n",
      "       92    0.000    0.000    0.000    0.000 type_check.py:147(imag)\n",
      "       92    0.000    0.000    0.000    0.000 type_check.py:220(isreal)\n",
      "      230    0.000    0.000    0.001    0.000 units.py:118(is_numlike)\n",
      "   184/92    0.001    0.000    0.002    0.000 units.py:141(get_converter)\n",
      "        4    0.000    0.000    0.000    0.000 util.py:136(register_after_fork)\n",
      "        3    0.000    0.000    0.000    0.000 util.py:151(__init__)\n",
      "        6    0.000    0.000    0.000    0.000 util.py:48(debug)\n",
      "        4    0.000    0.000    0.000    0.000 weakref.py:165(__setitem__)\n",
      "        4    0.000    0.000    0.000    0.000 weakref.py:334(__new__)\n",
      "        4    0.000    0.000    0.000    0.000 weakref.py:339(__init__)\n",
      "      138    0.000    0.000    0.000    0.000 weakref.py:354(__init__)\n",
      "       23    0.000    0.000    0.000    0.000 weakref.py:356(remove)\n",
      "       69    0.000    0.000    0.000    0.000 weakref.py:371(_commit_removals)\n",
      "      138    0.000    0.000    0.000    0.000 weakref.py:406(__setitem__)\n",
      "      138    0.000    0.000    0.000    0.000 weakref.py:431(__contains__)\n",
      "      138    0.000    0.000    0.001    0.000 weakref.py:438(items)\n",
      "       23    0.000    0.000    0.000    0.000 widgets.py:37(__init__)\n",
      "     1246    0.002    0.000    0.002    0.000 {built-in method __new__ of type object at 0x55a33f172560}\n",
      "        4    0.000    0.000    0.000    0.000 {built-in method _imp.lock_held}\n",
      "       14    0.000    0.000    0.000    0.000 {built-in method _thread.allocate_lock}\n",
      "        3    0.000    0.000    0.000    0.000 {built-in method _thread.get_ident}\n",
      "        3    0.000    0.000    0.000    0.000 {built-in method _thread.start_new_thread}\n",
      "      552    0.000    0.000    0.000    0.000 {built-in method builtins.abs}\n",
      "      138    0.000    0.000    0.000    0.000 {built-in method builtins.all}\n",
      "       46    0.000    0.000    0.000    0.000 {built-in method builtins.any}\n",
      "      460    0.000    0.000    0.000    0.000 {built-in method builtins.callable}\n",
      "        1    0.000    0.000   79.980   79.980 {built-in method builtins.exec}\n",
      "  5811466    2.279    0.000    2.279    0.000 {built-in method builtins.getattr}\n",
      "     2194    0.002    0.000    0.002    0.000 {built-in method builtins.hasattr}\n",
      "      759    0.000    0.000    0.000    0.000 {built-in method builtins.hash}\n",
      "     4351    0.001    0.000    0.001    0.000 {built-in method builtins.id}\n",
      "    19115    0.007    0.000    0.013    0.000 {built-in method builtins.isinstance}\n",
      "      414    0.000    0.000    0.000    0.000 {built-in method builtins.issubclass}\n",
      "     8947    0.003    0.000    0.003    0.000 {built-in method builtins.iter}\n",
      "  1456821    0.091    0.000    0.091    0.000 {built-in method builtins.len}\n",
      "      782    0.001    0.000    0.001    0.000 {built-in method builtins.max}\n",
      "      230    0.001    0.000    0.001    0.000 {built-in method builtins.min}\n",
      "      151    0.000    0.000    0.000    0.000 {built-in method builtins.next}\n",
      "       92    0.000    0.000    0.000    0.000 {built-in method builtins.repr}\n",
      "      966    0.000    0.000    0.000    0.000 {built-in method builtins.setattr}\n",
      "       92    0.000    0.000    0.000    0.000 {built-in method builtins.sorted}\n",
      "       46    0.000    0.000    0.000    0.000 {built-in method builtins.sum}\n",
      "       23    0.031    0.001    0.031    0.001 {built-in method gc.collect}\n",
      "      161    0.001    0.000    0.001    0.000 {built-in method matplotlib._path.affine_transform}\n",
      "       23    4.134    0.180    4.796    0.209 {built-in method matplotlib._path.get_path_collection_extents}\n",
      "       23    0.000    0.000    0.000    0.000 {built-in method matplotlib._path.update_path_extents}\n",
      "     5798    0.038    0.000    0.038    0.000 {built-in method numpy.core.multiarray.arange}\n",
      "    11454    0.804    0.000    0.805    0.000 {built-in method numpy.core.multiarray.array}\n",
      "      897    0.014    0.000    0.014    0.000 {built-in method numpy.core.multiarray.concatenate}\n",
      "     1541    0.010    0.000    0.010    0.000 {built-in method numpy.core.multiarray.dot}\n",
      "       23    0.000    0.000    0.000    0.000 {built-in method numpy.core.multiarray.empty}\n",
      "       23    0.000    0.000    0.000    0.000 {built-in method numpy.core.multiarray.frombuffer}\n",
      "       69    0.000    0.000    0.000    0.000 {built-in method numpy.core.multiarray.min_scalar_type}\n",
      "      368    0.000    0.000    0.000    0.000 {built-in method numpy.core.multiarray.normalize_axis_index}\n",
      "       92    0.000    0.000    0.000    0.000 {built-in method numpy.core.multiarray.result_type}\n",
      "  2901202    2.609    0.000    2.609    0.000 {built-in method numpy.core.multiarray.zeros}\n",
      "      368    0.000    0.000    0.000    0.000 {built-in method numpy.core.umath.geterrobj}\n",
      "      184    0.000    0.000    0.000    0.000 {built-in method numpy.core.umath.seterrobj}\n",
      "        2    0.000    0.000    0.000    0.000 {built-in method posix.close}\n",
      "        2    0.023    0.012    0.023    0.012 {built-in method posix.fork}\n",
      "       11    0.000    0.000    0.000    0.000 {built-in method posix.getpid}\n",
      "        4    0.000    0.000    0.000    0.000 {built-in method posix.pipe}\n",
      "       37    0.001    0.000    0.001    0.000 {built-in method posix.waitpid}\n",
      "       69    0.000    0.000    0.000    0.000 {method '__array_prepare__' of 'numpy.ndarray' objects}\n",
      "        7    0.000    0.000    0.000    0.000 {method '__enter__' of '_thread.lock' objects}\n",
      "        7    0.000    0.000    0.000    0.000 {method '__exit__' of '_thread.lock' objects}\n",
      "       23    0.000    0.000    0.000    0.000 {method 'acquire' of '_thread.RLock' objects}\n",
      "       36    0.002    0.000    0.002    0.000 {method 'acquire' of '_thread.lock' objects}\n",
      "       76    0.000    0.000    0.000    0.000 {method 'add' of 'set' objects}\n",
      "       92    0.000    0.000    0.001    0.000 {method 'all' of 'numpy.generic' objects}\n",
      "      460    0.001    0.000    0.004    0.000 {method 'all' of 'numpy.ndarray' objects}\n",
      "       46    0.000    0.000    0.003    0.000 {method 'any' of 'numpy.ndarray' objects}\n",
      "       14    0.000    0.000    0.000    0.000 {method 'append' of 'collections.deque' objects}\n",
      "  4358251    0.306    0.000    0.306    0.000 {method 'append' of 'list' objects}\n",
      "      276    0.026    0.000    0.026    0.000 {method 'astype' of 'numpy.ndarray' objects}\n",
      "       32    0.000    0.000    0.000    0.000 {method 'bit_length' of 'int' objects}\n",
      "       23    0.002    0.000    0.002    0.000 {method 'clip' of 'numpy.ndarray' objects}\n",
      "        2    0.000    0.000    0.000    0.000 {method 'copy' of 'dict' objects}\n",
      "       92    0.000    0.000    0.000    0.000 {method 'copy' of 'numpy.generic' objects}\n",
      "     1817    0.005    0.000    0.005    0.000 {method 'copy' of 'numpy.ndarray' objects}\n",
      "        1    0.000    0.000    0.000    0.000 {method 'disable' of '_lsprof.Profiler' objects}\n",
      "       23   34.219    1.488   35.040    1.523 {method 'draw_path_collection' of 'matplotlib.backends._backend_agg.RendererAgg' objects}\n",
      "      460    0.000    0.000    0.000    0.000 {method 'extend' of 'list' objects}\n",
      "      138    0.001    0.000    0.001    0.000 {method 'flatten' of 'numpy.ndarray' objects}\n",
      "       92    0.000    0.000    0.000    0.000 {method 'format' of 'str' objects}\n",
      "     1635    0.000    0.000    0.000    0.000 {method 'get' of 'dict' objects}\n",
      "       55    0.000    0.000    0.000    0.000 {method 'getrandbits' of '_random.Random' objects}\n",
      "       23    0.000    0.000    0.000    0.000 {method 'items' of 'collections.OrderedDict' objects}\n",
      "     8073    0.002    0.000    0.002    0.000 {method 'items' of 'dict' objects}\n",
      "       29    0.000    0.000    0.000    0.000 {method 'join' of 'str' objects}\n",
      "     3381    0.001    0.000    0.001    0.000 {method 'lower' of 'str' objects}\n",
      "      920    0.001    0.000    0.001    0.000 {method 'match' of '_sre.SRE_Pattern' objects}\n",
      "       23    0.000    0.000    0.001    0.000 {method 'max' of 'numpy.ndarray' objects}\n",
      "       23    0.000    0.000    0.001    0.000 {method 'min' of 'numpy.ndarray' objects}\n",
      "       23    0.004    0.000    0.004    0.000 {method 'nonzero' of 'numpy.ndarray' objects}\n",
      "     2484    0.000    0.000    0.000    0.000 {method 'pop' of 'dict' objects}\n",
      "       19    0.000    0.000    0.000    0.000 {method 'randint' of 'mtrand.RandomState' objects}\n",
      "      276    0.000    0.000    0.000    0.000 {method 'ravel' of 'numpy.ndarray' objects}\n",
      "     2461    0.024    0.000    0.024    0.000 {method 'reduce' of 'numpy.ufunc' objects}\n",
      "       23    0.000    0.000    0.000    0.000 {method 'release' of '_thread.RLock' objects}\n",
      "        6    0.000    0.000    0.000    0.000 {method 'release' of '_thread.lock' objects}\n",
      "      207    0.000    0.000    0.000    0.000 {method 'remove' of 'list' objects}\n",
      "       69    0.000    0.000    0.000    0.000 {method 'remove' of 'set' objects}\n",
      "        2    0.000    0.000    0.000    0.000 {method 'replace' of 'str' objects}\n",
      "     1311    0.003    0.000    0.003    0.000 {method 'reshape' of 'numpy.ndarray' objects}\n",
      "      276    0.000    0.000    0.000    0.000 {method 'setdefault' of 'dict' objects}\n",
      "       92    0.000    0.000    0.000    0.000 {method 'sort' of 'list' objects}\n",
      "     4140    0.001    0.000    0.001    0.000 {method 'startswith' of 'str' objects}\n",
      "       23    0.029    0.001    0.029    0.001 {method 'take' of 'numpy.ndarray' objects}\n",
      "       23    0.003    0.000    0.003    0.000 {method 'tostring_rgb' of 'matplotlib.backends._backend_agg.RendererAgg' objects}\n",
      "     2461    0.001    0.000    0.001    0.000 {method 'update' of 'dict' objects}\n",
      "       69    0.000    0.000    0.000    0.000 {method 'values' of 'collections.OrderedDict' objects}\n",
      "     1541    0.000    0.000    0.000    0.000 {method 'values' of 'dict' objects}\n",
      "      345    0.001    0.000    0.001    0.000 {method 'view' of 'numpy.generic' objects}\n",
      "       92    0.000    0.000    0.003    0.000 {method 'view' of 'numpy.ndarray' objects}\n",
      "\n",
      "\n"
     ]
    }
   ],
   "source": [
    "cProfile.run('make_data()')"
   ]
  },
  {
   "cell_type": "code",
   "execution_count": 19,
   "metadata": {},
   "outputs": [],
   "source": [
    "neuron_movies, movie_segs = make_data()"
   ]
  },
  {
   "cell_type": "code",
   "execution_count": 14,
   "metadata": {},
   "outputs": [
    {
     "name": "stdout",
     "output_type": "stream",
     "text": [
      "(50, 22, 256, 400, 1)\n",
      "(50, 1, 256, 400, 1)\n"
     ]
    }
   ],
   "source": [
    "print(neuron_movies.shape)\n",
    "print(movie_segs.shape)"
   ]
  },
  {
   "cell_type": "code",
   "execution_count": 305,
   "metadata": {},
   "outputs": [
    {
     "data": {
      "image/png": "[encoded data removed]",
      "text/plain": [
       "<Figure size 432x288 with 1 Axes>"
      ]
     },
     "metadata": {
      "needs_background": "light"
     },
     "output_type": "display_data"
    }
   ],
   "source": [
    "check = neuron_movies[0][19]\n",
    "to_draw = check.reshape(1, check.shape[0], check.shape[1])\n",
    "mplt.imshow(to_draw[0])\n",
    "mplt.show()"
   ]
  },
  {
   "cell_type": "code",
   "execution_count": 306,
   "metadata": {},
   "outputs": [
    {
     "data": {
      "image/png": "[encoded data removed]",
      "text/plain": [
       "<Figure size 432x288 with 1 Axes>"
      ]
     },
     "metadata": {
      "needs_background": "light"
     },
     "output_type": "display_data"
    }
   ],
   "source": [
    "check_label = movie_segs[0][0]\n",
    "to_draw = check_label.reshape(1, check_label.shape[0], check_label.shape[1])\n",
    "mplt.imshow(to_draw[0])\n",
    "mplt.show()"
   ]
  },
  {
   "cell_type": "markdown",
   "metadata": {},
   "source": [
    "SAVE DATA...because it takes too long to generate"
   ]
  },
  {
   "cell_type": "code",
   "execution_count": 15,
   "metadata": {},
   "outputs": [
    {
     "data": {
      "text/plain": [
       "((125, 22, 256, 400, 1), (125, 1, 256, 400, 1))"
      ]
     },
     "execution_count": 15,
     "metadata": {},
     "output_type": "execute_result"
    }
   ],
   "source": [
    "image_ar.shape, label_ar.shape"
   ]
  },
  {
   "cell_type": "code",
   "execution_count": 12,
   "metadata": {},
   "outputs": [
    {
     "ename": "NameError",
     "evalue": "name 'movies' is not defined",
     "output_type": "error",
     "traceback": [
      "\u001b[0;31m---------------------------------------------------------------------------\u001b[0m",
      "\u001b[0;31mNameError\u001b[0m                                 Traceback (most recent call last)",
      "\u001b[0;32m<ipython-input-12-aea16a224d96>\u001b[0m in \u001b[0;36m<module>\u001b[0;34m()\u001b[0m\n\u001b[0;32m----> 1\u001b[0;31m \u001b[0mmovies\u001b[0m\u001b[0;34m.\u001b[0m\u001b[0mshape\u001b[0m\u001b[0;34m,\u001b[0m \u001b[0mlabels\u001b[0m\u001b[0;34m.\u001b[0m\u001b[0mshape\u001b[0m\u001b[0;34m\u001b[0m\u001b[0m\n\u001b[0m",
      "\u001b[0;31mNameError\u001b[0m: name 'movies' is not defined"
     ]
    }
   ],
   "source": [
    "movies.shape, labels.shape"
   ]
  },
  {
   "cell_type": "code",
   "execution_count": 41,
   "metadata": {},
   "outputs": [],
   "source": [
    "image_ar = np.load(\"image_sequences.npy\")\n",
    "label_ar = np.load(\"labels.npy\" )"
   ]
  },
  {
   "cell_type": "code",
   "execution_count": 16,
   "metadata": {},
   "outputs": [
    {
     "data": {
      "text/plain": [
       "((175, 22, 256, 400, 1), (175, 1, 256, 400, 1))"
      ]
     },
     "execution_count": 16,
     "metadata": {},
     "output_type": "execute_result"
    }
   ],
   "source": [
    "movies = np.append(neuron_movies, image_ar, axis =0)\n",
    "labels = np.append(movie_segs, label_ar, axis = 0)\n",
    "movies.shape, labels.shape"
   ]
  },
  {
   "cell_type": "code",
   "execution_count": 17,
   "metadata": {},
   "outputs": [],
   "source": [
    "np.save(\"image_sequences.npy\", movies)\n",
    "np.save(\"labels.npy\", labels )"
   ]
  },
  {
   "cell_type": "code",
   "execution_count": 18,
   "metadata": {},
   "outputs": [
    {
     "data": {
      "text/plain": [
       "((175, 22, 256, 400, 1), (175, 1, 256, 400, 1))"
      ]
     },
     "execution_count": 18,
     "metadata": {},
     "output_type": "execute_result"
    }
   ],
   "source": [
    "image_ar = np.load(\"image_sequences.npy\")\n",
    "label_ar = np.load(\"labels.npy\" )\n",
    "image_ar.shape, label_ar.shape"
   ]
  },
  {
   "cell_type": "markdown",
   "metadata": {},
   "source": [
    "So it turned out that these image arrays that I made, makes a lot of data. SO I am going to put what I have into separate files so that I can use a generator to call them"
   ]
  },
  {
   "cell_type": "code",
   "execution_count": 19,
   "metadata": {},
   "outputs": [
    {
     "data": {
      "text/plain": [
       "((225, 22, 256, 400, 1), (225, 1, 256, 400, 1))"
      ]
     },
     "execution_count": 19,
     "metadata": {},
     "output_type": "execute_result"
    }
   ],
   "source": [
    "image_ar = np.load(\"image_sequences225.npy\")\n",
    "label_ar = np.load(\"labels225.npy\" )\n",
    "image_ar.shape, label_ar.shape"
   ]
  },
  {
   "cell_type": "code",
   "execution_count": 24,
   "metadata": {},
   "outputs": [],
   "source": [
    "sample_nb = 0\n",
    "for image in label_ar:\n",
    "    np.save(\"dummies/label_\" + str(sample_nb)+\".npy\" , image)\n",
    "    sample_nb +=1"
   ]
  },
  {
   "cell_type": "code",
   "execution_count": 26,
   "metadata": {},
   "outputs": [],
   "source": [
    "sample_nb = 0\n",
    "for vid in image_ar:\n",
    "    np.save(\"dummies/video_\" + str(sample_nb)+\".npy\" , vid)\n",
    "    sample_nb +=1"
   ]
  },
  {
   "cell_type": "code",
   "execution_count": null,
   "metadata": {},
   "outputs": [],
   "source": []
  }
 ],
 "metadata": {
  "kernelspec": {
   "display_name": "Python 3",
   "language": "python",
   "name": "python3"
  },
  "language_info": {
   "codemirror_mode": {
    "name": "ipython",
    "version": 3
   },
   "file_extension": ".py",
   "mimetype": "text/x-python",
   "name": "python",
   "nbconvert_exporter": "python",
   "pygments_lexer": "ipython3",
   "version": "3.5.5"
  }
 },
 "nbformat": 4,
 "nbformat_minor": 2
}
