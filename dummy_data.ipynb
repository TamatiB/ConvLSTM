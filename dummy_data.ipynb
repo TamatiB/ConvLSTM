{
 "cells": [
  {
   "cell_type": "markdown",
   "metadata": {},
   "source": [
    "# TOY PROBLEM"
   ]
  },
  {
   "cell_type": "markdown",
   "metadata": {},
   "source": [
    "Here we generate dummy calcium fluorescence images that are easy to sgment. The data for our toy problem."
   ]
  },
  {
   "cell_type": "code",
   "execution_count": 44,
   "metadata": {},
   "outputs": [
    {
     "name": "stderr",
     "output_type": "stream",
     "text": [
      "/home/pelonomi/anaconda3/envs/tensorflowenv/lib/python3.5/importlib/_bootstrap.py:222: RuntimeWarning: numpy.dtype size changed, may indicate binary incompatibility. Expected 96, got 88\n",
      "  return f(*args, **kwds)\n"
     ]
    }
   ],
   "source": [
    "import numpy as np\n",
    "import pylab as plt\n",
    "import matplotlib.pyplot as mplt\n",
    "from scipy.misc import imread, imsave\n",
    "from glob import glob\n",
    "from PIL import Image\n",
    "\n",
    "from skimage import data, color\n",
    "%matplotlib inline"
   ]
  },
  {
   "cell_type": "code",
   "execution_count": 304,
   "metadata": {},
   "outputs": [],
   "source": [
    "def generate_movies(n_samples=1200, n_frames=15):\n",
    "    row = 80\n",
    "    col = 80\n",
    "    noisy_movies = np.zeros((n_samples, n_frames, row, col, 1), dtype=np.float)\n",
    "    shifted_movies = np.zeros((n_samples, n_frames, row, col, 1),\n",
    "                              dtype=np.float)\n",
    "\n",
    "    for i in range(n_samples):\n",
    "        # Add 3 to 7 moving squares\n",
    "        n = np.random.randint(3, 8)\n",
    "\n",
    "        for j in range(n):\n",
    "            # Initial position\n",
    "            xstart = np.random.randint(20, 60)\n",
    "            ystart = np.random.randint(20, 60)\n",
    "            # Direction of motion\n",
    "            directionx = np.random.randint(0, 3) - 1\n",
    "            directiony = np.random.randint(0, 3) - 1\n",
    "\n",
    "            # Size of the square\n",
    "            w = np.random.randint(2, 4)\n",
    "\n",
    "            for t in range(n_frames):\n",
    "                x_shift = xstart + directionx * t\n",
    "                y_shift = ystart + directiony * t\n",
    "                noisy_movies[i, t, x_shift - w: x_shift + w,\n",
    "                             y_shift - w: y_shift + w, 0] += 1\n",
    "\n",
    "                # Make it more robust by adding noise.\n",
    "                # The idea is that if during inference,\n",
    "                # the value of the pixel is not exactly one,\n",
    "                # we need to train the network to be robust and still\n",
    "                # consider it as a pixel belonging to a square.\n",
    "                if np.random.randint(0, 2):\n",
    "                    noise_f = (-1)**np.random.randint(0, 2)\n",
    "                    noisy_movies[i, t,\n",
    "                                 x_shift - w - 1: x_shift + w + 1,\n",
    "                                 y_shift - w - 1: y_shift + w + 1,\n",
    "                                 0] += noise_f * 0.1\n",
    "\n",
    "                # Shift the ground truth by 1\n",
    "                x_shift = xstart + directionx * (t + 1)\n",
    "                y_shift = ystart + directiony * (t + 1)\n",
    "                shifted_movies[i, t, x_shift - w: x_shift + w,\n",
    "                               y_shift - w: y_shift + w, 0] += 1\n",
    "\n",
    "    # Cut to a 40x40 window\n",
    "    noisy_movies = noisy_movies[::, ::, 20:60, 20:60, ::]\n",
    "    shifted_movies = shifted_movies[::, ::, 20:60, 20:60, ::]\n",
    "    noisy_movies[noisy_movies >= 1] = 1\n",
    "    shifted_movies[shifted_movies >= 1] = 1\n",
    "    return noisy_movies, shifted_movies"
   ]
  },
  {
   "cell_type": "code",
   "execution_count": 305,
   "metadata": {},
   "outputs": [],
   "source": [
    "noisy_movies, shifted_movies = generate_movies(n_samples=1200)"
   ]
  },
  {
   "cell_type": "markdown",
   "metadata": {},
   "source": [
    "There are 1200 noisy movies of 15 frames each. They are 40px by 40px and single channel (greyscale)"
   ]
  },
  {
   "cell_type": "code",
   "execution_count": 307,
   "metadata": {},
   "outputs": [
    {
     "name": "stdout",
     "output_type": "stream",
     "text": [
      "(array([12, 12, 12, 12, 12, 12, 12, 12, 12, 13, 13, 13, 13, 13, 13, 13, 13,\n",
      "       13, 14, 14, 14, 14, 14, 14, 14, 14, 14, 15, 15, 15, 15, 15, 15, 15,\n",
      "       15, 15, 16, 16, 16, 16, 16, 16, 17, 17, 17, 17, 17, 17, 24, 24, 24,\n",
      "       24, 25, 25, 25, 25, 26, 26, 26, 26, 26, 26, 26, 26, 27, 27, 27, 27,\n",
      "       27, 27, 27, 27, 28, 28, 28, 28, 28, 28, 29, 29, 29, 29, 29, 29, 30,\n",
      "       30, 30, 30, 30, 30, 30, 30, 30, 30, 31, 31, 31, 31, 31, 31, 31, 31,\n",
      "       31, 31, 31, 31, 31, 31, 31, 31, 31, 31, 32, 32, 32, 32, 32, 32, 32,\n",
      "       32, 32, 32, 32, 32, 33, 33, 33, 33, 33, 33, 33, 33, 33, 33, 33, 33,\n",
      "       34, 34, 34, 34, 34, 34, 34, 34, 35, 35, 35, 35, 35, 35, 35, 35, 36,\n",
      "       36, 36, 36, 36, 36, 36, 36, 37, 37, 37, 37, 37, 37, 37, 37, 37, 38,\n",
      "       38, 38, 38, 38, 38, 38, 38, 39, 39, 39, 39, 39, 39]), array([26, 27, 28, 29, 30, 31, 37, 38, 39, 26, 27, 28, 29, 30, 31, 37, 38,\n",
      "       39, 26, 27, 28, 29, 30, 31, 37, 38, 39, 26, 27, 28, 29, 30, 31, 37,\n",
      "       38, 39, 26, 27, 28, 29, 30, 31, 26, 27, 28, 29, 30, 31, 15, 16, 17,\n",
      "       18, 15, 16, 17, 18, 11, 12, 13, 14, 15, 16, 17, 18, 11, 12, 13, 14,\n",
      "       15, 16, 17, 18, 11, 12, 13, 14, 15, 16, 11, 12, 13, 14, 15, 16, 11,\n",
      "       12, 13, 14, 15, 16, 32, 33, 34, 35, 11, 12, 13, 14, 15, 16, 19, 20,\n",
      "       21, 22, 23, 24, 25, 26, 32, 33, 34, 35, 19, 20, 21, 22, 23, 24, 25,\n",
      "       26, 32, 33, 34, 35, 19, 20, 21, 22, 23, 24, 25, 26, 32, 33, 34, 35,\n",
      "       19, 20, 21, 22, 23, 24, 25, 26, 19, 20, 21, 22, 23, 24, 25, 26, 19,\n",
      "       20, 21, 22, 23, 24, 25, 27, 19, 20, 21, 22, 23, 24, 25, 26, 27, 19,\n",
      "       20, 21, 23, 24, 25, 26, 27, 22, 23, 24, 25, 26, 27]), array([0, 0, 0, 0, 0, 0, 0, 0, 0, 0, 0, 0, 0, 0, 0, 0, 0, 0, 0, 0, 0, 0,\n",
      "       0, 0, 0, 0, 0, 0, 0, 0, 0, 0, 0, 0, 0, 0, 0, 0, 0, 0, 0, 0, 0, 0,\n",
      "       0, 0, 0, 0, 0, 0, 0, 0, 0, 0, 0, 0, 0, 0, 0, 0, 0, 0, 0, 0, 0, 0,\n",
      "       0, 0, 0, 0, 0, 0, 0, 0, 0, 0, 0, 0, 0, 0, 0, 0, 0, 0, 0, 0, 0, 0,\n",
      "       0, 0, 0, 0, 0, 0, 0, 0, 0, 0, 0, 0, 0, 0, 0, 0, 0, 0, 0, 0, 0, 0,\n",
      "       0, 0, 0, 0, 0, 0, 0, 0, 0, 0, 0, 0, 0, 0, 0, 0, 0, 0, 0, 0, 0, 0,\n",
      "       0, 0, 0, 0, 0, 0, 0, 0, 0, 0, 0, 0, 0, 0, 0, 0, 0, 0, 0, 0, 0, 0,\n",
      "       0, 0, 0, 0, 0, 0, 0, 0, 0, 0, 0, 0, 0, 0, 0, 0, 0, 0, 0, 0, 0, 0,\n",
      "       0, 0, 0, 0, 0, 0, 0]))\n"
     ]
    },
    {
     "data": {
      "image/png": "[encoded data removed]",
      "text/plain": [
       "<Figure size 432x288 with 1 Axes>"
      ]
     },
     "metadata": {
      "needs_background": "light"
     },
     "output_type": "display_data"
    }
   ],
   "source": [
    "one_pic = noisy_movies[0][0]\n",
    "print(np.nonzero(one_pic))\n",
    "mplt.figure()\n",
    "mplt.imshow(np.reshape(one_pic, (1,40,40))[0])\n",
    "mplt.show()"
   ]
  },
  {
   "cell_type": "code",
   "execution_count": 30,
   "metadata": {},
   "outputs": [],
   "source": [
    "def generate_movies(n_samples=1200, n_frames=15):\n",
    "    row = 80\n",
    "    col = 80\n",
    "    noisy_movies = np.zeros((n_samples, n_frames, row, col, 1), dtype=np.float)\n",
    "    shifted_movies = np.zeros((n_samples, n_frames, row, col, 1),\n",
    "                              dtype=np.float)\n",
    "    # FOR EACH VIDEO\n",
    "    for i in range(n_samples):\n",
    "        # Add 3 to 7 moving squares\n",
    "        n = np.random.randint(3, 8)\n",
    "\n",
    "        # FOR NUMBER OF OBJECTS IN THE VIDEO\n",
    "        for j in range(n):\n",
    "            # Initial position\n",
    "            xstart = np.random.randint(20, 60)\n",
    "            ystart = np.random.randint(20, 60)\n",
    "            # Direction of motion\n",
    "            directionx = np.random.randint(0, 3) - 1\n",
    "            directiony = np.random.randint(0, 3) - 1\n",
    "\n",
    "            # Size of the square\n",
    "            w = np.random.randint(2, 4)\n",
    "\n",
    "            for t in range(n_frames):\n",
    "                x_shift = xstart \n",
    "                y_shift = ystart \n",
    "                noisy_movies[i, t, x_shift - w: x_shift + w,\n",
    "                             y_shift - w: y_shift + w, 0] += 1\n",
    "\n",
    "                # Make it more robust by adding noise.\n",
    "                # The idea is that if during inference,\n",
    "                # the value of the pixel is not exactly one,\n",
    "                # we need to train the network to be robust and still\n",
    "                # consider it as a pixel belonging to a square.\n",
    "                if np.random.randint(0, 2):\n",
    "                    noise_f = (-1)**np.random.randint(0, 2)\n",
    "                    noisy_movies[i, t,\n",
    "                                 x_shift - w - 1: x_shift + w + 1,\n",
    "                                 y_shift - w - 1: y_shift + w + 1,\n",
    "                                 0] += noise_f * 0.1\n",
    "\n",
    "                # Shift the ground truth by 1 (ground truth movie)\n",
    "                x_shift = xstart + directionx * (t + 1)\n",
    "                y_shift = ystart + directiony * (t + 1)\n",
    "                shifted_movies[i, t, x_shift - w: x_shift + w,\n",
    "                               y_shift - w: y_shift + w, 0] += 1\n",
    "\n",
    "    # Cut to a 40x40 window\n",
    "    #noisy_movies = noisy_movies[::, ::, 20:60, 20:60, ::]\n",
    "    #shifted_movies = shifted_movies[::, ::, 20:60, 20:60, ::]\n",
    "    \n",
    "    noisy_movies[noisy_movies >= 1] = 1\n",
    "    shifted_movies[shifted_movies >= 1] = 1\n",
    "    return noisy_movies, shifted_movies\n"
   ]
  },
  {
   "cell_type": "code",
   "execution_count": 31,
   "metadata": {},
   "outputs": [
    {
     "data": {
      "image/png": "[encoded data removed]",
      "text/plain": [
       "<Figure size 432x288 with 1 Axes>"
      ]
     },
     "metadata": {
      "needs_background": "light"
     },
     "output_type": "display_data"
    }
   ],
   "source": [
    "noisy_movies, shifted_movies = generate_movies(n_samples=1)\n",
    "one_pic = noisy_movies[0][0]\n",
    "mplt.figure()\n",
    "#reshape so it can be drawn\n",
    "mplt.imshow(np.reshape(one_pic, (1,one_pic.shape[0],one_pic.shape[0]))[0])\n",
    "mplt.show()"
   ]
  },
  {
   "cell_type": "code",
   "execution_count": 32,
   "metadata": {},
   "outputs": [
    {
     "data": {
      "text/plain": [
       "(1, 15, 80, 80, 1)"
      ]
     },
     "execution_count": 32,
     "metadata": {},
     "output_type": "execute_result"
    }
   ],
   "source": [
    "noisy_movies.shape"
   ]
  },
  {
   "cell_type": "code",
   "execution_count": 288,
   "metadata": {},
   "outputs": [
    {
     "name": "stdout",
     "output_type": "stream",
     "text": [
      "(512, 512, 3)\n"
     ]
    },
    {
     "data": {
      "image/png": "[encoded data removed]",
      "text/plain": [
       "<Figure size 432x288 with 1 Axes>"
      ]
     },
     "metadata": {
      "needs_background": "light"
     },
     "output_type": "display_data"
    },
    {
     "name": "stdout",
     "output_type": "stream",
     "text": [
      "(512, 512)\n"
     ]
    },
    {
     "data": {
      "image/png": "[encoded data removed]",
      "text/plain": [
       "<Figure size 432x288 with 1 Axes>"
      ]
     },
     "metadata": {
      "needs_background": "light"
     },
     "output_type": "display_data"
    },
    {
     "data": {
      "text/plain": [
       "255"
      ]
     },
     "execution_count": 288,
     "metadata": {},
     "output_type": "execute_result"
    }
   ],
   "source": [
    "img = np.zeros((512,512,3), np.uint16)\n",
    "array = cv2.circle(img,(447,63), 63, (0,0,255), -1)\n",
    "new = cv2.circle(array,(50,63), 12, (255,255,255), -1)\n",
    "gray_image = cv2.cvtColor(new, cv2.COLOR_BGR2GRAY)\n",
    "print(new.shape)\n",
    "mplt.imshow(new)\n",
    "mplt.show()\n",
    "\n",
    "mplt.imshow(gray_image, cmap = \"Greys\")\n",
    "print(gray_image.shape)\n",
    "mplt.show()\n",
    "\n",
    "np.max(new)"
   ]
  },
  {
   "cell_type": "code",
   "execution_count": 196,
   "metadata": {},
   "outputs": [],
   "source": [
    "def hex_to_RGB(hex):\n",
    "    ''' \"#FFFFFF\" -> [255,255,255] '''\n",
    "    # Pass 16 to the integer function for change of base\n",
    "    return [int(hex[i:i+2], 16) for i in range(1,6,2)]\n",
    "\n",
    "def RGB_to_hex(RGB):\n",
    "    ''' [255,255,255] -> \"#FFFFFF\" '''\n",
    "    # Components need to be integers for hex to make sense\n",
    "    RGB = [int(x) for x in RGB]\n",
    "    return \"#\"+\"\".join([\"0{0:x}\".format(v) if v < 16 else\n",
    "            \"{0:x}\".format(v) for v in RGB])\n",
    "\n",
    "def color_dict(gradient):\n",
    "    return {\"hex\":[RGB_to_hex(RGB) for RGB in gradient],\n",
    "        \"r\":[RGB[0] for RGB in gradient],\n",
    "        \"g\":[RGB[1] for RGB in gradient],\n",
    "        \"b\":[RGB[2] for RGB in gradient]}\n",
    "\n",
    "\n",
    "def linear_gradient(start_hex = \"#000000\" , finish_hex=\"#FFFFFF\", n=10):\n",
    "    s = hex_to_RGB(start_hex)\n",
    "    f = hex_to_RGB(finish_hex)\n",
    "  # Initilize a list of the output colors with the starting color\n",
    "    RGB_list = [s]\n",
    "  # Calcuate a color at each evenly spaced value of t from 1 to n\n",
    "    for t in range(1, n):\n",
    "    # Interpolate RGB vector for color at the current value of t\n",
    "        curr_vector = [\n",
    "            int(s[j] + (float(t)/(n-1))*(f[j]-s[j]))\n",
    "            for j in range(3)\n",
    "        ]\n",
    "    # Add it to our list of output colors\n",
    "        RGB_list.append(curr_vector)\n",
    "\n",
    "    return color_dict(RGB_list)"
   ]
  },
  {
   "cell_type": "code",
   "execution_count": 197,
   "metadata": {},
   "outputs": [],
   "source": [
    "def random_color():\n",
    "    rgbl=[255,0,0]\n",
    "    np.random.shuffle(rgbl)\n",
    "    return tuple(rgbl)"
   ]
  },
  {
   "cell_type": "code",
   "execution_count": 200,
   "metadata": {
    "scrolled": true
   },
   "outputs": [
    {
     "data": {
      "text/plain": [
       "{'b': [0, 28, 56, 85, 113, 141, 170, 198, 226, 255],\n",
       " 'g': [0, 28, 56, 85, 113, 141, 170, 198, 226, 255],\n",
       " 'hex': ['#000000',\n",
       "  '#1c1c1c',\n",
       "  '#383838',\n",
       "  '#555555',\n",
       "  '#717171',\n",
       "  '#8d8d8d',\n",
       "  '#aaaaaa',\n",
       "  '#c6c6c6',\n",
       "  '#e2e2e2',\n",
       "  '#ffffff'],\n",
       " 'r': [0, 28, 56, 85, 113, 141, 170, 198, 226, 255]}"
      ]
     },
     "execution_count": 200,
     "metadata": {},
     "output_type": "execute_result"
    }
   ],
   "source": [
    "linear_gradient()"
   ]
  },
  {
   "cell_type": "code",
   "execution_count": 356,
   "metadata": {},
   "outputs": [],
   "source": [
    "def generate_movies(n_samples=1200, n_frames=15):\n",
    "    row = 100\n",
    "    col = 100\n",
    "    #noisy_movies = np.zeros((n_samples, n_frames, row, col), np.uint16)\n",
    "    noisy_movies = np.zeros((n_samples, n_frames, row, col, 1), dtype=np.float)\n",
    "    groundtruth_movies = np.zeros((n_samples, n_frames, row, col, 1), dtype=np.float)\n",
    "    # FOR EACH VIDEO\n",
    "    for i in range(n_samples):\n",
    "        # Add 10 to 30 neurons\n",
    "        n = np.random.randint(3, 8)\n",
    "        n = 5\n",
    "\n",
    "        # FOR NUMBER OF neurons IN THE VIDEO\n",
    "        for j in range(n):\n",
    "            # Initial position\n",
    "            xstart = np.random.randint(5, row-5)\n",
    "            ystart = np.random.randint(5, col-5)\n",
    "         \n",
    "            # Size of the square\n",
    "            w = np.random.randint(7, 10)\n",
    "\n",
    "            for t in range(n_frames):\n",
    "                #colour gradient\n",
    "                colour = random_color()\n",
    "                factor = (t+(n^2))*5\n",
    "                #temp = np.zeros((n_samples, n_frames, row, col, 3), np.uint8)\n",
    "                #new = cv2.circle(temp[i, t],(xstart, ystart), w, random_color(), -1)\n",
    "                #gray_image = cv2.cvtColor(new, cv2.COLOR_BGR2GRAY)\n",
    "                #print(gray_image.shape)\n",
    "                #print(np.max(gray_image))\n",
    "\n",
    "                new = cv2.circle(noisy_movies[i, t],(xstart, ystart), w, factor, -1)\n",
    "                #new = cv2.circle(noisy_movies[i, t],(xstart, ystart), w, factor, -1)\n",
    "\n",
    "                #print(np.max(new))\n",
    "                new[new>0] = factor\n",
    "                #print(new.shape)\n",
    "                #mplt.imshow(new)\n",
    "                #mplt.show()\n",
    "                print(np.max(new))\n",
    "\n",
    "                noisy_movies[i, t] = new/np.max(new)\n",
    "                #print(noisy_movies[i,t])\n",
    "                #mplt.imshow(gray_image)\n",
    "                #mplt.show()\n",
    "                #print(noisy_movies.shape)\n",
    "\n",
    "                # Make it more robust by adding noise.\n",
    "                # The idea is that if during inference,\n",
    "                # the value of the pixel is not exactly one,\n",
    "                # we need to train the network to be robust and still\n",
    "                # consider it as a pixel belonging to a square.\n",
    "#                 if np.random.randint(0, 2):\n",
    "#                     noise_f = (-1)**np.random.randint(0, 2)\n",
    "#                     noisy_movies[i, t,\n",
    "#                                  x_shift - w - 1: x_shift + w + 1,\n",
    "#                                  y_shift - w - 1: y_shift + w + 1,\n",
    "#                                  0] += noise_f * 0.1\n",
    "\n",
    "#                 # Shift the ground truth by 1\n",
    "#                 x_shift = xstart + directionx * (t + 1)\n",
    "#                 y_shift = ystart + directiony * (t + 1)\n",
    "#                 groundtruth_movies[i, t, x_shift - w: x_shift + w,\n",
    "#                                y_shift - w: y_shift + w, 0] += 1\n",
    "\n",
    "    # Cut to a 40x40 window\n",
    "    #noisy_movies = noisy_movies[::, ::, 20:60, 20:60, ::]\n",
    "    #shifted_movies = shifted_movies[::, ::, 20:60, 20:60, ::]\n",
    "    #noisy_movies[noisy_movies >= 1] = 1\n",
    "    #groundtruth_movies[groundtruth_movies >= 1] = 1\n",
    "    return noisy_movies, groundtruth_movies"
   ]
  },
  {
   "cell_type": "code",
   "execution_count": 357,
   "metadata": {},
   "outputs": [
    {
     "name": "stdout",
     "output_type": "stream",
     "text": [
      "15.0\n",
      "0.0\n",
      "0.0\n",
      "0.0\n",
      "35.0\n",
      "40.0\n",
      "45.0\n",
      "50.0\n",
      "55.0\n",
      "0.0\n",
      "65.0\n",
      "70.0\n",
      "75.0\n",
      "80.0\n",
      "0.0\n"
     ]
    },
    {
     "name": "stderr",
     "output_type": "stream",
     "text": [
      "/home/pelonomi/anaconda3/envs/tensorflowenv/lib/python3.5/site-packages/ipykernel_launcher.py:43: RuntimeWarning: invalid value encountered in true_divide\n"
     ]
    },
    {
     "data": {
      "image/png": "[encoded data removed]",
      "text/plain": [
       "<Figure size 432x288 with 1 Axes>"
      ]
     },
     "metadata": {
      "needs_background": "light"
     },
     "output_type": "display_data"
    },
    {
     "name": "stderr",
     "output_type": "stream",
     "text": [
      "/home/pelonomi/anaconda3/envs/tensorflowenv/lib/python3.5/site-packages/matplotlib/image.py:405: UserWarning: Warning: converting a masked element to nan.\n",
      "  dv = (np.float64(self.norm.vmax) -\n",
      "/home/pelonomi/anaconda3/envs/tensorflowenv/lib/python3.5/site-packages/matplotlib/image.py:406: UserWarning: Warning: converting a masked element to nan.\n",
      "  np.float64(self.norm.vmin))\n",
      "/home/pelonomi/anaconda3/envs/tensorflowenv/lib/python3.5/site-packages/matplotlib/image.py:412: UserWarning: Warning: converting a masked element to nan.\n",
      "  a_min = np.float64(newmin)\n",
      "/home/pelonomi/anaconda3/envs/tensorflowenv/lib/python3.5/site-packages/matplotlib/image.py:417: UserWarning: Warning: converting a masked element to nan.\n",
      "  a_max = np.float64(newmax)\n",
      "/home/pelonomi/anaconda3/envs/tensorflowenv/lib/python3.5/site-packages/matplotlib/colors.py:916: UserWarning: Warning: converting a masked element to nan.\n",
      "  dtype = np.min_scalar_type(value)\n",
      "/home/pelonomi/anaconda3/envs/tensorflowenv/lib/python3.5/site-packages/numpy/ma/core.py:715: UserWarning: Warning: converting a masked element to nan.\n",
      "  data = np.array(a, copy=False, subok=subok)\n"
     ]
    },
    {
     "data": {
      "image/png": "[encoded data removed]",
      "text/plain": [
       "<Figure size 432x288 with 1 Axes>"
      ]
     },
     "metadata": {
      "needs_background": "light"
     },
     "output_type": "display_data"
    },
    {
     "data": {
      "image/png": "[encoded data removed]",
      "text/plain": [
       "<Figure size 432x288 with 1 Axes>"
      ]
     },
     "metadata": {
      "needs_background": "light"
     },
     "output_type": "display_data"
    },
    {
     "data": {
      "image/png": "[encoded data removed]",
      "text/plain": [
       "<Figure size 432x288 with 1 Axes>"
      ]
     },
     "metadata": {
      "needs_background": "light"
     },
     "output_type": "display_data"
    },
    {
     "data": {
      "image/png": "[encoded data removed]",
      "text/plain": [
       "<Figure size 432x288 with 1 Axes>"
      ]
     },
     "metadata": {
      "needs_background": "light"
     },
     "output_type": "display_data"
    },
    {
     "data": {
      "image/png": "[encoded data removed]",
      "text/plain": [
       "<Figure size 432x288 with 1 Axes>"
      ]
     },
     "metadata": {
      "needs_background": "light"
     },
     "output_type": "display_data"
    },
    {
     "data": {
      "image/png": "[encoded data removed]",
      "text/plain": [
       "<Figure size 432x288 with 1 Axes>"
      ]
     },
     "metadata": {
      "needs_background": "light"
     },
     "output_type": "display_data"
    },
    {
     "data": {
      "image/png": "[encoded data removed]",
      "text/plain": [
       "<Figure size 432x288 with 1 Axes>"
      ]
     },
     "metadata": {
      "needs_background": "light"
     },
     "output_type": "display_data"
    },
    {
     "data": {
      "image/png": "[encoded data removed]",
      "text/plain": [
       "<Figure size 432x288 with 1 Axes>"
      ]
     },
     "metadata": {
      "needs_background": "light"
     },
     "output_type": "display_data"
    },
    {
     "data": {
      "image/png": "[encoded data removed]",
      "text/plain": [
       "<Figure size 432x288 with 1 Axes>"
      ]
     },
     "metadata": {
      "needs_background": "light"
     },
     "output_type": "display_data"
    },
    {
     "data": {
      "image/png": "[encoded data removed]",
      "text/plain": [
       "<Figure size 432x288 with 1 Axes>"
      ]
     },
     "metadata": {
      "needs_background": "light"
     },
     "output_type": "display_data"
    },
    {
     "data": {
      "image/png": "[encoded data removed]",
      "text/plain": [
       "<Figure size 432x288 with 1 Axes>"
      ]
     },
     "metadata": {
      "needs_background": "light"
     },
     "output_type": "display_data"
    },
    {
     "data": {
      "image/png": "[encoded data removed]",
      "text/plain": [
       "<Figure size 432x288 with 1 Axes>"
      ]
     },
     "metadata": {
      "needs_background": "light"
     },
     "output_type": "display_data"
    },
    {
     "data": {
      "image/png": "[encoded data removed]",
      "text/plain": [
       "<Figure size 432x288 with 1 Axes>"
      ]
     },
     "metadata": {
      "needs_background": "light"
     },
     "output_type": "display_data"
    },
    {
     "data": {
      "image/png": "[encoded data removed]",
      "text/plain": [
       "<Figure size 432x288 with 1 Axes>"
      ]
     },
     "metadata": {
      "needs_background": "light"
     },
     "output_type": "display_data"
    }
   ],
   "source": [
    "noisy_movies, shifted_movies = generate_movies(n_samples=1)\n",
    "one_pic = noisy_movies[0][0]\n",
    "mplt.figure()\n",
    "#reshape so it can be drawn\n",
    "for arr in noisy_movies[0]: \n",
    "    plot = np.reshape(arr, (1,arr.shape[0],arr.shape[0]))\n",
    "    mplt.imshow(plot[0], cmap=plt.cm.BuPu_r)\n",
    "    mplt.show()"
   ]
  },
  {
   "cell_type": "code",
   "execution_count": 355,
   "metadata": {},
   "outputs": [
    {
     "name": "stdout",
     "output_type": "stream",
     "text": [
      "(100, 100, 1)\n"
     ]
    },
    {
     "data": {
      "text/plain": [
       "array([1., 1., 1., 1., 1., 1., 1., 1., 1., 1., 1., 1., 1., 1., 1., 1., 1.,\n",
       "       1., 1., 1., 1., 1., 1., 1., 1., 1., 1., 1., 1., 1., 1., 1.])"
      ]
     },
     "execution_count": 355,
     "metadata": {},
     "output_type": "execute_result"
    }
   ],
   "source": [
    "picture = noisy_movies[0][2]\n",
    "print(picture.shape)\n",
    "picture[np.nonzero(picture)]"
   ]
  },
  {
   "cell_type": "code",
   "execution_count": 322,
   "metadata": {},
   "outputs": [
    {
     "name": "stdout",
     "output_type": "stream",
     "text": [
      "<class 'numpy.ndarray'>\n"
     ]
    },
    {
     "data": {
      "image/png": "[encoded data removed]",
      "text/plain": [
       "<Figure size 432x288 with 1 Axes>"
      ]
     },
     "metadata": {
      "needs_background": "light"
     },
     "output_type": "display_data"
    },
    {
     "data": {
      "image/png": "[encoded data removed]",
      "text/plain": [
       "<Figure size 432x288 with 1 Axes>"
      ]
     },
     "metadata": {
      "needs_background": "light"
     },
     "output_type": "display_data"
    }
   ],
   "source": [
    "ar =np.reshape(picture, (1,40,40))\n",
    "ar = ar[0]\n",
    "from PIL import Image\n",
    "print(type(ar))\n",
    "im = Image.fromarray(ar)\n",
    "mplt.imshow(im)\n",
    "mplt.show()\n",
    "\n",
    "mplt.imshow(ar)\n",
    "mplt.show()\n",
    "\n"
   ]
  },
  {
   "cell_type": "code",
   "execution_count": 256,
   "metadata": {},
   "outputs": [],
   "source": [
    "\n",
    "def display_image(image, size = (5,5)):\n",
    "    fig = plt.figure(figsize=size)\n",
    "    x = len(image)\n",
    "    y = len(image[0])\n",
    "    img = np.zeros((x, y))\n",
    "    for row in range(x):\n",
    "        for col in range(y):\n",
    "            img[row,col] = image[row][col][0]\n",
    "\n",
    "    plt.imshow(img, cmap = 'gray')\n",
    "    plt.show()"
   ]
  },
  {
   "cell_type": "code",
   "execution_count": 259,
   "metadata": {},
   "outputs": [
    {
     "data": {
      "image/png": "[encoded data removed]",
      "text/plain": [
       "<Figure size 360x360 with 1 Axes>"
      ]
     },
     "metadata": {
      "needs_background": "light"
     },
     "output_type": "display_data"
    }
   ],
   "source": [
    "display_image(picture,(5,5))"
   ]
  },
  {
   "cell_type": "markdown",
   "metadata": {},
   "source": [
    "FRAME SYNTHESIS\n",
    "\n",
    "So this is a function which creates a plot that has a gaussian blur around each of the neurons based on a gaussian value and a standard deviation value. It produces one frame at a time"
   ]
  },
  {
   "cell_type": "code",
   "execution_count": 254,
   "metadata": {},
   "outputs": [],
   "source": [
    "import numpy as np\n",
    "import sys\n",
    "\n",
    "\n",
    "def f(x,y,x0,y0,sx,sy):\n",
    "    return np.exp(-(x-x0)**2/2./sx**2 -(y-y0)**2/2./sy**2)\n",
    "\n",
    "def draw_frame(sx,sy, data, gaus_blur):\n",
    "    # gaus_blur FLOAT: the amount of spread of the glowing dot\n",
    "    # sx, sy FLOAT: standard deviation (degree of blur spread)\n",
    "    # data LIST: a list of x,y co-ordiante pairs of the positions of the neurons\n",
    "    #gaus_blur = 5.\n",
    "    xmin = data[0][0]\n",
    "    xmax = data[0][0]\n",
    "    ymin = data[0][1]\n",
    "    ymax = data[0][1]\n",
    "    for i in range(1, len(data)):\n",
    "        if(data[i][0] < xmin):\n",
    "            xmin = data[i][0]\n",
    "        if(data[i][0] > xmax):\n",
    "            xmax = data[i][0]\n",
    "        if(data[i][1] < ymin):\n",
    "            ymin = data[i][1]\n",
    "        if(data[i][1] > ymax):\n",
    "            ymax = data[i][1]\n",
    "\n",
    "    xmin -= gaus_blur*sx\n",
    "    xmax += gaus_blur*sx\n",
    "    ymin -= gaus_blur*sy\n",
    "    ymax += gaus_blur*sy\n",
    "\n",
    "    dx = (xmax - xmin) / 250.\n",
    "    dy = (ymax - ymin) / 250.\n",
    "    #print(dx)\n",
    "    #print(dy)\n",
    "\n",
    "    xar = []\n",
    "    yar =[]\n",
    "    val = []\n",
    "\n",
    "    for i in np.arange(xmin,xmax+dx, dx):\n",
    "        for j in np.arange(ymin,ymax+dy, dy):\n",
    "            s = 0.\n",
    "            for k in range(0, len(data)):\n",
    "                d2 = (i - data[k][0])**2 + (j - data[k][1])**2\n",
    "                if( d2 < (gaus_blur*sx)**2 + (gaus_blur*sy)**2):\n",
    "                    s += f(i,j,data[k][0],data[k][1],sx,sy)\n",
    "            xar.append(i)\n",
    "            yar.append(j)\n",
    "            val.append(s)\n",
    "    \n",
    "    \n",
    "\n",
    "    fig = mplt.figure(frameon=False)\n",
    "    ax = fig.add_axes([0.,0.,1.,1.])\n",
    "    ax.set_axis_off()\n",
    "    \n",
    "    #ax.axis('off')\n",
    "    fig.add_axes(ax)\n",
    "    #mplt.imshow(img,cmap=\"gray\")\n",
    "    #mplt.tick_params(axis='both', which='both', bottom=False, top=False, labelbottom=False, right=False, left=False, labelleft=False)\n",
    "    mplt.scatter(xar, yar, c=val, cmap = \"Greys_r\")\n",
    "    \n",
    "    fig.canvas.draw()\n",
    "    width, height = fig.get_size_inches() * fig.get_dpi()\n",
    "    mplimage = np.frombuffer(fig.canvas.tostring_rgb(), dtype='uint8').reshape(int(height), int(width), 3)\n",
    "    mplt.close(fig)\n",
    "    gray_image = color.rgb2gray(mplimage)\n",
    "    \n",
    "    # The slicing is necessary to get rid of the white frame\n",
    "    slice_val = 16\n",
    "    crop_img = gray_image[slice_val:-slice_val, slice_val:-slice_val]\n",
    "\n",
    "    return crop_img\n",
    "\n",
    "\n",
    "            #print (i, j, s)"
   ]
  },
  {
   "cell_type": "markdown",
   "metadata": {},
   "source": [
    "DATA SYNTHESIS\n",
    "\n",
    "The create a fram function requires a set of datapoints defined by x-y positions to be plotted on the scatterplot and to calculate the gaussian blur arpund the plot."
   ]
  },
  {
   "cell_type": "code",
   "execution_count": 4,
   "metadata": {},
   "outputs": [],
   "source": [
    "def synthesize_datapoints(number_neurons, img_size):\n",
    "    # number_neurons LIST: the range of minimum and maximum neurons in an image sequence\n",
    "    # img_size LIST: the size of the image, mim max positions of neurons\n",
    "    n_neurons = np.random.randint(number_neurons[0],number_neurons[1])\n",
    "    data = []\n",
    "    xmax = 0\n",
    "    ymax = 0\n",
    "    for n in range(n_neurons):\n",
    "        xpos = np.random.randint(0, img_size[0])\n",
    "        ypos = np.random.randint(0, img_size[1])\n",
    "        data.append([xpos,ypos])\n",
    "        if xmax < xpos:\n",
    "            xmax = xpos\n",
    "        if ymax < ypos:\n",
    "            ymax = ypos\n",
    "    return data, [xmax,ymax]"
   ]
  },
  {
   "cell_type": "markdown",
   "metadata": {},
   "source": [
    "Here we are creating a test dataset with the dataset function"
   ]
  },
  {
   "cell_type": "code",
   "execution_count": 9,
   "metadata": {},
   "outputs": [
    {
     "data": {
      "text/plain": [
       "9"
      ]
     },
     "execution_count": 9,
     "metadata": {},
     "output_type": "execute_result"
    }
   ],
   "source": [
    "n_neurons = [6,10]\n",
    "image_size = [15,10]\n",
    "data4plot, [max_x, max_y] = synthesize_datapoints(n_neurons, image_size)\n",
    "len(data4plot)"
   ]
  },
  {
   "cell_type": "markdown",
   "metadata": {},
   "source": [
    "Here we test to see what the image looks like for a video sample. "
   ]
  },
  {
   "cell_type": "code",
   "execution_count": 178,
   "metadata": {},
   "outputs": [],
   "source": [
    "#sx and sy determine the size of the dot range [0.003 barely there 08 super big and blurry]\n",
    "# sx and sy are the standard deviations\n",
    "sx = 0.07\n",
    "sy = sx\n",
    "gausblur = 5\n",
    "plot = draw_frame(sx,sy,data4plot, gausblur)"
   ]
  },
  {
   "cell_type": "code",
   "execution_count": 179,
   "metadata": {},
   "outputs": [
    {
     "data": {
      "image/png": "[encoded data removed]",
      "text/plain": [
       "<Figure size 432x288 with 1 Axes>"
      ]
     },
     "metadata": {
      "needs_background": "light"
     },
     "output_type": "display_data"
    },
    {
     "data": {
      "text/plain": [
       "(256, 400)"
      ]
     },
     "execution_count": 179,
     "metadata": {},
     "output_type": "execute_result"
    }
   ],
   "source": [
    "mplt.imshow(plot, cmap = \"Greys_r\")\n",
    "mplt.show()\n",
    "plot.shape"
   ]
  },
  {
   "cell_type": "code",
   "execution_count": 186,
   "metadata": {},
   "outputs": [
    {
     "data": {
      "text/plain": [
       "(256, 400, 1)"
      ]
     },
     "execution_count": 186,
     "metadata": {},
     "output_type": "execute_result"
    }
   ],
   "source": [
    "long_plot = np.expand_dims(plot, axis = -1)\n",
    "long_plot.shape"
   ]
  },
  {
   "cell_type": "markdown",
   "metadata": {},
   "source": [
    "LABEL SYNTHESIS"
   ]
  },
  {
   "cell_type": "code",
   "execution_count": 253,
   "metadata": {},
   "outputs": [
    {
     "data": {
      "image/png": "[encoded data removed]",
      "text/plain": [
       "<Figure size 432x288 with 1 Axes>"
      ]
     },
     "metadata": {
      "needs_background": "light"
     },
     "output_type": "display_data"
    },
    {
     "data": {
      "text/plain": [
       "(256, 400)"
      ]
     },
     "execution_count": 253,
     "metadata": {},
     "output_type": "execute_result"
    }
   ],
   "source": [
    "#sx and sy determine the size of the dot range [0.003 barely there 08 super big and blurry]\n",
    "# sx and sy are the standard deviations\n",
    "sx = 0.2\n",
    "sy = sx\n",
    "gausblur = 0.5\n",
    "plot = draw_frame(sx,sy,data4plot, gausblur)\n",
    "mplt.imshow(plot, cmap = \"Greys_r\")\n",
    "mplt.show()\n",
    "plot.shape"
   ]
  },
  {
   "cell_type": "markdown",
   "metadata": {},
   "source": [
    "VIDEO AND LABEL PAIR SYNTHESIS\n",
    "\n",
    "This creates n_samples number of video sequences of length n_frames (defined by std deviations) as well as the label image which is calculated using a different standard deviation"
   ]
  },
  {
   "cell_type": "markdown",
   "metadata": {},
   "source": [
    "Here We generate our movies which is an array of (n_samples, n_frames, row, col, 1).\n",
    "We increment the std value for a number of frames and then decrease it again to create a glowing calcium response effect. They are not spontaneous. The responses are going to happen all at the same time."
   ]
  },
  {
   "cell_type": "code",
   "execution_count": 256,
   "metadata": {},
   "outputs": [],
   "source": [
    "std_array = [0.003, 0.015, 0.035, 0.040, 0.045, 0.050, 0.055, 0.06, 0.07, 0.08, 0.09]\n",
    "#n_frames is the length of the std array *2\n",
    "n_samples = 1\n",
    "n_frames = len(std_array)*2\n",
    "row = 256\n",
    "col = 400\n",
    "\n",
    "n_neurons = [6,10]\n",
    "image_size = [15,10]\n",
    "\n",
    "gausblur_vids = 5.\n",
    "gausblur_label = 2.\n",
    "\n",
    "neuron_movies = np.zeros((n_samples, n_frames, row, col, 1), dtype=np.float)\n",
    "movie_segs = np.zeros((n_samples, 1, row, col, 1), dtype=np.float)\n",
    "\n",
    "for sample in range(n_samples):\n",
    "    frame_n = 0 #this is a counter so that when we reveres the array we still have the right index\n",
    "    data4plot, [max_x, max_y] = synthesize_datapoints(n_neurons, image_size)\n",
    "    for std in std_array:\n",
    "        frame = draw_frame(std,std, data4plot, gausblur_vids)\n",
    "        neuron_movies[sample, frame_n ] = np.expand_dims(frame, axis = -1)\n",
    "        frame_n +=1\n",
    "    for std in reversed(std_array):\n",
    "        frame = draw_frame(std,std,data4plot, gausblur_vids)\n",
    "        neuron_movies[sample, frame_n ] = np.expand_dims(frame, axis = -1)\n",
    "        frame_n +=1\n",
    "    label = draw_frame(0.2,0.2,data4plot, gausblur_label)\n",
    "    movie_segs[sample, 0] = np.expand_dims(frame, axis = -1)\n",
    "    "
   ]
  },
  {
   "cell_type": "markdown",
   "metadata": {},
   "source": [
    "Check what is inside"
   ]
  },
  {
   "cell_type": "code",
   "execution_count": 257,
   "metadata": {},
   "outputs": [
    {
     "name": "stdout",
     "output_type": "stream",
     "text": [
      "(1, 22, 256, 400, 1)\n",
      "(1, 1, 256, 400, 1)\n"
     ]
    }
   ],
   "source": [
    "print(neuron_movies.shape)\n",
    "print(movie_segs.shape)"
   ]
  },
  {
   "cell_type": "code",
   "execution_count": null,
   "metadata": {},
   "outputs": [],
   "source": [
    "check_label = movie_segs[0][0]\n",
    "to_draw = check_label.reshape(1, check_label.shape[0], check_label.shape[1])\n",
    "mplt.imshow(to_draw[0])\n",
    "mplt.show()"
   ]
  }
 ],
 "metadata": {
  "kernelspec": {
   "display_name": "Python 3",
   "language": "python",
   "name": "python3"
  },
  "language_info": {
   "codemirror_mode": {
    "name": "ipython",
    "version": 3
   },
   "file_extension": ".py",
   "mimetype": "text/x-python",
   "name": "python",
   "nbconvert_exporter": "python",
   "pygments_lexer": "ipython3",
   "version": "3.5.5"
  }
 },
 "nbformat": 4,
 "nbformat_minor": 2
}
